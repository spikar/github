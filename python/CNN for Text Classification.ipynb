{
 "cells": [
  {
   "cell_type": "markdown",
   "metadata": {
    "id": "aOcD12b5aAnJ"
   },
   "source": [
    "Image and Code Source : https://github.com/PacktPublishing/Hands-On-Natural-Language-Processing-with-PyTorch-1.x/tree/master/Chapter06"
   ]
  },
  {
   "cell_type": "code",
   "execution_count": 2,
   "metadata": {
    "executionInfo": {
     "elapsed": 5255,
     "status": "ok",
     "timestamp": 1603625505538,
     "user": {
      "displayName": "Shaannoor Mann",
      "photoUrl": "",
      "userId": "02520257695567980696"
     },
     "user_tz": 300
    },
    "id": "1-xkat3J_LDu"
   },
   "outputs": [
    {
     "ename": "OSError",
     "evalue": "dlopen(/anaconda3/lib/python3.7/site-packages/torchtext/_torchtext.so, 6): Symbol not found: __ZN3c104impl23ExcludeDispatchKeyGuardC1ENS_14DispatchKeySetE\n  Referenced from: /anaconda3/lib/python3.7/site-packages/torchtext/_torchtext.so\n  Expected in: /anaconda3/lib/python3.7/site-packages/torch/lib/libc10.dylib\n in /anaconda3/lib/python3.7/site-packages/torchtext/_torchtext.so",
     "output_type": "error",
     "traceback": [
      "\u001b[0;31m---------------------------------------------------------------------------\u001b[0m",
      "\u001b[0;31mOSError\u001b[0m                                   Traceback (most recent call last)",
      "\u001b[0;32m<ipython-input-2-49fa97a7c848>\u001b[0m in \u001b[0;36m<module>\u001b[0;34m\u001b[0m\n\u001b[0;32m----> 1\u001b[0;31m \u001b[0;32mfrom\u001b[0m \u001b[0mtorchtext\u001b[0m \u001b[0;32mimport\u001b[0m \u001b[0mdata\u001b[0m\u001b[0;34m\u001b[0m\u001b[0;34m\u001b[0m\u001b[0m\n\u001b[0m\u001b[1;32m      2\u001b[0m \u001b[0;32mfrom\u001b[0m \u001b[0mtorchtext\u001b[0m \u001b[0;32mimport\u001b[0m \u001b[0mdatasets\u001b[0m\u001b[0;34m\u001b[0m\u001b[0;34m\u001b[0m\u001b[0m\n\u001b[1;32m      3\u001b[0m \u001b[0;32mimport\u001b[0m \u001b[0mtorch\u001b[0m\u001b[0;34m\u001b[0m\u001b[0;34m\u001b[0m\u001b[0m\n\u001b[1;32m      4\u001b[0m \u001b[0;32mimport\u001b[0m \u001b[0mspacy\u001b[0m\u001b[0;34m\u001b[0m\u001b[0;34m\u001b[0m\u001b[0m\n\u001b[1;32m      5\u001b[0m \u001b[0;32mimport\u001b[0m \u001b[0mrandom\u001b[0m\u001b[0;34m\u001b[0m\u001b[0;34m\u001b[0m\u001b[0m\n",
      "\u001b[0;32m/anaconda3/lib/python3.7/site-packages/torchtext/__init__.py\u001b[0m in \u001b[0;36m<module>\u001b[0;34m\u001b[0m\n\u001b[1;32m     38\u001b[0m \u001b[0;34m\u001b[0m\u001b[0m\n\u001b[1;32m     39\u001b[0m \u001b[0;34m\u001b[0m\u001b[0m\n\u001b[0;32m---> 40\u001b[0;31m \u001b[0m_init_extension\u001b[0m\u001b[0;34m(\u001b[0m\u001b[0;34m)\u001b[0m\u001b[0;34m\u001b[0m\u001b[0;34m\u001b[0m\u001b[0m\n\u001b[0m\u001b[1;32m     41\u001b[0m \u001b[0;34m\u001b[0m\u001b[0m\n\u001b[1;32m     42\u001b[0m \u001b[0;34m\u001b[0m\u001b[0m\n",
      "\u001b[0;32m/anaconda3/lib/python3.7/site-packages/torchtext/__init__.py\u001b[0m in \u001b[0;36m_init_extension\u001b[0;34m()\u001b[0m\n\u001b[1;32m     34\u001b[0m     \u001b[0;32mif\u001b[0m \u001b[0mext_specs\u001b[0m \u001b[0;32mis\u001b[0m \u001b[0;32mNone\u001b[0m\u001b[0;34m:\u001b[0m\u001b[0;34m\u001b[0m\u001b[0;34m\u001b[0m\u001b[0m\n\u001b[1;32m     35\u001b[0m         \u001b[0;32mraise\u001b[0m \u001b[0mImportError\u001b[0m\u001b[0;34m(\u001b[0m\u001b[0;34m\"torchtext C++ Extension is not found.\"\u001b[0m\u001b[0;34m)\u001b[0m\u001b[0;34m\u001b[0m\u001b[0;34m\u001b[0m\u001b[0m\n\u001b[0;32m---> 36\u001b[0;31m     \u001b[0mtorch\u001b[0m\u001b[0;34m.\u001b[0m\u001b[0mops\u001b[0m\u001b[0;34m.\u001b[0m\u001b[0mload_library\u001b[0m\u001b[0;34m(\u001b[0m\u001b[0mext_specs\u001b[0m\u001b[0;34m.\u001b[0m\u001b[0morigin\u001b[0m\u001b[0;34m)\u001b[0m\u001b[0;34m\u001b[0m\u001b[0;34m\u001b[0m\u001b[0m\n\u001b[0m\u001b[1;32m     37\u001b[0m     \u001b[0mtorch\u001b[0m\u001b[0;34m.\u001b[0m\u001b[0mclasses\u001b[0m\u001b[0;34m.\u001b[0m\u001b[0mload_library\u001b[0m\u001b[0;34m(\u001b[0m\u001b[0mext_specs\u001b[0m\u001b[0;34m.\u001b[0m\u001b[0morigin\u001b[0m\u001b[0;34m)\u001b[0m\u001b[0;34m\u001b[0m\u001b[0;34m\u001b[0m\u001b[0m\n\u001b[1;32m     38\u001b[0m \u001b[0;34m\u001b[0m\u001b[0m\n",
      "\u001b[0;32m/anaconda3/lib/python3.7/site-packages/torch/_ops.py\u001b[0m in \u001b[0;36mload_library\u001b[0;34m(self, path)\u001b[0m\n\u001b[1;32m    103\u001b[0m             \u001b[0;31m# static (global) initialization code in order to register custom\u001b[0m\u001b[0;34m\u001b[0m\u001b[0;34m\u001b[0m\u001b[0;34m\u001b[0m\u001b[0m\n\u001b[1;32m    104\u001b[0m             \u001b[0;31m# operators with the JIT.\u001b[0m\u001b[0;34m\u001b[0m\u001b[0;34m\u001b[0m\u001b[0;34m\u001b[0m\u001b[0m\n\u001b[0;32m--> 105\u001b[0;31m             \u001b[0mctypes\u001b[0m\u001b[0;34m.\u001b[0m\u001b[0mCDLL\u001b[0m\u001b[0;34m(\u001b[0m\u001b[0mpath\u001b[0m\u001b[0;34m)\u001b[0m\u001b[0;34m\u001b[0m\u001b[0;34m\u001b[0m\u001b[0m\n\u001b[0m\u001b[1;32m    106\u001b[0m         \u001b[0mself\u001b[0m\u001b[0;34m.\u001b[0m\u001b[0mloaded_libraries\u001b[0m\u001b[0;34m.\u001b[0m\u001b[0madd\u001b[0m\u001b[0;34m(\u001b[0m\u001b[0mpath\u001b[0m\u001b[0;34m)\u001b[0m\u001b[0;34m\u001b[0m\u001b[0;34m\u001b[0m\u001b[0m\n\u001b[1;32m    107\u001b[0m \u001b[0;34m\u001b[0m\u001b[0m\n",
      "\u001b[0;32m/anaconda3/lib/python3.7/ctypes/__init__.py\u001b[0m in \u001b[0;36m__init__\u001b[0;34m(self, name, mode, handle, use_errno, use_last_error)\u001b[0m\n\u001b[1;32m    354\u001b[0m \u001b[0;34m\u001b[0m\u001b[0m\n\u001b[1;32m    355\u001b[0m         \u001b[0;32mif\u001b[0m \u001b[0mhandle\u001b[0m \u001b[0;32mis\u001b[0m \u001b[0;32mNone\u001b[0m\u001b[0;34m:\u001b[0m\u001b[0;34m\u001b[0m\u001b[0;34m\u001b[0m\u001b[0m\n\u001b[0;32m--> 356\u001b[0;31m             \u001b[0mself\u001b[0m\u001b[0;34m.\u001b[0m\u001b[0m_handle\u001b[0m \u001b[0;34m=\u001b[0m \u001b[0m_dlopen\u001b[0m\u001b[0;34m(\u001b[0m\u001b[0mself\u001b[0m\u001b[0;34m.\u001b[0m\u001b[0m_name\u001b[0m\u001b[0;34m,\u001b[0m \u001b[0mmode\u001b[0m\u001b[0;34m)\u001b[0m\u001b[0;34m\u001b[0m\u001b[0;34m\u001b[0m\u001b[0m\n\u001b[0m\u001b[1;32m    357\u001b[0m         \u001b[0;32melse\u001b[0m\u001b[0;34m:\u001b[0m\u001b[0;34m\u001b[0m\u001b[0;34m\u001b[0m\u001b[0m\n\u001b[1;32m    358\u001b[0m             \u001b[0mself\u001b[0m\u001b[0;34m.\u001b[0m\u001b[0m_handle\u001b[0m \u001b[0;34m=\u001b[0m \u001b[0mhandle\u001b[0m\u001b[0;34m\u001b[0m\u001b[0;34m\u001b[0m\u001b[0m\n",
      "\u001b[0;31mOSError\u001b[0m: dlopen(/anaconda3/lib/python3.7/site-packages/torchtext/_torchtext.so, 6): Symbol not found: __ZN3c104impl23ExcludeDispatchKeyGuardC1ENS_14DispatchKeySetE\n  Referenced from: /anaconda3/lib/python3.7/site-packages/torchtext/_torchtext.so\n  Expected in: /anaconda3/lib/python3.7/site-packages/torch/lib/libc10.dylib\n in /anaconda3/lib/python3.7/site-packages/torchtext/_torchtext.so"
     ]
    }
   ],
   "source": [
    "from torchtext import data\n",
    "from torchtext import datasets\n",
    "import torch\n",
    "import spacy\n",
    "import random\n",
    "import numpy as np\n",
    "\n",
    "import time\n",
    "\n",
    "import torch.nn as nn\n",
    "import torch.nn.functional as F\n",
    "\n",
    "import spacy\n",
    "nlp = spacy.load('en')"
   ]
  },
  {
   "cell_type": "code",
   "execution_count": 3,
   "metadata": {
    "executionInfo": {
     "elapsed": 987,
     "status": "ok",
     "timestamp": 1603625520870,
     "user": {
      "displayName": "Shaannoor Mann",
      "photoUrl": "",
      "userId": "02520257695567980696"
     },
     "user_tz": 300
    },
    "id": "QLZaC9sz_LDy"
   },
   "outputs": [],
   "source": [
    "questions = data.Field(tokenize = 'spacy', batch_first = True)\n",
    "labels = data.LabelField(dtype = torch.float)"
   ]
  },
  {
   "cell_type": "code",
   "execution_count": 5,
   "metadata": {
    "executionInfo": {
     "elapsed": 533,
     "status": "ok",
     "timestamp": 1603625528908,
     "user": {
      "displayName": "Shaannoor Mann",
      "photoUrl": "",
      "userId": "02520257695567980696"
     },
     "user_tz": 300
    },
    "id": "Nl3wN9Ey_LD1"
   },
   "outputs": [],
   "source": [
    "train_data, _ = datasets.TREC.splits(questions, labels)\n",
    "\n",
    "train_data, valid_data = train_data.split()"
   ]
  },
  {
   "cell_type": "code",
   "execution_count": 6,
   "metadata": {
    "colab": {
     "base_uri": "https://localhost:8080/",
     "height": 34
    },
    "executionInfo": {
     "elapsed": 344,
     "status": "ok",
     "timestamp": 1603625532335,
     "user": {
      "displayName": "Shaannoor Mann",
      "photoUrl": "",
      "userId": "02520257695567980696"
     },
     "user_tz": 300
    },
    "id": "iyHWiEXx_LD5",
    "outputId": "06b44cd1-18f1-4693-d4a0-1b3275ef307a"
   },
   "outputs": [
    {
     "data": {
      "text/plain": [
       "<torchtext.data.dataset.Dataset at 0x7fa7e40636d8>"
      ]
     },
     "execution_count": 6,
     "metadata": {
      "tags": []
     },
     "output_type": "execute_result"
    }
   ],
   "source": [
    "train_data"
   ]
  },
  {
   "cell_type": "code",
   "execution_count": 7,
   "metadata": {
    "colab": {
     "base_uri": "https://localhost:8080/",
     "height": 34
    },
    "executionInfo": {
     "elapsed": 320,
     "status": "ok",
     "timestamp": 1603625534019,
     "user": {
      "displayName": "Shaannoor Mann",
      "photoUrl": "",
      "userId": "02520257695567980696"
     },
     "user_tz": 300
    },
    "id": "E0ZvM9vf_LD_",
    "outputId": "3f82dc12-c47b-4b7c-d5ef-96bdd59b9323"
   },
   "outputs": [
    {
     "data": {
      "text/plain": [
       "['What', 'is', 'the', 'text', 'of', 'the', 'Fifth', 'Amendment', '?']"
      ]
     },
     "execution_count": 7,
     "metadata": {
      "tags": []
     },
     "output_type": "execute_result"
    }
   ],
   "source": [
    "train_data.examples[0].text"
   ]
  },
  {
   "cell_type": "code",
   "execution_count": 8,
   "metadata": {
    "colab": {
     "base_uri": "https://localhost:8080/",
     "height": 35
    },
    "executionInfo": {
     "elapsed": 279,
     "status": "ok",
     "timestamp": 1603625537100,
     "user": {
      "displayName": "Shaannoor Mann",
      "photoUrl": "",
      "userId": "02520257695567980696"
     },
     "user_tz": 300
    },
    "id": "BMJNYaBF_LED",
    "outputId": "019af848-e463-4fdf-c119-a43776421ca7"
   },
   "outputs": [
    {
     "data": {
      "application/vnd.google.colaboratory.intrinsic+json": {
       "type": "string"
      },
      "text/plain": [
       "'DESC'"
      ]
     },
     "execution_count": 8,
     "metadata": {
      "tags": []
     },
     "output_type": "execute_result"
    }
   ],
   "source": [
    "train_data.examples[0].label"
   ]
  },
  {
   "cell_type": "code",
   "execution_count": 9,
   "metadata": {
    "colab": {
     "base_uri": "https://localhost:8080/",
     "height": 51
    },
    "executionInfo": {
     "elapsed": 289,
     "status": "ok",
     "timestamp": 1603625538759,
     "user": {
      "displayName": "Shaannoor Mann",
      "photoUrl": "",
      "userId": "02520257695567980696"
     },
     "user_tz": 300
    },
    "id": "b_uzG7I7_LEG",
    "outputId": "555369c8-d692-41ef-fbc9-6f868b0e7ca9"
   },
   "outputs": [
    {
     "name": "stdout",
     "output_type": "stream",
     "text": [
      "3816\n",
      "1636\n"
     ]
    }
   ],
   "source": [
    "print(len(train_data))\n",
    "print(len(valid_data))"
   ]
  },
  {
   "cell_type": "code",
   "execution_count": 10,
   "metadata": {
    "colab": {
     "base_uri": "https://localhost:8080/",
     "height": 51
    },
    "executionInfo": {
     "elapsed": 447313,
     "status": "ok",
     "timestamp": 1603625987914,
     "user": {
      "displayName": "Shaannoor Mann",
      "photoUrl": "",
      "userId": "02520257695567980696"
     },
     "user_tz": 300
    },
    "id": "WnXXw2oV_LEM",
    "outputId": "0fe83283-a5e2-4b74-b596-4cf6740028e6"
   },
   "outputs": [
    {
     "name": "stderr",
     "output_type": "stream",
     "text": [
      ".vector_cache/glove.6B.zip: 862MB [06:28, 2.22MB/s]                           \n",
      "100%|█████████▉| 398787/400000 [00:33<00:00, 11989.76it/s]"
     ]
    }
   ],
   "source": [
    "questions.build_vocab(train_data,\n",
    "                 vectors = \"glove.6B.200d\", \n",
    "                 unk_init = torch.Tensor.normal_)\n",
    "\n",
    "labels.build_vocab(train_data)"
   ]
  },
  {
   "cell_type": "code",
   "execution_count": 11,
   "metadata": {
    "colab": {
     "base_uri": "https://localhost:8080/",
     "height": 136
    },
    "executionInfo": {
     "elapsed": 351,
     "status": "ok",
     "timestamp": 1603630208822,
     "user": {
      "displayName": "Shaannoor Mann",
      "photoUrl": "",
      "userId": "02520257695567980696"
     },
     "user_tz": 300
    },
    "id": "m2YYxqF3_LEU",
    "outputId": "b325eb6c-15a6-4077-f526-1ba365c55dba"
   },
   "outputs": [
    {
     "data": {
      "text/plain": [
       "tensor([[ 1.5142,  1.9301,  0.1088,  ...,  2.3204, -0.4258, -0.6275],\n",
       "        [-0.4098, -1.6632, -0.7171,  ...,  0.0450,  0.2547,  0.1488],\n",
       "        [ 0.3911,  0.4019, -0.1505,  ..., -0.0348,  0.0798,  0.5031],\n",
       "        ...,\n",
       "        [ 0.1940, -0.4843, -0.7601,  ...,  0.3863, -0.6567, -0.0112],\n",
       "        [ 0.5741, -0.4343, -0.1119,  ...,  0.7629,  0.3831, -0.1570],\n",
       "        [-1.0700,  1.1445, -0.3129,  ...,  0.2329, -1.0910, -1.6553]])"
      ]
     },
     "execution_count": 11,
     "metadata": {
      "tags": []
     },
     "output_type": "execute_result"
    }
   ],
   "source": [
    "questions.vocab.vectors"
   ]
  },
  {
   "cell_type": "code",
   "execution_count": 12,
   "metadata": {
    "colab": {
     "base_uri": "https://localhost:8080/",
     "height": 34
    },
    "executionInfo": {
     "elapsed": 418,
     "status": "ok",
     "timestamp": 1603630210542,
     "user": {
      "displayName": "Shaannoor Mann",
      "photoUrl": "",
      "userId": "02520257695567980696"
     },
     "user_tz": 300
    },
    "id": "xBlYR48X_LEX",
    "outputId": "91bd0c43-feed-4daf-a082-ae07ea6fbbc7"
   },
   "outputs": [
    {
     "name": "stdout",
     "output_type": "stream",
     "text": [
      "cpu\n"
     ]
    }
   ],
   "source": [
    "device = torch.device(\"cuda:0\" if torch.cuda.is_available() else \"cpu\")\n",
    "print(device)\n",
    "\n",
    "train_iterator, valid_iterator = data.BucketIterator.splits(\n",
    "    (train_data, valid_data), \n",
    "    batch_size = 64, \n",
    "    device = device)"
   ]
  },
  {
   "cell_type": "code",
   "execution_count": null,
   "metadata": {
    "id": "Hh7pjH6L_LEc"
   },
   "outputs": [],
   "source": [
    "class CNN(nn.Module):\n",
    "    def __init__(self, vocab_size, embedding_dim, n_filters, filter_sizes, output_dim, dropout, pad_idx):\n",
    "        \n",
    "        super().__init__()\n",
    "                \n",
    "        self.embedding = nn.Embedding(vocab_size, embedding_dim, padding_idx = pad_idx)\n",
    "        \n",
    "        self.convs = nn.ModuleList([\n",
    "                                    nn.Conv2d(in_channels = 1, \n",
    "                                              out_channels = n_filters, \n",
    "                                              kernel_size = (fs, embedding_dim)) \n",
    "                                    for fs in filter_sizes\n",
    "                                    ])\n",
    "        \n",
    "        self.fc = nn.Linear(len(filter_sizes) * n_filters, output_dim)\n",
    "        \n",
    "        self.dropout = nn.Dropout(dropout)\n",
    "        \n",
    "    def forward(self, text):\n",
    "        \n",
    "        emb = self.embedding(text).unsqueeze(1)\n",
    "        \n",
    "        conved = [F.relu(c(emb)).squeeze(3) for c in self.convs]\n",
    "                \n",
    "        pooled = [F.max_pool1d(c, c.shape[2]).squeeze(2) for c in conved]\n",
    "        \n",
    "        concat = self.dropout(torch.cat(pooled, dim = 1))\n",
    "            \n",
    "        return self.fc(concat)"
   ]
  },
  {
   "cell_type": "code",
   "execution_count": null,
   "metadata": {
    "id": "xb7XIeg3_LEg"
   },
   "outputs": [],
   "source": [
    "input_dimensions = len(questions.vocab)\n",
    "output_dimensions = 6\n",
    "embedding_dimensions = 200\n",
    "pad_index = questions.vocab.stoi[questions.pad_token]\n",
    "\n",
    "number_of_filters = 100\n",
    "filter_sizes = [2,3,4]\n",
    "dropout_pc = 0.5\n",
    "\n",
    "\n",
    "model = CNN(input_dimensions, embedding_dimensions, number_of_filters, \n",
    "            filter_sizes, output_dimensions, dropout_pc, pad_index)"
   ]
  },
  {
   "cell_type": "code",
   "execution_count": null,
   "metadata": {
    "colab": {
     "base_uri": "https://localhost:8080/",
     "height": 136
    },
    "executionInfo": {
     "elapsed": 219,
     "status": "ok",
     "timestamp": 1603382270111,
     "user": {
      "displayName": "Shaannoor Mann",
      "photoUrl": "",
      "userId": "02520257695567980696"
     },
     "user_tz": 300
    },
    "id": "3ZodNAna_LEj",
    "outputId": "b19ed4d2-b882-4ca7-b3e5-1d9d8568679b"
   },
   "outputs": [
    {
     "data": {
      "text/plain": [
       "tensor([[ 1.9146, -1.0558,  0.2585,  ..., -1.7675, -1.1634,  0.1774],\n",
       "        [-1.7950, -1.1161,  0.3654,  ...,  1.2729,  0.2299, -0.4907],\n",
       "        [ 0.3911,  0.4019, -0.1505,  ..., -0.0348,  0.0798,  0.5031],\n",
       "        ...,\n",
       "        [-0.0364, -0.4738, -0.1913,  ...,  0.4871, -0.0841,  0.5200],\n",
       "        [ 0.5741, -0.4343, -0.1119,  ...,  0.7629,  0.3831, -0.1570],\n",
       "        [ 1.9298, -0.7074, -0.0838,  ..., -0.9703, -1.3450, -1.7246]])"
      ]
     },
     "execution_count": 13,
     "metadata": {
      "tags": []
     },
     "output_type": "execute_result"
    }
   ],
   "source": [
    "glove_embeddings = questions.vocab.vectors\n",
    "\n",
    "model.embedding.weight.data.copy_(glove_embeddings)"
   ]
  },
  {
   "cell_type": "code",
   "execution_count": null,
   "metadata": {
    "id": "6mHrmQKt_LEl"
   },
   "outputs": [],
   "source": [
    "unknown_index = questions.vocab.stoi[questions.unk_token]\n",
    "\n",
    "model.embedding.weight.data[unknown_index] = torch.zeros(embedding_dimensions)\n",
    "model.embedding.weight.data[pad_index] = torch.zeros(embedding_dimensions)"
   ]
  },
  {
   "cell_type": "code",
   "execution_count": null,
   "metadata": {
    "id": "ytwLRfSC_LEp"
   },
   "outputs": [],
   "source": [
    "optimizer = torch.optim.Adam(model.parameters())\n",
    "\n",
    "criterion = nn.CrossEntropyLoss().to(device)\n",
    "\n",
    "model = model.to(device)"
   ]
  },
  {
   "cell_type": "code",
   "execution_count": null,
   "metadata": {
    "id": "HL6wvNXX_LEs"
   },
   "outputs": [],
   "source": [
    "def multi_accuracy(preds, y):\n",
    "    pred = torch.max(preds,1).indices\n",
    "    correct = (pred == y).float()\n",
    "    acc = correct.sum() / len(correct)\n",
    "    return acc"
   ]
  },
  {
   "cell_type": "code",
   "execution_count": null,
   "metadata": {
    "id": "KujZxUYA_LEv"
   },
   "outputs": [],
   "source": [
    "def train(model, iterator, optimizer, criterion):\n",
    "    \n",
    "    epoch_loss = 0\n",
    "    epoch_acc = 0\n",
    "    \n",
    "    model.train()\n",
    "    \n",
    "    for batch in iterator:\n",
    "        \n",
    "        optimizer.zero_grad()\n",
    "        \n",
    "        preds = model(batch.text).squeeze(1)\n",
    "        loss = criterion(preds, batch.label.long())\n",
    "        \n",
    "        acc = multi_accuracy(preds, batch.label)\n",
    "        \n",
    "        loss.backward()\n",
    "        \n",
    "        optimizer.step()\n",
    "        \n",
    "        epoch_loss += loss.item()\n",
    "        epoch_acc += acc.item()\n",
    "        \n",
    "    total_epoch_loss = epoch_loss / len(iterator)\n",
    "    total_epoch_accuracy = epoch_acc / len(iterator)\n",
    "        \n",
    "    return total_epoch_loss, total_epoch_accuracy"
   ]
  },
  {
   "cell_type": "code",
   "execution_count": null,
   "metadata": {
    "id": "XLGGhM-w_LEy"
   },
   "outputs": [],
   "source": [
    "def evaluate(model, iterator, criterion):\n",
    "    \n",
    "    epoch_loss = 0\n",
    "    epoch_acc = 0\n",
    "    \n",
    "    model.eval()\n",
    "    \n",
    "    with torch.no_grad():\n",
    "    \n",
    "        for batch in iterator:\n",
    "\n",
    "            preds = model(batch.text).squeeze(1)\n",
    "            \n",
    "            loss = criterion(preds, batch.label.long())\n",
    "            \n",
    "            acc = multi_accuracy(preds, batch.label)\n",
    "\n",
    "            epoch_loss += loss.item()\n",
    "            epoch_acc += acc.item()\n",
    "            \n",
    "    total_epoch_loss = epoch_loss / len(iterator)\n",
    "    total_epoch_accuracy = epoch_acc / len(iterator)\n",
    "        \n",
    "    return total_epoch_loss, total_epoch_accuracy"
   ]
  },
  {
   "cell_type": "code",
   "execution_count": null,
   "metadata": {
    "colab": {
     "base_uri": "https://localhost:8080/",
     "height": 527
    },
    "executionInfo": {
     "elapsed": 67690,
     "status": "ok",
     "timestamp": 1603382384971,
     "user": {
      "displayName": "Shaannoor Mann",
      "photoUrl": "",
      "userId": "02520257695567980696"
     },
     "user_tz": 300
    },
    "id": "LOMccus8_LE1",
    "outputId": "c55efc14-5257-4601-af53-7959d0633c79"
   },
   "outputs": [
    {
     "name": "stdout",
     "output_type": "stream",
     "text": [
      "Epoch: 01 | Epoch Time: 7s\n",
      "\tTrain Loss: 1.197 | Train Acc: 52.70%\n",
      "\t Val. Loss: 0.905 |  Val. Acc: 65.63%\n",
      "Epoch: 02 | Epoch Time: 6s\n",
      "\tTrain Loss: 0.757 | Train Acc: 73.71%\n",
      "\t Val. Loss: 0.717 |  Val. Acc: 73.79%\n",
      "Epoch: 03 | Epoch Time: 6s\n",
      "\tTrain Loss: 0.523 | Train Acc: 82.48%\n",
      "\t Val. Loss: 0.603 |  Val. Acc: 78.03%\n",
      "Epoch: 04 | Epoch Time: 6s\n",
      "\tTrain Loss: 0.351 | Train Acc: 89.77%\n",
      "\t Val. Loss: 0.541 |  Val. Acc: 80.28%\n",
      "Epoch: 05 | Epoch Time: 6s\n",
      "\tTrain Loss: 0.235 | Train Acc: 93.67%\n",
      "\t Val. Loss: 0.492 |  Val. Acc: 82.17%\n",
      "Epoch: 06 | Epoch Time: 6s\n",
      "\tTrain Loss: 0.164 | Train Acc: 95.60%\n",
      "\t Val. Loss: 0.493 |  Val. Acc: 82.00%\n",
      "Epoch: 07 | Epoch Time: 6s\n",
      "\tTrain Loss: 0.120 | Train Acc: 97.14%\n",
      "\t Val. Loss: 0.467 |  Val. Acc: 83.31%\n",
      "Epoch: 08 | Epoch Time: 6s\n",
      "\tTrain Loss: 0.082 | Train Acc: 98.37%\n",
      "\t Val. Loss: 0.470 |  Val. Acc: 83.36%\n",
      "Epoch: 09 | Epoch Time: 6s\n",
      "\tTrain Loss: 0.054 | Train Acc: 99.05%\n",
      "\t Val. Loss: 0.466 |  Val. Acc: 83.37%\n",
      "Epoch: 10 | Epoch Time: 6s\n",
      "\tTrain Loss: 0.048 | Train Acc: 99.07%\n",
      "\t Val. Loss: 0.490 |  Val. Acc: 82.85%\n"
     ]
    }
   ],
   "source": [
    "epochs = 10\n",
    "\n",
    "lowest_validation_loss = float('inf')\n",
    "\n",
    "for epoch in range(epochs):\n",
    "\n",
    "    start_time = time.time()\n",
    "    \n",
    "    train_loss, train_acc = train(model, train_iterator, optimizer, criterion)\n",
    "    valid_loss, valid_acc = evaluate(model, valid_iterator, criterion)\n",
    "    \n",
    "    end_time = time.time()\n",
    "    \n",
    "    if valid_loss < lowest_validation_loss:\n",
    "        lowest_validation_loss = valid_loss\n",
    "        torch.save(model.state_dict(), 'cnn_model.pt')\n",
    "    \n",
    "    print(f'Epoch: {epoch+1:02} | Epoch Time: {int(end_time - start_time)}s')\n",
    "    print(f'\\tTrain Loss: {train_loss:.3f} | Train Acc: {train_acc*100:.2f}%')\n",
    "    print(f'\\t Val. Loss: {valid_loss:.3f} |  Val. Acc: {valid_acc*100:.2f}%')"
   ]
  },
  {
   "cell_type": "code",
   "execution_count": null,
   "metadata": {
    "colab": {
     "base_uri": "https://localhost:8080/",
     "height": 34
    },
    "executionInfo": {
     "elapsed": 219,
     "status": "ok",
     "timestamp": 1603382407096,
     "user": {
      "displayName": "Shaannoor Mann",
      "photoUrl": "",
      "userId": "02520257695567980696"
     },
     "user_tz": 300
    },
    "id": "6NXaNkbk_LE5",
    "outputId": "6cd026fc-ca5b-4a19-daa5-12dc3691997e"
   },
   "outputs": [
    {
     "data": {
      "text/plain": [
       "<All keys matched successfully>"
      ]
     },
     "execution_count": 20,
     "metadata": {
      "tags": []
     },
     "output_type": "execute_result"
    }
   ],
   "source": [
    "model.load_state_dict(torch.load('cnn_model.pt'))"
   ]
  },
  {
   "cell_type": "code",
   "execution_count": null,
   "metadata": {
    "id": "NP4dK00s_LE8"
   },
   "outputs": [],
   "source": [
    "def predict_class(model, sentence, min_len = 5):\n",
    "    \n",
    "    tokenized = [tok.text for tok in nlp.tokenizer(sentence)]\n",
    "    if len(tokenized) < min_len:\n",
    "        tokenized += ['<pad>'] * (min_len - len(tokenized))\n",
    "    indexed = [questions.vocab.stoi[t] for t in tokenized]\n",
    "    tensor = torch.LongTensor(indexed).to(device)\n",
    "    tensor = tensor.unsqueeze(0)\n",
    "    \n",
    "    model.eval()\n",
    "    prediction = torch.max(model(tensor),1).indices.item()\n",
    "    pred_index = labels.vocab.itos[prediction]\n",
    "    \n",
    "    return pred_index"
   ]
  },
  {
   "cell_type": "code",
   "execution_count": null,
   "metadata": {
    "colab": {
     "base_uri": "https://localhost:8080/",
     "height": 34
    },
    "executionInfo": {
     "elapsed": 225,
     "status": "ok",
     "timestamp": 1603382432115,
     "user": {
      "displayName": "Shaannoor Mann",
      "photoUrl": "",
      "userId": "02520257695567980696"
     },
     "user_tz": 300
    },
    "id": "7sEBZFIk_LFB",
    "outputId": "c2ae332a-0c2f-4a22-c314-8599614e276c"
   },
   "outputs": [
    {
     "name": "stdout",
     "output_type": "stream",
     "text": [
      "Predicted class is: NUM\n"
     ]
    }
   ],
   "source": [
    "pred_class = predict_class(model, \"How many roads must a man walk down?\")\n",
    "print('Predicted class is: ' + str(pred_class))"
   ]
  }
 ],
 "metadata": {
  "colab": {
   "collapsed_sections": [],
   "name": "CNN_Question_Cat.ipynb",
   "provenance": []
  },
  "kernelspec": {
   "display_name": "Python 3",
   "language": "python",
   "name": "python3"
  },
  "language_info": {
   "codemirror_mode": {
    "name": "ipython",
    "version": 3
   },
   "file_extension": ".py",
   "mimetype": "text/x-python",
   "name": "python",
   "nbconvert_exporter": "python",
   "pygments_lexer": "ipython3",
   "version": "3.7.1"
  }
 },
 "nbformat": 4,
 "nbformat_minor": 1
}
