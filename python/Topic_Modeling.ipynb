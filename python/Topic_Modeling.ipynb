{
 "cells": [
  {
   "cell_type": "markdown",
   "metadata": {
    "colab_type": "text",
    "collapsed": true,
    "id": "SHfwpC-PmRIa"
   },
   "source": [
    "# Topic Modeling Assessment - Due by 9/4/2020 - 4pm\n",
    "\n",
    "For this assignment you will be working with a dataset of  quora questions (please download from eLearning) that have no labeled cateogry and attempt to find representtaive topics for the questions. Try different topic modeling appraoches discussed in the class. \n",
    "\n",
    "The choice of number of topics will depend on what number gives you meaningful topics. Please explain different topics that you have extracted."
   ]
  },
  {
   "cell_type": "code",
   "execution_count": 1,
   "metadata": {
    "colab": {},
    "colab_type": "code",
    "id": "wTRbUZFSp_Ya"
   },
   "outputs": [],
   "source": [
    "import pandas as pd "
   ]
  },
  {
   "cell_type": "code",
   "execution_count": 4,
   "metadata": {},
   "outputs": [],
   "source": [
    "df = pd.read_csv('quora_questions.csv')"
   ]
  },
  {
   "cell_type": "code",
   "execution_count": 27,
   "metadata": {},
   "outputs": [
    {
     "data": {
      "text/html": [
       "<div>\n",
       "<style scoped>\n",
       "    .dataframe tbody tr th:only-of-type {\n",
       "        vertical-align: middle;\n",
       "    }\n",
       "\n",
       "    .dataframe tbody tr th {\n",
       "        vertical-align: top;\n",
       "    }\n",
       "\n",
       "    .dataframe thead th {\n",
       "        text-align: right;\n",
       "    }\n",
       "</style>\n",
       "<table border=\"1\" class=\"dataframe\">\n",
       "  <thead>\n",
       "    <tr style=\"text-align: right;\">\n",
       "      <th></th>\n",
       "      <th>Question</th>\n",
       "    </tr>\n",
       "  </thead>\n",
       "  <tbody>\n",
       "    <tr>\n",
       "      <th>count</th>\n",
       "      <td>404289</td>\n",
       "    </tr>\n",
       "    <tr>\n",
       "      <th>unique</th>\n",
       "      <td>290456</td>\n",
       "    </tr>\n",
       "    <tr>\n",
       "      <th>top</th>\n",
       "      <td>How do I improve my English speaking?</td>\n",
       "    </tr>\n",
       "    <tr>\n",
       "      <th>freq</th>\n",
       "      <td>50</td>\n",
       "    </tr>\n",
       "  </tbody>\n",
       "</table>\n",
       "</div>"
      ],
      "text/plain": [
       "                                     Question\n",
       "count                                  404289\n",
       "unique                                 290456\n",
       "top     How do I improve my English speaking?\n",
       "freq                                       50"
      ]
     },
     "execution_count": 27,
     "metadata": {},
     "output_type": "execute_result"
    }
   ],
   "source": [
    "df.describe()"
   ]
  },
  {
   "cell_type": "code",
   "execution_count": 6,
   "metadata": {},
   "outputs": [
    {
     "name": "stderr",
     "output_type": "stream",
     "text": [
      "[nltk_data] Downloading package stopwords to /Users/jj/nltk_data...\n",
      "[nltk_data]   Unzipping corpora/stopwords.zip.\n"
     ]
    },
    {
     "data": {
      "text/plain": [
       "True"
      ]
     },
     "execution_count": 6,
     "metadata": {},
     "output_type": "execute_result"
    }
   ],
   "source": [
    "# Run in python console\n",
    "import nltk; nltk.download('stopwords')"
   ]
  },
  {
   "cell_type": "code",
   "execution_count": 9,
   "metadata": {},
   "outputs": [],
   "source": [
    "import re\n",
    "import numpy as np\n",
    "import pandas as pd\n",
    "from pprint import pprint\n",
    "\n",
    "# Gensim\n",
    "import gensim\n",
    "import gensim.corpora as corpora\n",
    "from gensim.utils import simple_preprocess\n",
    "from gensim.models import CoherenceModel\n",
    "\n",
    "# spacy for lemmatization\n",
    "import spacy\n",
    "\n",
    "# Plotting tools\n",
    "import pyLDAvis\n",
    "import pyLDAvis.gensim  # don't skip this\n",
    "import matplotlib.pyplot as plt\n",
    "%matplotlib inline\n",
    "\n",
    "# Enable logging for gensim - optional\n",
    "import logging\n",
    "logging.basicConfig(format='%(asctime)s : %(levelname)s : %(message)s', level=logging.ERROR)\n",
    "\n",
    "import warnings\n",
    "warnings.filterwarnings(\"ignore\",category=DeprecationWarning)"
   ]
  },
  {
   "cell_type": "code",
   "execution_count": 10,
   "metadata": {},
   "outputs": [],
   "source": [
    "# NLTK Stop words\n",
    "from nltk.corpus import stopwords\n",
    "stop_words = stopwords.words('english')\n",
    "stop_words.extend(['what', 'why', 'where', 'who'])"
   ]
  },
  {
   "cell_type": "code",
   "execution_count": 15,
   "metadata": {},
   "outputs": [
    {
     "name": "stdout",
     "output_type": "stream",
     "text": [
      "['What is the step by step guide to invest in share market in india?'\n",
      " 'What is the story of Kohinoor (Koh-i-Noor) Diamond?'\n",
      " 'How can I increase the speed of my internet connection while using a VPN?'\n",
      " ... 'What is one coin?'\n",
      " 'What is the approx annual cost of living while studying in UIC Chicago, for an Indian student?'\n",
      " 'What is like to have sex with cousin?']\n"
     ]
    },
    {
     "data": {
      "text/html": [
       "<div>\n",
       "<style scoped>\n",
       "    .dataframe tbody tr th:only-of-type {\n",
       "        vertical-align: middle;\n",
       "    }\n",
       "\n",
       "    .dataframe tbody tr th {\n",
       "        vertical-align: top;\n",
       "    }\n",
       "\n",
       "    .dataframe thead th {\n",
       "        text-align: right;\n",
       "    }\n",
       "</style>\n",
       "<table border=\"1\" class=\"dataframe\">\n",
       "  <thead>\n",
       "    <tr style=\"text-align: right;\">\n",
       "      <th></th>\n",
       "      <th>Question</th>\n",
       "    </tr>\n",
       "  </thead>\n",
       "  <tbody>\n",
       "    <tr>\n",
       "      <th>0</th>\n",
       "      <td>What is the step by step guide to invest in sh...</td>\n",
       "    </tr>\n",
       "    <tr>\n",
       "      <th>1</th>\n",
       "      <td>What is the story of Kohinoor (Koh-i-Noor) Dia...</td>\n",
       "    </tr>\n",
       "    <tr>\n",
       "      <th>2</th>\n",
       "      <td>How can I increase the speed of my internet co...</td>\n",
       "    </tr>\n",
       "    <tr>\n",
       "      <th>3</th>\n",
       "      <td>Why am I mentally very lonely? How can I solve...</td>\n",
       "    </tr>\n",
       "    <tr>\n",
       "      <th>4</th>\n",
       "      <td>Which one dissolve in water quikly sugar, salt...</td>\n",
       "    </tr>\n",
       "  </tbody>\n",
       "</table>\n",
       "</div>"
      ],
      "text/plain": [
       "                                            Question\n",
       "0  What is the step by step guide to invest in sh...\n",
       "1  What is the story of Kohinoor (Koh-i-Noor) Dia...\n",
       "2  How can I increase the speed of my internet co...\n",
       "3  Why am I mentally very lonely? How can I solve...\n",
       "4  Which one dissolve in water quikly sugar, salt..."
      ]
     },
     "execution_count": 15,
     "metadata": {},
     "output_type": "execute_result"
    }
   ],
   "source": [
    "# Import Dataset\n",
    "print(df.Question.unique())\n",
    "df.head()"
   ]
  },
  {
   "cell_type": "code",
   "execution_count": 17,
   "metadata": {},
   "outputs": [
    {
     "name": "stdout",
     "output_type": "stream",
     "text": [
      "['What is the step by step guide to invest in share market in india?']\n"
     ]
    }
   ],
   "source": [
    "# Convert to list\n",
    "data = df.Question.values.tolist()\n",
    "\n",
    "# Remove new line characters\n",
    "data = [re.sub('\\s+', ' ', sent) for sent in data]\n",
    "\n",
    "# Remove distracting single quotes\n",
    "data = [re.sub(\"\\'\", \"\", sent) for sent in data]\n",
    "\n",
    "pprint(data[:1])"
   ]
  },
  {
   "cell_type": "code",
   "execution_count": 18,
   "metadata": {},
   "outputs": [
    {
     "name": "stdout",
     "output_type": "stream",
     "text": [
      "[['what', 'is', 'the', 'step', 'by', 'step', 'guide', 'to', 'invest', 'in', 'share', 'market', 'in', 'india']]\n"
     ]
    }
   ],
   "source": [
    "def sent_to_words(sentences):\n",
    "    for sentence in sentences:\n",
    "        yield(gensim.utils.simple_preprocess(str(sentence), deacc=True))  # deacc=True removes punctuations\n",
    "\n",
    "data_words = list(sent_to_words(data))\n",
    "\n",
    "print(data_words[:1])"
   ]
  },
  {
   "cell_type": "code",
   "execution_count": 19,
   "metadata": {},
   "outputs": [
    {
     "name": "stdout",
     "output_type": "stream",
     "text": [
      "['what', 'is', 'the', 'step', 'by', 'step', 'guide', 'to', 'invest', 'in', 'share', 'market', 'in', 'india']\n"
     ]
    }
   ],
   "source": [
    "# Build the bigram and trigram models\n",
    "bigram = gensim.models.Phrases(data_words, min_count=5, threshold=100) # higher threshold fewer phrases.\n",
    "trigram = gensim.models.Phrases(bigram[data_words], threshold=100)  \n",
    "\n",
    "# Faster way to get a sentence clubbed as a trigram/bigram\n",
    "bigram_mod = gensim.models.phrases.Phraser(bigram)\n",
    "trigram_mod = gensim.models.phrases.Phraser(trigram)\n",
    "\n",
    "# See trigram example\n",
    "print(trigram_mod[bigram_mod[data_words[0]]])"
   ]
  },
  {
   "cell_type": "code",
   "execution_count": 20,
   "metadata": {},
   "outputs": [],
   "source": [
    "# Define functions for stopwords, bigrams, trigrams and lemmatization\n",
    "def remove_stopwords(texts):\n",
    "    return [[word for word in simple_preprocess(str(doc)) if word not in stop_words] for doc in texts]\n",
    "\n",
    "def make_bigrams(texts):\n",
    "    return [bigram_mod[doc] for doc in texts]\n",
    "\n",
    "def make_trigrams(texts):\n",
    "    return [trigram_mod[bigram_mod[doc]] for doc in texts]\n",
    "\n",
    "def lemmatization(texts, allowed_postags=['NOUN', 'ADJ', 'VERB', 'ADV']):\n",
    "    \"\"\"https://spacy.io/api/annotation\"\"\"\n",
    "    texts_out = []\n",
    "    for sent in texts:\n",
    "        doc = nlp(\" \".join(sent)) \n",
    "        texts_out.append([token.lemma_ for token in doc if token.pos_ in allowed_postags])\n",
    "    return texts_out"
   ]
  },
  {
   "cell_type": "code",
   "execution_count": 22,
   "metadata": {},
   "outputs": [
    {
     "name": "stdout",
     "output_type": "stream",
     "text": [
      "[['step', 'step', 'guide', 'invest', 'share', 'market']]\n"
     ]
    }
   ],
   "source": [
    "# Remove Stop Words\n",
    "data_words_nostops = remove_stopwords(data_words)\n",
    "\n",
    "# Form Bigrams\n",
    "data_words_bigrams = make_bigrams(data_words_nostops)\n",
    "\n",
    "# Initialize spacy 'en' model, keeping only tagger component (for efficiency)\n",
    "# python3 -m spacy download en\n",
    "nlp = spacy.load('en', disable=['parser', 'ner'])\n",
    "\n",
    "# Do lemmatization keeping only noun, adj, vb, adv\n",
    "data_lemmatized = lemmatization(data_words_bigrams, allowed_postags=['NOUN', 'ADJ', 'VERB', 'ADV'])\n",
    "\n",
    "print(data_lemmatized[:1])"
   ]
  },
  {
   "cell_type": "code",
   "execution_count": 23,
   "metadata": {},
   "outputs": [
    {
     "name": "stdout",
     "output_type": "stream",
     "text": [
      "[[(0, 1), (1, 1), (2, 1), (3, 1), (4, 2)]]\n"
     ]
    }
   ],
   "source": [
    "# Create Dictionary\n",
    "id2word = corpora.Dictionary(data_lemmatized)\n",
    "\n",
    "# Create Corpus\n",
    "texts = data_lemmatized\n",
    "\n",
    "# Term Document Frequency\n",
    "corpus = [id2word.doc2bow(text) for text in texts]\n",
    "\n",
    "# View\n",
    "print(corpus[:1])"
   ]
  },
  {
   "cell_type": "code",
   "execution_count": 24,
   "metadata": {},
   "outputs": [
    {
     "data": {
      "text/plain": [
       "'guide'"
      ]
     },
     "execution_count": 24,
     "metadata": {},
     "output_type": "execute_result"
    }
   ],
   "source": [
    "id2word[0]"
   ]
  },
  {
   "cell_type": "code",
   "execution_count": 25,
   "metadata": {},
   "outputs": [
    {
     "data": {
      "text/plain": [
       "[[('guide', 1), ('invest', 1), ('market', 1), ('share', 1), ('step', 2)]]"
      ]
     },
     "execution_count": 25,
     "metadata": {},
     "output_type": "execute_result"
    }
   ],
   "source": [
    "[[(id2word[id], freq) for id, freq in cp] for cp in corpus[:1]]"
   ]
  },
  {
   "cell_type": "code",
   "execution_count": 28,
   "metadata": {},
   "outputs": [],
   "source": [
    "# Build LDA model\n",
    "lda_model = gensim.models.ldamodel.LdaModel(corpus=corpus,\n",
    "                                           id2word=id2word,\n",
    "                                           num_topics=10, \n",
    "                                           random_state=100,\n",
    "                                           update_every=1,\n",
    "                                           chunksize=100,\n",
    "                                           passes=10,\n",
    "                                           alpha='auto',\n",
    "                                           per_word_topics=True)"
   ]
  },
  {
   "cell_type": "code",
   "execution_count": 29,
   "metadata": {},
   "outputs": [
    {
     "name": "stdout",
     "output_type": "stream",
     "text": [
      "[(0,\n",
      "  '0.099*\"much\" + 0.053*\"country\" + 0.034*\"look\" + 0.030*\"black\" + '\n",
      "  '0.024*\"real\" + 0.022*\"site\" + 0.019*\"keep\" + 0.019*\"exam\" + 0.019*\"true\" + '\n",
      "  '0.016*\"next\"'),\n",
      " (1,\n",
      "  '0.253*\"good\" + 0.038*\"go\" + 0.037*\"start\" + 0.020*\"website\" + 0.020*\"long\" '\n",
      "  '+ 0.017*\"business\" + 0.014*\"fast\" + 0.014*\"engineering\" + 0.014*\"service\" + '\n",
      "  '0.013*\"language\"'),\n",
      " (2,\n",
      "  '0.057*\"people\" + 0.039*\"learn\" + 0.037*\"know\" + 0.029*\"take\" + '\n",
      "  '0.028*\"think\" + 0.018*\"company\" + 0.018*\"phone\" + 0.017*\"come\" + '\n",
      "  '0.014*\"need\" + 0.013*\"account\"'),\n",
      " (3,\n",
      "  '0.053*\"year\" + 0.039*\"become\" + 0.031*\"compare\" + 0.026*\"be\" + '\n",
      "  '0.026*\"improve\" + 0.024*\"woman\" + 0.023*\"old\" + 0.023*\"really\" + '\n",
      "  '0.023*\"give\" + 0.021*\"change\"'),\n",
      " (4,\n",
      "  '0.083*\"way\" + 0.067*\"life\" + 0.057*\"use\" + 0.052*\"find\" + 0.036*\"feel\" + '\n",
      "  '0.029*\"bad\" + 0.029*\"number\" + 0.025*\"different\" + 0.025*\"man\" + '\n",
      "  '0.021*\"create\"'),\n",
      " (5,\n",
      "  '0.051*\"money\" + 0.038*\"many\" + 0.037*\"book\" + 0.030*\"online\" + 0.029*\"say\" '\n",
      "  '+ 0.024*\"place\" + 0.022*\"indian\" + 0.022*\"stop\" + 0.019*\"write\" + '\n",
      "  '0.018*\"earn\"'),\n",
      " (6,\n",
      "  '0.075*\"difference\" + 0.046*\"mean\" + 0.037*\"first\" + 0.037*\"love\" + '\n",
      "  '0.029*\"buy\" + 0.026*\"sex\" + 0.025*\"prepare\" + 0.022*\"college\" + '\n",
      "  '0.019*\"read\" + 0.017*\"experience\"'),\n",
      " (7,\n",
      "  '0.066*\"time\" + 0.040*\"girl\" + 0.037*\"movie\" + 0.030*\"world\" + 0.026*\"study\" '\n",
      "  '+ 0.024*\"example\" + 0.023*\"eat\" + 0.022*\"important\" + 0.021*\"word\" + '\n",
      "  '0.020*\"tell\"'),\n",
      " (8,\n",
      "  '0.078*\"make\" + 0.041*\"work\" + 0.031*\"happen\" + 0.028*\"job\" + 0.028*\"day\" + '\n",
      "  '0.027*\"want\" + 0.023*\"possible\" + 0.021*\"person\" + 0.017*\"friend\" + '\n",
      "  '0.013*\"high\"'),\n",
      " (9,\n",
      "  '0.072*\"would\" + 0.052*\"get\" + 0.039*\"well\" + 0.037*\"s\" + 0.034*\"thing\" + '\n",
      "  '0.031*\"ever\" + 0.029*\"question\" + 0.025*\"new\" + 0.025*\"could\" + '\n",
      "  '0.023*\"see\"')]\n"
     ]
    }
   ],
   "source": [
    "# Print the Keyword in the 10 topics\n",
    "pprint(lda_model.print_topics())\n",
    "doc_lda = lda_model[corpus]"
   ]
  },
  {
   "cell_type": "code",
   "execution_count": 35,
   "metadata": {},
   "outputs": [],
   "source": [
    "from gensim.test.utils import datapath\n",
    "\n",
    "# Save model to disk.\n",
    "temp_file = datapath(\"lda_model_10.csv\")\n",
    "lda_model.save(temp_file)"
   ]
  },
  {
   "cell_type": "code",
   "execution_count": 37,
   "metadata": {},
   "outputs": [
    {
     "name": "stdout",
     "output_type": "stream",
     "text": [
      "\n",
      "Perplexity:  -8.730391961910458\n",
      "\n",
      "Coherence Score:  0.232521745801596\n"
     ]
    }
   ],
   "source": [
    "# Compute Perplexity\n",
    "print('\\nPerplexity: ', lda_model.log_perplexity(corpus))  # a measure of how good the model is. lower the better.\n",
    "\n",
    "# Compute Coherence Score\n",
    "coherence_model_lda = CoherenceModel(model=lda_model, texts=data_lemmatized, dictionary=id2word, coherence='c_v')\n",
    "coherence_lda = coherence_model_lda.get_coherence()\n",
    "print('\\nCoherence Score: ', coherence_lda)"
   ]
  },
  {
   "cell_type": "code",
   "execution_count": 46,
   "metadata": {},
   "outputs": [],
   "source": [
    "def compute_coherence_values(dictionary, corpus, texts, limit, start=2, step=3):\n",
    "    \"\"\"\n",
    "    Compute c_v coherence for various number of topics\n",
    "\n",
    "    Parameters:\n",
    "    ----------\n",
    "    dictionary : Gensim dictionary\n",
    "    corpus : Gensim corpus\n",
    "    texts : List of input texts\n",
    "    limit : Max num of topics\n",
    "\n",
    "    Returns:\n",
    "    -------\n",
    "    model_list : List of LDA topic models\n",
    "    coherence_values : Coherence values corresponding to the LDA model with respective number of topics\n",
    "    \"\"\"\n",
    "    coherence_values = []\n",
    "    model_list = []\n",
    "    for num_topics in range(start, limit, step):\n",
    "        model = gensim.models.ldamodel.LdaModel(corpus=corpus, num_topics=num_topics, id2word=id2word)\n",
    "        model_list.append(model)\n",
    "        coherencemodel = CoherenceModel(model=model, texts=texts, dictionary=dictionary, coherence='c_v')\n",
    "        coherence_values.append(coherencemodel.get_coherence())\n",
    "\n",
    "    return model_list, coherence_values"
   ]
  },
  {
   "cell_type": "code",
   "execution_count": 55,
   "metadata": {},
   "outputs": [],
   "source": [
    "# Can take a long time to run.\n",
    "model_list, coherence_values = compute_coherence_values(dictionary=id2word, corpus=corpus, texts=data_lemmatized, start=5, limit=50, step=5)"
   ]
  },
  {
   "cell_type": "code",
   "execution_count": 56,
   "metadata": {},
   "outputs": [
    {
     "data": {
      "image/png": "[encoded data removed]",
      "text/plain": [
       "<Figure size 432x288 with 1 Axes>"
      ]
     },
     "metadata": {
      "needs_background": "light"
     },
     "output_type": "display_data"
    }
   ],
   "source": [
    "# Show graph\n",
    "limit=50; start=5; step=5;\n",
    "x = range(start, limit, step)\n",
    "plt.plot(x, coherence_values)\n",
    "plt.xlabel(\"Num Topics\")\n",
    "plt.ylabel(\"Coherence score\")\n",
    "plt.legend((\"coherence_values\"), loc='best')\n",
    "plt.show()"
   ]
  },
  {
   "cell_type": "code",
   "execution_count": 57,
   "metadata": {},
   "outputs": [
    {
     "name": "stdout",
     "output_type": "stream",
     "text": [
      "Num Topics = 5  has Coherence Value of 0.2001\n",
      "Num Topics = 10  has Coherence Value of 0.2209\n",
      "Num Topics = 15  has Coherence Value of 0.2675\n",
      "Num Topics = 20  has Coherence Value of 0.3021\n",
      "Num Topics = 25  has Coherence Value of 0.3232\n",
      "Num Topics = 30  has Coherence Value of 0.3677\n",
      "Num Topics = 35  has Coherence Value of 0.3879\n",
      "Num Topics = 40  has Coherence Value of 0.4218\n",
      "Num Topics = 45  has Coherence Value of 0.4417\n"
     ]
    }
   ],
   "source": [
    "# Print the coherence scores\n",
    "for m, cv in zip(x, coherence_values):\n",
    "    print(\"Num Topics =\", m, \" has Coherence Value of\", round(cv, 4))"
   ]
  },
  {
   "cell_type": "code",
   "execution_count": 67,
   "metadata": {},
   "outputs": [],
   "source": [
    "# Build LDA model\n",
    "lda_model_1 = gensim.models.ldamodel.LdaModel(corpus=corpus,\n",
    "                                           id2word=id2word,\n",
    "                                           num_topics=20, \n",
    "                                           random_state=100,\n",
    "                                           update_every=1,\n",
    "                                           chunksize=500,\n",
    "                                           passes=5,\n",
    "                                           alpha='auto',\n",
    "                                           per_word_topics=True)"
   ]
  },
  {
   "cell_type": "code",
   "execution_count": 69,
   "metadata": {},
   "outputs": [
    {
     "name": "stdout",
     "output_type": "stream",
     "text": [
      "[(0,\n",
      "  '0.156*\"difference\" + 0.127*\"go\" + 0.086*\"feel\" + 0.079*\"first\" + '\n",
      "  '0.077*\"see\" + 0.076*\"love\" + 0.062*\"different\" + 0.053*\"account\" + '\n",
      "  '0.046*\"fast\" + 0.043*\"help\"'),\n",
      " (1,\n",
      "  '0.553*\"good\" + 0.048*\"say\" + 0.046*\"person\" + 0.038*\"stop\" + 0.032*\"create\" '\n",
      "  '+ 0.028*\"service\" + 0.025*\"real\" + 0.023*\"employee\" + 0.022*\"government\" + '\n",
      "  '0.016*\"view\"'),\n",
      " (2,\n",
      "  '0.271*\"people\" + 0.086*\"company\" + 0.071*\"give\" + 0.061*\"free\" + '\n",
      "  '0.049*\"call\" + 0.036*\"safe\" + 0.033*\"die\" + 0.032*\"reason\" + 0.028*\"mobile\" '\n",
      "  '+ 0.027*\"turn\"'),\n",
      " (3,\n",
      "  '0.199*\"make\" + 0.105*\"money\" + 0.090*\"think\" + 0.083*\"become\" + '\n",
      "  '0.065*\"online\" + 0.052*\"improve\" + 0.035*\"human\" + 0.029*\"idea\" + '\n",
      "  '0.026*\"visit\" + 0.024*\"food\"'),\n",
      " (4,\n",
      "  '0.223*\"would\" + 0.142*\"learn\" + 0.110*\"start\" + 0.081*\"new\" + 0.055*\"place\" '\n",
      "  '+ 0.039*\"answer\" + 0.038*\"language\" + 0.031*\"great\" + 0.031*\"course\" + '\n",
      "  '0.028*\"water\"'),\n",
      " (5,\n",
      "  '0.185*\"life\" + 0.140*\"thing\" + 0.114*\"book\" + 0.111*\"day\" + 0.032*\"state\" + '\n",
      "  '0.032*\"class\" + 0.027*\"university\" + 0.023*\"economy\" + 0.022*\"traffic\" + '\n",
      "  '0.022*\"decision\"'),\n",
      " (6,\n",
      "  '0.188*\"use\" + 0.126*\"mean\" + 0.074*\"example\" + 0.070*\"increase\" + '\n",
      "  '0.061*\"high\" + 0.032*\"future\" + 0.030*\"line\" + 0.029*\"mark\" + 0.027*\"file\" '\n",
      "  '+ 0.026*\"sentence\"'),\n",
      " (7,\n",
      "  '0.154*\"time\" + 0.109*\"question\" + 0.105*\"many\" + 0.067*\"ask\" + '\n",
      "  '0.064*\"website\" + 0.050*\"engineering\" + 0.039*\"travel\" + 0.039*\"month\" + '\n",
      "  '0.036*\"back\" + 0.023*\"trump\"'),\n",
      " (8,\n",
      "  '0.106*\"long\" + 0.080*\"still\" + 0.072*\"car\" + 0.072*\"lose\" + 0.063*\"watch\" + '\n",
      "  '0.054*\"build\" + 0.053*\"big\" + 0.050*\"word\" + 0.046*\"age\" + 0.038*\"chinese\"'),\n",
      " (9,\n",
      "  '0.206*\"s\" + 0.088*\"look\" + 0.050*\"run\" + 0.050*\"major\" + 0.041*\"music\" + '\n",
      "  '0.041*\"speak\" + 0.039*\"like\" + 0.039*\"always\" + 0.037*\"one\" + 0.035*\"non\"'),\n",
      " (10,\n",
      "  '0.182*\"year\" + 0.117*\"girl\" + 0.081*\"business\" + 0.080*\"old\" + 0.065*\"note\" '\n",
      "  '+ 0.043*\"effect\" + 0.043*\"exist\" + 0.040*\"song\" + 0.038*\"ban\" + '\n",
      "  '0.030*\"war\"'),\n",
      " (11,\n",
      "  '0.094*\"student\" + 0.089*\"indian\" + 0.068*\"college\" + 0.055*\"top\" + '\n",
      "  '0.055*\"game\" + 0.054*\"site\" + 0.042*\"energy\" + 0.042*\"engineer\" + '\n",
      "  '0.035*\"math\" + 0.032*\"technology\"'),\n",
      " (12,\n",
      "  '0.165*\"much\" + 0.104*\"want\" + 0.076*\"woman\" + 0.073*\"come\" + 0.071*\"buy\" + '\n",
      "  '0.068*\"man\" + 0.037*\"support\" + 0.037*\"show\" + 0.027*\"interesting\" + '\n",
      "  '0.025*\"datum\"'),\n",
      " (13,\n",
      "  '0.105*\"phone\" + 0.062*\"cause\" + 0.062*\"app\" + 0.046*\"product\" + '\n",
      "  '0.046*\"right\" + 0.044*\"program\" + 0.042*\"send\" + 0.041*\"android\" + '\n",
      "  '0.040*\"develop\" + 0.036*\"message\"'),\n",
      " (14,\n",
      "  '0.104*\"job\" + 0.103*\"movie\" + 0.093*\"compare\" + 0.088*\"possible\" + '\n",
      "  '0.068*\"need\" + 0.067*\"change\" + 0.034*\"affect\" + 0.032*\"choose\" + '\n",
      "  '0.031*\"law\" + 0.027*\"card\"'),\n",
      " (15,\n",
      "  '0.055*\"win\" + 0.051*\"name\" + 0.051*\"hair\" + 0.051*\"consider\" + '\n",
      "  '0.050*\"computer\" + 0.049*\"true\" + 0.040*\"programming\" + 0.038*\"chance\" + '\n",
      "  '0.037*\"wrong\" + 0.035*\"donald_trump\"'),\n",
      " (16,\n",
      "  '0.149*\"work\" + 0.146*\"well\" + 0.124*\"take\" + 0.085*\"country\" + '\n",
      "  '0.064*\"friend\" + 0.051*\"black\" + 0.041*\"cost\" + 0.028*\"even\" + 0.028*\"tip\" '\n",
      "  '+ 0.022*\"talk\"'),\n",
      " (17,\n",
      "  '0.109*\"could\" + 0.099*\"be\" + 0.096*\"number\" + 0.065*\"write\" + 0.059*\"tell\" '\n",
      "  '+ 0.058*\"read\" + 0.044*\"do\" + 0.039*\"guy\" + 0.035*\"career\" + 0.033*\"end\"'),\n",
      " (18,\n",
      "  '0.121*\"ever\" + 0.089*\"world\" + 0.077*\"live\" + 0.058*\"eat\" + 0.055*\"can\" + '\n",
      "  '0.053*\"important\" + 0.043*\"pay\" + 0.042*\"have\" + 0.034*\"weight\" + '\n",
      "  '0.026*\"home\"'),\n",
      " (19,\n",
      "  '0.160*\"way\" + 0.140*\"get\" + 0.116*\"know\" + 0.097*\"find\" + 0.077*\"happen\" + '\n",
      "  '0.052*\"bad\" + 0.047*\"really\" + 0.041*\"prepare\" + 0.028*\"software\" + '\n",
      "  '0.024*\"type\"')]\n"
     ]
    }
   ],
   "source": [
    "# Print the Keyword in the 10 topics\n",
    "pprint(lda_model_1.print_topics())\n",
    "doc_lda = lda_model_1[corpus]"
   ]
  },
  {
   "cell_type": "raw",
   "metadata": {},
   "source": [
    "Choice of number of topics = 20 \n",
    "\n",
    "Topic_0 = first love feels different.\n",
    "Topic_1 = good service by government offices.\n",
    "Topic_2 = people making free calls using mobile.\n",
    "Topic_3 = make money online by thinking.\n",
    "Topic_4 = learn new language through a course.\n",
    "Topic_5 = Education.\n",
    "Topic_6 = use example in future.\n",
    "Topic_7 = time to ask questions on a website. \n",
    "Topic_8 = building long and big cars and watches. \n",
    "Topic_9 = like music and running.\n",
    "Topic_10 = old business ban and war.\n",
    "Topic_11 = Indian students top engineers and technology. \n",
    "Topic_12 = what women want to buy and men's interest.\n",
    "Topic_13 = develop android app for phone messages.\n",
    "Topic_14 = jobs movies law.\n",
    "Topic_15 = winning chance computer programming. \n",
    "Topic_16 = work well and country.\n",
    "Topic_17 = write read and tell numbers.\n",
    "Topic_18 = living in world for ever eat and pay.\n",
    "Topic_19 = way to get, find and know if something bad really happens. "
   ]
  }
 ],
 "metadata": {
  "colab": {
   "collapsed_sections": [],
   "name": "Inclass_Assignment_Topic_Modeling.ipynb",
   "provenance": []
  },
  "kernelspec": {
   "display_name": "Python 3",
   "language": "python",
   "name": "python3"
  },
  "language_info": {
   "codemirror_mode": {
    "name": "ipython",
    "version": 3
   },
   "file_extension": ".py",
   "mimetype": "text/x-python",
   "name": "python",
   "nbconvert_exporter": "python",
   "pygments_lexer": "ipython3",
   "version": "3.7.1"
  }
 },
 "nbformat": 4,
 "nbformat_minor": 1
}
