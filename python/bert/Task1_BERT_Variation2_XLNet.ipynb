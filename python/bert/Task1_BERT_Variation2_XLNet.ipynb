{
  "nbformat": 4,
  "nbformat_minor": 0,
  "metadata": {
    "colab": {
      "name": "Task1_BERT_Variation2-XLNet.ipynb",
      "provenance": [],
      "collapsed_sections": []
    },
    "kernelspec": {
      "name": "python3",
      "display_name": "Python 3"
    },
    "accelerator": "GPU",
    "widgets": {
      "application/vnd.jupyter.widget-state+json": {
        "02e707d14aa54df4974b1fa46f77d820": {
          "model_module": "@jupyter-widgets/controls",
          "model_name": "HBoxModel",
          "state": {
            "_view_name": "HBoxView",
            "_dom_classes": [],
            "_model_name": "HBoxModel",
            "_view_module": "@jupyter-widgets/controls",
            "_model_module_version": "1.5.0",
            "_view_count": null,
            "_view_module_version": "1.5.0",
            "box_style": "",
            "layout": "IPY_MODEL_4b3be2a239be4669ad7adcecbdab1876",
            "_model_module": "@jupyter-widgets/controls",
            "children": [
              "IPY_MODEL_cb9363c0e3344570bb67d740eacb8252",
              "IPY_MODEL_09ff8a52913e49168e7b76f919720536"
            ]
          }
        },
        "4b3be2a239be4669ad7adcecbdab1876": {
          "model_module": "@jupyter-widgets/base",
          "model_name": "LayoutModel",
          "state": {
            "_view_name": "LayoutView",
            "grid_template_rows": null,
            "right": null,
            "justify_content": null,
            "_view_module": "@jupyter-widgets/base",
            "overflow": null,
            "_model_module_version": "1.2.0",
            "_view_count": null,
            "flex_flow": null,
            "width": null,
            "min_width": null,
            "border": null,
            "align_items": null,
            "bottom": null,
            "_model_module": "@jupyter-widgets/base",
            "top": null,
            "grid_column": null,
            "overflow_y": null,
            "overflow_x": null,
            "grid_auto_flow": null,
            "grid_area": null,
            "grid_template_columns": null,
            "flex": null,
            "_model_name": "LayoutModel",
            "justify_items": null,
            "grid_row": null,
            "max_height": null,
            "align_content": null,
            "visibility": null,
            "align_self": null,
            "height": null,
            "min_height": null,
            "padding": null,
            "grid_auto_rows": null,
            "grid_gap": null,
            "max_width": null,
            "order": null,
            "_view_module_version": "1.2.0",
            "grid_template_areas": null,
            "object_position": null,
            "object_fit": null,
            "grid_auto_columns": null,
            "margin": null,
            "display": null,
            "left": null
          }
        },
        "cb9363c0e3344570bb67d740eacb8252": {
          "model_module": "@jupyter-widgets/controls",
          "model_name": "FloatProgressModel",
          "state": {
            "_view_name": "ProgressView",
            "style": "IPY_MODEL_a75964b6c6e84cb38db7eec9b6e4e7a5",
            "_dom_classes": [],
            "description": "Downloading: 100%",
            "_model_name": "FloatProgressModel",
            "bar_style": "success",
            "max": 798011,
            "_view_module": "@jupyter-widgets/controls",
            "_model_module_version": "1.5.0",
            "value": 798011,
            "_view_count": null,
            "_view_module_version": "1.5.0",
            "orientation": "horizontal",
            "min": 0,
            "description_tooltip": null,
            "_model_module": "@jupyter-widgets/controls",
            "layout": "IPY_MODEL_521135af3e604da6bcf41ef22087a7e6"
          }
        },
        "09ff8a52913e49168e7b76f919720536": {
          "model_module": "@jupyter-widgets/controls",
          "model_name": "HTMLModel",
          "state": {
            "_view_name": "HTMLView",
            "style": "IPY_MODEL_d7342ff125d44506889214a9d4150511",
            "_dom_classes": [],
            "description": "",
            "_model_name": "HTMLModel",
            "placeholder": "​",
            "_view_module": "@jupyter-widgets/controls",
            "_model_module_version": "1.5.0",
            "value": " 798k/798k [00:08&lt;00:00, 94.8kB/s]",
            "_view_count": null,
            "_view_module_version": "1.5.0",
            "description_tooltip": null,
            "_model_module": "@jupyter-widgets/controls",
            "layout": "IPY_MODEL_e8ebb78fc61447e99544f66488c118e7"
          }
        },
        "a75964b6c6e84cb38db7eec9b6e4e7a5": {
          "model_module": "@jupyter-widgets/controls",
          "model_name": "ProgressStyleModel",
          "state": {
            "_view_name": "StyleView",
            "_model_name": "ProgressStyleModel",
            "description_width": "initial",
            "_view_module": "@jupyter-widgets/base",
            "_model_module_version": "1.5.0",
            "_view_count": null,
            "_view_module_version": "1.2.0",
            "bar_color": null,
            "_model_module": "@jupyter-widgets/controls"
          }
        },
        "521135af3e604da6bcf41ef22087a7e6": {
          "model_module": "@jupyter-widgets/base",
          "model_name": "LayoutModel",
          "state": {
            "_view_name": "LayoutView",
            "grid_template_rows": null,
            "right": null,
            "justify_content": null,
            "_view_module": "@jupyter-widgets/base",
            "overflow": null,
            "_model_module_version": "1.2.0",
            "_view_count": null,
            "flex_flow": null,
            "width": null,
            "min_width": null,
            "border": null,
            "align_items": null,
            "bottom": null,
            "_model_module": "@jupyter-widgets/base",
            "top": null,
            "grid_column": null,
            "overflow_y": null,
            "overflow_x": null,
            "grid_auto_flow": null,
            "grid_area": null,
            "grid_template_columns": null,
            "flex": null,
            "_model_name": "LayoutModel",
            "justify_items": null,
            "grid_row": null,
            "max_height": null,
            "align_content": null,
            "visibility": null,
            "align_self": null,
            "height": null,
            "min_height": null,
            "padding": null,
            "grid_auto_rows": null,
            "grid_gap": null,
            "max_width": null,
            "order": null,
            "_view_module_version": "1.2.0",
            "grid_template_areas": null,
            "object_position": null,
            "object_fit": null,
            "grid_auto_columns": null,
            "margin": null,
            "display": null,
            "left": null
          }
        },
        "d7342ff125d44506889214a9d4150511": {
          "model_module": "@jupyter-widgets/controls",
          "model_name": "DescriptionStyleModel",
          "state": {
            "_view_name": "StyleView",
            "_model_name": "DescriptionStyleModel",
            "description_width": "",
            "_view_module": "@jupyter-widgets/base",
            "_model_module_version": "1.5.0",
            "_view_count": null,
            "_view_module_version": "1.2.0",
            "_model_module": "@jupyter-widgets/controls"
          }
        },
        "e8ebb78fc61447e99544f66488c118e7": {
          "model_module": "@jupyter-widgets/base",
          "model_name": "LayoutModel",
          "state": {
            "_view_name": "LayoutView",
            "grid_template_rows": null,
            "right": null,
            "justify_content": null,
            "_view_module": "@jupyter-widgets/base",
            "overflow": null,
            "_model_module_version": "1.2.0",
            "_view_count": null,
            "flex_flow": null,
            "width": null,
            "min_width": null,
            "border": null,
            "align_items": null,
            "bottom": null,
            "_model_module": "@jupyter-widgets/base",
            "top": null,
            "grid_column": null,
            "overflow_y": null,
            "overflow_x": null,
            "grid_auto_flow": null,
            "grid_area": null,
            "grid_template_columns": null,
            "flex": null,
            "_model_name": "LayoutModel",
            "justify_items": null,
            "grid_row": null,
            "max_height": null,
            "align_content": null,
            "visibility": null,
            "align_self": null,
            "height": null,
            "min_height": null,
            "padding": null,
            "grid_auto_rows": null,
            "grid_gap": null,
            "max_width": null,
            "order": null,
            "_view_module_version": "1.2.0",
            "grid_template_areas": null,
            "object_position": null,
            "object_fit": null,
            "grid_auto_columns": null,
            "margin": null,
            "display": null,
            "left": null
          }
        },
        "8db96788d79a47d7842ee1b0797d7f2d": {
          "model_module": "@jupyter-widgets/controls",
          "model_name": "HBoxModel",
          "state": {
            "_view_name": "HBoxView",
            "_dom_classes": [],
            "_model_name": "HBoxModel",
            "_view_module": "@jupyter-widgets/controls",
            "_model_module_version": "1.5.0",
            "_view_count": null,
            "_view_module_version": "1.5.0",
            "box_style": "",
            "layout": "IPY_MODEL_0323c3f5b7b94d18be44aa3fbcc0e51a",
            "_model_module": "@jupyter-widgets/controls",
            "children": [
              "IPY_MODEL_c14f25943c9841d29388f9f699c4fc44",
              "IPY_MODEL_0d47f5c05b2a4712bf8ecc386393a567"
            ]
          }
        },
        "0323c3f5b7b94d18be44aa3fbcc0e51a": {
          "model_module": "@jupyter-widgets/base",
          "model_name": "LayoutModel",
          "state": {
            "_view_name": "LayoutView",
            "grid_template_rows": null,
            "right": null,
            "justify_content": null,
            "_view_module": "@jupyter-widgets/base",
            "overflow": null,
            "_model_module_version": "1.2.0",
            "_view_count": null,
            "flex_flow": null,
            "width": null,
            "min_width": null,
            "border": null,
            "align_items": null,
            "bottom": null,
            "_model_module": "@jupyter-widgets/base",
            "top": null,
            "grid_column": null,
            "overflow_y": null,
            "overflow_x": null,
            "grid_auto_flow": null,
            "grid_area": null,
            "grid_template_columns": null,
            "flex": null,
            "_model_name": "LayoutModel",
            "justify_items": null,
            "grid_row": null,
            "max_height": null,
            "align_content": null,
            "visibility": null,
            "align_self": null,
            "height": null,
            "min_height": null,
            "padding": null,
            "grid_auto_rows": null,
            "grid_gap": null,
            "max_width": null,
            "order": null,
            "_view_module_version": "1.2.0",
            "grid_template_areas": null,
            "object_position": null,
            "object_fit": null,
            "grid_auto_columns": null,
            "margin": null,
            "display": null,
            "left": null
          }
        },
        "c14f25943c9841d29388f9f699c4fc44": {
          "model_module": "@jupyter-widgets/controls",
          "model_name": "FloatProgressModel",
          "state": {
            "_view_name": "ProgressView",
            "style": "IPY_MODEL_984b42d379684a938f21739808e38dbd",
            "_dom_classes": [],
            "description": "Downloading: 100%",
            "_model_name": "FloatProgressModel",
            "bar_style": "success",
            "max": 760,
            "_view_module": "@jupyter-widgets/controls",
            "_model_module_version": "1.5.0",
            "value": 760,
            "_view_count": null,
            "_view_module_version": "1.5.0",
            "orientation": "horizontal",
            "min": 0,
            "description_tooltip": null,
            "_model_module": "@jupyter-widgets/controls",
            "layout": "IPY_MODEL_85aee4d9da724796974af6aeb6fa363f"
          }
        },
        "0d47f5c05b2a4712bf8ecc386393a567": {
          "model_module": "@jupyter-widgets/controls",
          "model_name": "HTMLModel",
          "state": {
            "_view_name": "HTMLView",
            "style": "IPY_MODEL_9a11b08f813a4c2e849d69bc6c317b0a",
            "_dom_classes": [],
            "description": "",
            "_model_name": "HTMLModel",
            "placeholder": "​",
            "_view_module": "@jupyter-widgets/controls",
            "_model_module_version": "1.5.0",
            "value": " 760/760 [00:00&lt;00:00, 1.95kB/s]",
            "_view_count": null,
            "_view_module_version": "1.5.0",
            "description_tooltip": null,
            "_model_module": "@jupyter-widgets/controls",
            "layout": "IPY_MODEL_36b04fc3bfc4468d905540e70fa1955c"
          }
        },
        "984b42d379684a938f21739808e38dbd": {
          "model_module": "@jupyter-widgets/controls",
          "model_name": "ProgressStyleModel",
          "state": {
            "_view_name": "StyleView",
            "_model_name": "ProgressStyleModel",
            "description_width": "initial",
            "_view_module": "@jupyter-widgets/base",
            "_model_module_version": "1.5.0",
            "_view_count": null,
            "_view_module_version": "1.2.0",
            "bar_color": null,
            "_model_module": "@jupyter-widgets/controls"
          }
        },
        "85aee4d9da724796974af6aeb6fa363f": {
          "model_module": "@jupyter-widgets/base",
          "model_name": "LayoutModel",
          "state": {
            "_view_name": "LayoutView",
            "grid_template_rows": null,
            "right": null,
            "justify_content": null,
            "_view_module": "@jupyter-widgets/base",
            "overflow": null,
            "_model_module_version": "1.2.0",
            "_view_count": null,
            "flex_flow": null,
            "width": null,
            "min_width": null,
            "border": null,
            "align_items": null,
            "bottom": null,
            "_model_module": "@jupyter-widgets/base",
            "top": null,
            "grid_column": null,
            "overflow_y": null,
            "overflow_x": null,
            "grid_auto_flow": null,
            "grid_area": null,
            "grid_template_columns": null,
            "flex": null,
            "_model_name": "LayoutModel",
            "justify_items": null,
            "grid_row": null,
            "max_height": null,
            "align_content": null,
            "visibility": null,
            "align_self": null,
            "height": null,
            "min_height": null,
            "padding": null,
            "grid_auto_rows": null,
            "grid_gap": null,
            "max_width": null,
            "order": null,
            "_view_module_version": "1.2.0",
            "grid_template_areas": null,
            "object_position": null,
            "object_fit": null,
            "grid_auto_columns": null,
            "margin": null,
            "display": null,
            "left": null
          }
        },
        "9a11b08f813a4c2e849d69bc6c317b0a": {
          "model_module": "@jupyter-widgets/controls",
          "model_name": "DescriptionStyleModel",
          "state": {
            "_view_name": "StyleView",
            "_model_name": "DescriptionStyleModel",
            "description_width": "",
            "_view_module": "@jupyter-widgets/base",
            "_model_module_version": "1.5.0",
            "_view_count": null,
            "_view_module_version": "1.2.0",
            "_model_module": "@jupyter-widgets/controls"
          }
        },
        "36b04fc3bfc4468d905540e70fa1955c": {
          "model_module": "@jupyter-widgets/base",
          "model_name": "LayoutModel",
          "state": {
            "_view_name": "LayoutView",
            "grid_template_rows": null,
            "right": null,
            "justify_content": null,
            "_view_module": "@jupyter-widgets/base",
            "overflow": null,
            "_model_module_version": "1.2.0",
            "_view_count": null,
            "flex_flow": null,
            "width": null,
            "min_width": null,
            "border": null,
            "align_items": null,
            "bottom": null,
            "_model_module": "@jupyter-widgets/base",
            "top": null,
            "grid_column": null,
            "overflow_y": null,
            "overflow_x": null,
            "grid_auto_flow": null,
            "grid_area": null,
            "grid_template_columns": null,
            "flex": null,
            "_model_name": "LayoutModel",
            "justify_items": null,
            "grid_row": null,
            "max_height": null,
            "align_content": null,
            "visibility": null,
            "align_self": null,
            "height": null,
            "min_height": null,
            "padding": null,
            "grid_auto_rows": null,
            "grid_gap": null,
            "max_width": null,
            "order": null,
            "_view_module_version": "1.2.0",
            "grid_template_areas": null,
            "object_position": null,
            "object_fit": null,
            "grid_auto_columns": null,
            "margin": null,
            "display": null,
            "left": null
          }
        },
        "95b79865a16a4f92a1ef4a22e7fafd78": {
          "model_module": "@jupyter-widgets/controls",
          "model_name": "HBoxModel",
          "state": {
            "_view_name": "HBoxView",
            "_dom_classes": [],
            "_model_name": "HBoxModel",
            "_view_module": "@jupyter-widgets/controls",
            "_model_module_version": "1.5.0",
            "_view_count": null,
            "_view_module_version": "1.5.0",
            "box_style": "",
            "layout": "IPY_MODEL_ce49de8c1d92492998456db69085e25e",
            "_model_module": "@jupyter-widgets/controls",
            "children": [
              "IPY_MODEL_6c84d9bbf6574e19817ed7516edd6698",
              "IPY_MODEL_cc207e64100c4594b4ee123100e5183d"
            ]
          }
        },
        "ce49de8c1d92492998456db69085e25e": {
          "model_module": "@jupyter-widgets/base",
          "model_name": "LayoutModel",
          "state": {
            "_view_name": "LayoutView",
            "grid_template_rows": null,
            "right": null,
            "justify_content": null,
            "_view_module": "@jupyter-widgets/base",
            "overflow": null,
            "_model_module_version": "1.2.0",
            "_view_count": null,
            "flex_flow": null,
            "width": null,
            "min_width": null,
            "border": null,
            "align_items": null,
            "bottom": null,
            "_model_module": "@jupyter-widgets/base",
            "top": null,
            "grid_column": null,
            "overflow_y": null,
            "overflow_x": null,
            "grid_auto_flow": null,
            "grid_area": null,
            "grid_template_columns": null,
            "flex": null,
            "_model_name": "LayoutModel",
            "justify_items": null,
            "grid_row": null,
            "max_height": null,
            "align_content": null,
            "visibility": null,
            "align_self": null,
            "height": null,
            "min_height": null,
            "padding": null,
            "grid_auto_rows": null,
            "grid_gap": null,
            "max_width": null,
            "order": null,
            "_view_module_version": "1.2.0",
            "grid_template_areas": null,
            "object_position": null,
            "object_fit": null,
            "grid_auto_columns": null,
            "margin": null,
            "display": null,
            "left": null
          }
        },
        "6c84d9bbf6574e19817ed7516edd6698": {
          "model_module": "@jupyter-widgets/controls",
          "model_name": "FloatProgressModel",
          "state": {
            "_view_name": "ProgressView",
            "style": "IPY_MODEL_2fff4cdf0e4a4a00b34ea611f5496aaf",
            "_dom_classes": [],
            "description": "Downloading: 100%",
            "_model_name": "FloatProgressModel",
            "bar_style": "success",
            "max": 467042463,
            "_view_module": "@jupyter-widgets/controls",
            "_model_module_version": "1.5.0",
            "value": 467042463,
            "_view_count": null,
            "_view_module_version": "1.5.0",
            "orientation": "horizontal",
            "min": 0,
            "description_tooltip": null,
            "_model_module": "@jupyter-widgets/controls",
            "layout": "IPY_MODEL_66b8b4ddcdf6459497f6eab54b4f3023"
          }
        },
        "cc207e64100c4594b4ee123100e5183d": {
          "model_module": "@jupyter-widgets/controls",
          "model_name": "HTMLModel",
          "state": {
            "_view_name": "HTMLView",
            "style": "IPY_MODEL_e09995a4e0e44f7f82014af99e9c24f8",
            "_dom_classes": [],
            "description": "",
            "_model_name": "HTMLModel",
            "placeholder": "​",
            "_view_module": "@jupyter-widgets/controls",
            "_model_module_version": "1.5.0",
            "value": " 467M/467M [00:09&lt;00:00, 48.7MB/s]",
            "_view_count": null,
            "_view_module_version": "1.5.0",
            "description_tooltip": null,
            "_model_module": "@jupyter-widgets/controls",
            "layout": "IPY_MODEL_852874cc2a194bd1b42b4130bb82246e"
          }
        },
        "2fff4cdf0e4a4a00b34ea611f5496aaf": {
          "model_module": "@jupyter-widgets/controls",
          "model_name": "ProgressStyleModel",
          "state": {
            "_view_name": "StyleView",
            "_model_name": "ProgressStyleModel",
            "description_width": "initial",
            "_view_module": "@jupyter-widgets/base",
            "_model_module_version": "1.5.0",
            "_view_count": null,
            "_view_module_version": "1.2.0",
            "bar_color": null,
            "_model_module": "@jupyter-widgets/controls"
          }
        },
        "66b8b4ddcdf6459497f6eab54b4f3023": {
          "model_module": "@jupyter-widgets/base",
          "model_name": "LayoutModel",
          "state": {
            "_view_name": "LayoutView",
            "grid_template_rows": null,
            "right": null,
            "justify_content": null,
            "_view_module": "@jupyter-widgets/base",
            "overflow": null,
            "_model_module_version": "1.2.0",
            "_view_count": null,
            "flex_flow": null,
            "width": null,
            "min_width": null,
            "border": null,
            "align_items": null,
            "bottom": null,
            "_model_module": "@jupyter-widgets/base",
            "top": null,
            "grid_column": null,
            "overflow_y": null,
            "overflow_x": null,
            "grid_auto_flow": null,
            "grid_area": null,
            "grid_template_columns": null,
            "flex": null,
            "_model_name": "LayoutModel",
            "justify_items": null,
            "grid_row": null,
            "max_height": null,
            "align_content": null,
            "visibility": null,
            "align_self": null,
            "height": null,
            "min_height": null,
            "padding": null,
            "grid_auto_rows": null,
            "grid_gap": null,
            "max_width": null,
            "order": null,
            "_view_module_version": "1.2.0",
            "grid_template_areas": null,
            "object_position": null,
            "object_fit": null,
            "grid_auto_columns": null,
            "margin": null,
            "display": null,
            "left": null
          }
        },
        "e09995a4e0e44f7f82014af99e9c24f8": {
          "model_module": "@jupyter-widgets/controls",
          "model_name": "DescriptionStyleModel",
          "state": {
            "_view_name": "StyleView",
            "_model_name": "DescriptionStyleModel",
            "description_width": "",
            "_view_module": "@jupyter-widgets/base",
            "_model_module_version": "1.5.0",
            "_view_count": null,
            "_view_module_version": "1.2.0",
            "_model_module": "@jupyter-widgets/controls"
          }
        },
        "852874cc2a194bd1b42b4130bb82246e": {
          "model_module": "@jupyter-widgets/base",
          "model_name": "LayoutModel",
          "state": {
            "_view_name": "LayoutView",
            "grid_template_rows": null,
            "right": null,
            "justify_content": null,
            "_view_module": "@jupyter-widgets/base",
            "overflow": null,
            "_model_module_version": "1.2.0",
            "_view_count": null,
            "flex_flow": null,
            "width": null,
            "min_width": null,
            "border": null,
            "align_items": null,
            "bottom": null,
            "_model_module": "@jupyter-widgets/base",
            "top": null,
            "grid_column": null,
            "overflow_y": null,
            "overflow_x": null,
            "grid_auto_flow": null,
            "grid_area": null,
            "grid_template_columns": null,
            "flex": null,
            "_model_name": "LayoutModel",
            "justify_items": null,
            "grid_row": null,
            "max_height": null,
            "align_content": null,
            "visibility": null,
            "align_self": null,
            "height": null,
            "min_height": null,
            "padding": null,
            "grid_auto_rows": null,
            "grid_gap": null,
            "max_width": null,
            "order": null,
            "_view_module_version": "1.2.0",
            "grid_template_areas": null,
            "object_position": null,
            "object_fit": null,
            "grid_auto_columns": null,
            "margin": null,
            "display": null,
            "left": null
          }
        }
      }
    }
  },
  "cells": [
    {
      "cell_type": "code",
      "metadata": {
        "colab": {
          "base_uri": "https://localhost:8080/"
        },
        "id": "rS2TfQFJE4M_",
        "outputId": "02843675-2687-4cc3-9a69-b0889978bdea"
      },
      "source": [
        "!pip install transformers\n",
        "!pip install sentencepiece\n",
        "import sentencepiece\n",
        "import torch\n",
        "import torch.nn as nn\n",
        "import numpy as np\n",
        "import matplotlib.pyplot as plt\n",
        "import seaborn as sns\n",
        "from sklearn.metrics import confusion_matrix\n",
        "from datetime import datetime\n",
        "from pathlib import Path\n",
        "import pandas as pd\n",
        "import torchtext.data as ttd"
      ],
      "execution_count": 1,
      "outputs": [
        {
          "output_type": "stream",
          "text": [
            "Requirement already satisfied: transformers in /usr/local/lib/python3.6/dist-packages (4.0.0)\n",
            "Requirement already satisfied: requests in /usr/local/lib/python3.6/dist-packages (from transformers) (2.23.0)\n",
            "Requirement already satisfied: tqdm>=4.27 in /usr/local/lib/python3.6/dist-packages (from transformers) (4.41.1)\n",
            "Requirement already satisfied: numpy in /usr/local/lib/python3.6/dist-packages (from transformers) (1.18.5)\n",
            "Requirement already satisfied: tokenizers==0.9.4 in /usr/local/lib/python3.6/dist-packages (from transformers) (0.9.4)\n",
            "Requirement already satisfied: sacremoses in /usr/local/lib/python3.6/dist-packages (from transformers) (0.0.43)\n",
            "Requirement already satisfied: dataclasses; python_version < \"3.7\" in /usr/local/lib/python3.6/dist-packages (from transformers) (0.8)\n",
            "Requirement already satisfied: filelock in /usr/local/lib/python3.6/dist-packages (from transformers) (3.0.12)\n",
            "Requirement already satisfied: regex!=2019.12.17 in /usr/local/lib/python3.6/dist-packages (from transformers) (2019.12.20)\n",
            "Requirement already satisfied: packaging in /usr/local/lib/python3.6/dist-packages (from transformers) (20.4)\n",
            "Requirement already satisfied: urllib3!=1.25.0,!=1.25.1,<1.26,>=1.21.1 in /usr/local/lib/python3.6/dist-packages (from requests->transformers) (1.24.3)\n",
            "Requirement already satisfied: chardet<4,>=3.0.2 in /usr/local/lib/python3.6/dist-packages (from requests->transformers) (3.0.4)\n",
            "Requirement already satisfied: idna<3,>=2.5 in /usr/local/lib/python3.6/dist-packages (from requests->transformers) (2.10)\n",
            "Requirement already satisfied: certifi>=2017.4.17 in /usr/local/lib/python3.6/dist-packages (from requests->transformers) (2020.11.8)\n",
            "Requirement already satisfied: joblib in /usr/local/lib/python3.6/dist-packages (from sacremoses->transformers) (0.17.0)\n",
            "Requirement already satisfied: six in /usr/local/lib/python3.6/dist-packages (from sacremoses->transformers) (1.15.0)\n",
            "Requirement already satisfied: click in /usr/local/lib/python3.6/dist-packages (from sacremoses->transformers) (7.1.2)\n",
            "Requirement already satisfied: pyparsing>=2.0.2 in /usr/local/lib/python3.6/dist-packages (from packaging->transformers) (2.4.7)\n",
            "Requirement already satisfied: sentencepiece in /usr/local/lib/python3.6/dist-packages (0.1.94)\n"
          ],
          "name": "stdout"
        }
      ]
    },
    {
      "cell_type": "markdown",
      "metadata": {
        "id": "guw6ZNtaswKc"
      },
      "source": [
        "## Loading Dataset\n",
        "\n",
        "We will use The 20 Newsgroups dataset \n",
        "Dataset [homepage](http://qwone.com/~jason/20Newsgroups/): \n",
        "\n",
        "Scikit-learn includes some nice helper functions for retrieving the 20 Newsgroups dataset-- https://scikit-learn.org/stable/modules/generated/sklearn.datasets.fetch_20newsgroups.html. We'll use them below to retrieve the dataset.\n",
        "\n",
        "Also look at results fron non- neural net models here : https://scikit-learn.org/stable/auto_examples/text/plot_document_classification_20newsgroups.html#sphx-glr-auto-examples-text-plot-document-classification-20newsgroups-py\n",
        "\n"
      ]
    },
    {
      "cell_type": "code",
      "metadata": {
        "colab": {
          "base_uri": "https://localhost:8080/"
        },
        "id": "CeF7owBRSnZN",
        "outputId": "f6ef1469-b761-4017-acb6-4a0fdd67d39b"
      },
      "source": [
        "gpu_info = !nvidia-smi\n",
        "gpu_info = '\\n'.join(gpu_info)\n",
        "if gpu_info.find('failed') >= 0:\n",
        "  print('Select the Runtime > \"Change runtime type\" menu to enable a GPU accelerator, ')\n",
        "  print('and then re-execute this cell.')\n",
        "else:\n",
        "  print(gpu_info)"
      ],
      "execution_count": 2,
      "outputs": [
        {
          "output_type": "stream",
          "text": [
            "Wed Dec  2 07:46:54 2020       \n",
            "+-----------------------------------------------------------------------------+\n",
            "| NVIDIA-SMI 455.38       Driver Version: 418.67       CUDA Version: 10.1     |\n",
            "|-------------------------------+----------------------+----------------------+\n",
            "| GPU  Name        Persistence-M| Bus-Id        Disp.A | Volatile Uncorr. ECC |\n",
            "| Fan  Temp  Perf  Pwr:Usage/Cap|         Memory-Usage | GPU-Util  Compute M. |\n",
            "|                               |                      |               MIG M. |\n",
            "|===============================+======================+======================|\n",
            "|   0  Tesla V100-SXM2...  Off  | 00000000:00:04.0 Off |                    0 |\n",
            "| N/A   33C    P0    24W / 300W |      0MiB / 16130MiB |      0%      Default |\n",
            "|                               |                      |                 ERR! |\n",
            "+-------------------------------+----------------------+----------------------+\n",
            "                                                                               \n",
            "+-----------------------------------------------------------------------------+\n",
            "| Processes:                                                                  |\n",
            "|  GPU   GI   CI        PID   Type   Process name                  GPU Memory |\n",
            "|        ID   ID                                                   Usage      |\n",
            "|=============================================================================|\n",
            "|  No running processes found                                                 |\n",
            "+-----------------------------------------------------------------------------+\n"
          ],
          "name": "stdout"
        }
      ]
    },
    {
      "cell_type": "code",
      "metadata": {
        "colab": {
          "base_uri": "https://localhost:8080/"
        },
        "id": "apbVI5sKSmG8",
        "outputId": "308e00df-c749-4aea-e18a-ca77546d8c35"
      },
      "source": [
        "device = torch.device(\"cuda:0\" if torch.cuda.is_available() else \"cpu\")\n",
        "print(device)"
      ],
      "execution_count": 3,
      "outputs": [
        {
          "output_type": "stream",
          "text": [
            "cuda:0\n"
          ],
          "name": "stdout"
        }
      ]
    },
    {
      "cell_type": "code",
      "metadata": {
        "id": "QXScUokPqyPx"
      },
      "source": [
        "from sklearn.datasets import fetch_20newsgroups\n",
        "\n",
        "train = fetch_20newsgroups(subset='train',\n",
        "                           remove=('headers', 'footers', 'quotes'))\n",
        "\n",
        "test = fetch_20newsgroups(subset='test',\n",
        "                           remove=('headers', 'footers', 'quotes'))"
      ],
      "execution_count": 4,
      "outputs": []
    },
    {
      "cell_type": "code",
      "metadata": {
        "colab": {
          "base_uri": "https://localhost:8080/"
        },
        "id": "3NS-Vxi0Pkt-",
        "outputId": "5f775c6e-b861-4ac3-b628-fa791d5d0dc4"
      },
      "source": [
        "print(train.data[0])"
      ],
      "execution_count": 5,
      "outputs": [
        {
          "output_type": "stream",
          "text": [
            "I was wondering if anyone out there could enlighten me on this car I saw\n",
            "the other day. It was a 2-door sports car, looked to be from the late 60s/\n",
            "early 70s. It was called a Bricklin. The doors were really small. In addition,\n",
            "the front bumper was separate from the rest of the body. This is \n",
            "all I know. If anyone can tellme a model name, engine specs, years\n",
            "of production, where this car is made, history, or whatever info you\n",
            "have on this funky looking car, please e-mail.\n"
          ],
          "name": "stdout"
        }
      ]
    },
    {
      "cell_type": "code",
      "metadata": {
        "colab": {
          "base_uri": "https://localhost:8080/"
        },
        "id": "jV2eF-BiPrLZ",
        "outputId": "8ff32e50-9515-41cd-cc4f-210026c4d304"
      },
      "source": [
        "print(train.target[0])"
      ],
      "execution_count": 6,
      "outputs": [
        {
          "output_type": "stream",
          "text": [
            "7\n"
          ],
          "name": "stdout"
        }
      ]
    },
    {
      "cell_type": "code",
      "metadata": {
        "colab": {
          "base_uri": "https://localhost:8080/"
        },
        "id": "-IqtsBCEPx-E",
        "outputId": "a80fb673-e31f-401d-d0b4-1b9211bf5603"
      },
      "source": [
        "train.target_names"
      ],
      "execution_count": 7,
      "outputs": [
        {
          "output_type": "execute_result",
          "data": {
            "text/plain": [
              "['alt.atheism',\n",
              " 'comp.graphics',\n",
              " 'comp.os.ms-windows.misc',\n",
              " 'comp.sys.ibm.pc.hardware',\n",
              " 'comp.sys.mac.hardware',\n",
              " 'comp.windows.x',\n",
              " 'misc.forsale',\n",
              " 'rec.autos',\n",
              " 'rec.motorcycles',\n",
              " 'rec.sport.baseball',\n",
              " 'rec.sport.hockey',\n",
              " 'sci.crypt',\n",
              " 'sci.electronics',\n",
              " 'sci.med',\n",
              " 'sci.space',\n",
              " 'soc.religion.christian',\n",
              " 'talk.politics.guns',\n",
              " 'talk.politics.mideast',\n",
              " 'talk.politics.misc',\n",
              " 'talk.religion.misc']"
            ]
          },
          "metadata": {
            "tags": []
          },
          "execution_count": 7
        }
      ]
    },
    {
      "cell_type": "code",
      "metadata": {
        "colab": {
          "base_uri": "https://localhost:8080/",
          "height": 318
        },
        "id": "0NiOeWmbRV_G",
        "outputId": "655a17f6-5bdc-4679-b65d-b3f57087ab7a"
      },
      "source": [
        "import seaborn as sns\n",
        "\n",
        "# Plot the number of tokens of each length.\n",
        "sns.countplot(train.target);"
      ],
      "execution_count": 8,
      "outputs": [
        {
          "output_type": "stream",
          "text": [
            "/usr/local/lib/python3.6/dist-packages/seaborn/_decorators.py:43: FutureWarning: Pass the following variable as a keyword arg: x. From version 0.12, the only valid positional argument will be `data`, and passing other arguments without an explicit keyword will result in an error or misinterpretation.\n",
            "  FutureWarning\n"
          ],
          "name": "stderr"
        },
        {
          "output_type": "display_data",
          "data": {
            "image/png": "[encoded data removed]",
            "text/plain": [
              "<Figure size 432x288 with 1 Axes>"
            ]
          },
          "metadata": {
            "tags": [],
            "needs_background": "light"
          }
        }
      ]
    },
    {
      "cell_type": "markdown",
      "metadata": {
        "id": "7RX3KKlFtdUR"
      },
      "source": [
        "#XLNet with 128 features and truncating at end"
      ]
    },
    {
      "cell_type": "code",
      "metadata": {
        "colab": {
          "base_uri": "https://localhost:8080/",
          "height": 82,
          "referenced_widgets": [
            "02e707d14aa54df4974b1fa46f77d820",
            "4b3be2a239be4669ad7adcecbdab1876",
            "cb9363c0e3344570bb67d740eacb8252",
            "09ff8a52913e49168e7b76f919720536",
            "a75964b6c6e84cb38db7eec9b6e4e7a5",
            "521135af3e604da6bcf41ef22087a7e6",
            "d7342ff125d44506889214a9d4150511",
            "e8ebb78fc61447e99544f66488c118e7"
          ]
        },
        "id": "B5PWjsT0FeKm",
        "outputId": "3d158fe7-83fe-424b-cf40-6fe351587b73"
      },
      "source": [
        "from transformers import XLNetTokenizer\n",
        "\n",
        "# Load the BERT tokenizer.\n",
        "print('Loading XLNet tokenizer...')\n",
        "tokenizer = XLNetTokenizer.from_pretrained('xlnet-base-cased', do_lower_case=True)"
      ],
      "execution_count": 10,
      "outputs": [
        {
          "output_type": "stream",
          "text": [
            "Loading XLNet tokenizer...\n"
          ],
          "name": "stdout"
        },
        {
          "output_type": "display_data",
          "data": {
            "application/vnd.jupyter.widget-view+json": {
              "model_id": "02e707d14aa54df4974b1fa46f77d820",
              "version_minor": 0,
              "version_major": 2
            },
            "text/plain": [
              "HBox(children=(FloatProgress(value=0.0, description='Downloading', max=798011.0, style=ProgressStyle(descripti…"
            ]
          },
          "metadata": {
            "tags": []
          }
        },
        {
          "output_type": "stream",
          "text": [
            "\n"
          ],
          "name": "stdout"
        }
      ]
    },
    {
      "cell_type": "code",
      "metadata": {
        "colab": {
          "base_uri": "https://localhost:8080/"
        },
        "id": "1hI6d8597O40",
        "outputId": "e6d74e64-6f6c-4228-a385-1ec88ea43ac0"
      },
      "source": [
        "# Tokenize all of the sentences and map the tokens to thier word IDs.\n",
        "input_ids = []\n",
        "attention_masks = []\n",
        "\n",
        "# For every sentence...\n",
        "for sent in train.data:\n",
        "    # `encode_plus` will:\n",
        "    #   (1) Tokenize the sentence.\n",
        "    #   (2) Prepend the `[CLS]` token to the start.\n",
        "    #   (3) Append the `[SEP]` token to the end.\n",
        "    #   (4) Map tokens to their IDs.\n",
        "    #   (5) Pad or truncate the sentence to `max_length`\n",
        "    #   (6) Create attention masks for [PAD] tokens.\n",
        "    encoded_dict = tokenizer.encode_plus(\n",
        "                        sent,                      # Sentence to encode.\n",
        "                        add_special_tokens = True, # Add '[CLS]' and '[SEP]'\n",
        "                        truncation=True, #Truncate the sentences\n",
        "                        max_length = 128,           # Pad & truncate all sentences.\n",
        "                        pad_to_max_length = True,\n",
        "                        return_attention_mask = True,   # Construct attn. masks.\n",
        "                        return_tensors = 'pt',     # Return pytorch tensors.\n",
        "                   )\n",
        "    \n",
        "    # Add the encoded sentence to the list.    \n",
        "    input_ids.append(encoded_dict['input_ids'])\n",
        "    \n",
        "    # And its attention mask (simply differentiates padding from non-padding).\n",
        "    attention_masks.append(encoded_dict['attention_mask'])\n",
        "\n",
        "# Convert the lists into tensors.\n",
        "input_ids = torch.cat(input_ids, dim=0)\n",
        "attention_masks = torch.cat(attention_masks, dim=0)\n",
        "labels = torch.tensor(train.target)\n",
        "\n",
        "# Print sentence 0, now as a list of IDs.\n",
        "print('Original: ', train.data[0])\n",
        "print('Token IDs:', input_ids[0])"
      ],
      "execution_count": 11,
      "outputs": [
        {
          "output_type": "stream",
          "text": [
            "/usr/local/lib/python3.6/dist-packages/transformers/tokenization_utils_base.py:2142: FutureWarning: The `pad_to_max_length` argument is deprecated and will be removed in a future version, use `padding=True` or `padding='longest'` to pad to the longest sequence in the batch, or use `padding='max_length'` to pad to a max length. In this case, you can give a specific length with `max_length` (e.g. `max_length=45`) or leave max_length to None to pad to the maximal input size of the model (e.g. 512 for Bert).\n",
            "  FutureWarning,\n"
          ],
          "name": "stderr"
        },
        {
          "output_type": "stream",
          "text": [
            "Original:  I was wondering if anyone out there could enlighten me on this car I saw\n",
            "the other day. It was a 2-door sports car, looked to be from the late 60s/\n",
            "early 70s. It was called a Bricklin. The doors were really small. In addition,\n",
            "the front bumper was separate from the rest of the body. This is \n",
            "all I know. If anyone can tellme a model name, engine specs, years\n",
            "of production, where this car is made, history, or whatever info you\n",
            "have on this funky looking car, please e-mail.\n",
            "Token IDs: tensor([    5,     5,     5,    17,   150,    30,  7083,   108,  1216,    78,\n",
            "          105,   121, 22531,   110,    31,    52,   398,    17,   150,   685,\n",
            "           18,    86,   191,     9,    36,    30,    24,   159,    13,  9381,\n",
            "         1721,   398,    19,   719,    22,    39,    40,    18,   471,  1639,\n",
            "           23,   167,   319,  2415,    23,     9,    36,    30,   271,    24,\n",
            "         5989,  1554,     9,    18,  3965,    55,   343,   316,     9,    25,\n",
            "          864,    19,    18,   605, 19990,    30,  1731,    40,    18,   904,\n",
            "           20,    18,   458,     9,    52,    27,    71,    17,   150,   175,\n",
            "            9,   108,  1216,    64,   759,  1088,    24,  1342,   304,    19,\n",
            "         2012,    17,    23, 10112,    23,    19,   123,    20,   845,    19,\n",
            "          131,    52,   398,    27,   140,    19,   614,    19,    49,  2636,\n",
            "         7549,    44,    47,    31,    52,  1572,  3531,   589,   398,    19,\n",
            "         1282,    17,    93,    13,  1635,     9,     4,     3])\n"
          ],
          "name": "stdout"
        }
      ]
    },
    {
      "cell_type": "code",
      "metadata": {
        "colab": {
          "base_uri": "https://localhost:8080/"
        },
        "id": "mK1TbacGPzi4",
        "outputId": "ebec344f-14f5-4c3c-f007-4fc4eb97e597"
      },
      "source": [
        "test_input_ids = []\n",
        "test_attention_masks = []\n",
        "\n",
        "# For every sentence...\n",
        "for sent in test.data:\n",
        "    # `encode_plus` will:\n",
        "    #   (1) Tokenize the sentence.\n",
        "    #   (2) Prepend the `[CLS]` token to the start.\n",
        "    #   (3) Append the `[SEP]` token to the end.\n",
        "    #   (4) Map tokens to their IDs.\n",
        "    #   (5) Pad or truncate the sentence to `max_length`\n",
        "    #   (6) Create attention masks for [PAD] tokens.\n",
        "    encoded_dict = tokenizer.encode_plus(\n",
        "                        sent,                      # Sentence to encode.\n",
        "                        add_special_tokens = True, # Add '[CLS]' and '[SEP]'\n",
        "                        truncation=True, #Truncate the sentences\n",
        "                        max_length = 128,           # Pad & truncate all sentences.\n",
        "                        pad_to_max_length = True,\n",
        "                        return_attention_mask = True,   # Construct attn. masks.\n",
        "                        return_tensors = 'pt',     # Return pytorch tensors.\n",
        "                   )\n",
        "    \n",
        "    # Add the encoded sentence to the list.    \n",
        "    test_input_ids.append(encoded_dict['input_ids'])\n",
        "    \n",
        "    # And its attention mask (simply differentiates padding from non-padding).\n",
        "    test_attention_masks.append(encoded_dict['attention_mask'])\n",
        "\n",
        "# Convert the lists into tensors.\n",
        "test_input_ids = torch.cat(test_input_ids, dim=0)\n",
        "test_attention_masks = torch.cat(test_attention_masks, dim=0)\n",
        "test_labels = torch.tensor(test.target)\n",
        "\n",
        "# Print sentence 0, now as a list of IDs.\n",
        "print('Original: ', test.data[0])\n",
        "print('Token IDs:', test_input_ids[0])"
      ],
      "execution_count": 12,
      "outputs": [
        {
          "output_type": "stream",
          "text": [
            "/usr/local/lib/python3.6/dist-packages/transformers/tokenization_utils_base.py:2142: FutureWarning: The `pad_to_max_length` argument is deprecated and will be removed in a future version, use `padding=True` or `padding='longest'` to pad to the longest sequence in the batch, or use `padding='max_length'` to pad to a max length. In this case, you can give a specific length with `max_length` (e.g. `max_length=45`) or leave max_length to None to pad to the maximal input size of the model (e.g. 512 for Bert).\n",
            "  FutureWarning,\n"
          ],
          "name": "stderr"
        },
        {
          "output_type": "stream",
          "text": [
            "Original:  I am a little confused on all of the models of the 88-89 bonnevilles.\n",
            "I have heard of the LE SE LSE SSE SSEI. Could someone tell me the\n",
            "differences are far as features or performance. I am also curious to\n",
            "know what the book value is for prefereably the 89 model. And how much\n",
            "less than book value can you usually get them for. In other words how\n",
            "much are they in demand this time of year. I have heard that the mid-spring\n",
            "early summer is the best time to buy.\n",
            "Token IDs: tensor([    5,     5,     5,     5,    17,   150,   569,    24,   293,  6833,\n",
            "           31,    71,    20,    18,  2626,    20,    18, 10227,    13,  4406,\n",
            "           17,  4769,   667,  1948,    23,     9,    17,   150,    47,  1133,\n",
            "           20,    18,    17,   529,    17,  1022,    17,   368,  1022,    17,\n",
            "           23,  1022,    17,    23,    23,  5730,     9,   121,   886,   759,\n",
            "          110,    18,  3589,    41,   420,    34,  1091,    49,   922,     9,\n",
            "           17,   150,   569,    77,  8595,    22,   175,   113,    18,   522,\n",
            "          991,    27,    28,  3948,    93,  3513,    18, 11903,  1342,     9,\n",
            "           21,   160,   178,   486,   100,   522,   991,    64,    44,  1044,\n",
            "          133,   107,    28,     9,    25,    86,  1006,   160,   178,    41,\n",
            "           63,    25,  1480,    52,    92,    20,   119,     9,    17,   150,\n",
            "           47,  1133,    29,    18,  1359,    13, 20343,   319,  1148,    27,\n",
            "           18,   252,    92,    22,   971,     9,     4,     3])\n"
          ],
          "name": "stdout"
        }
      ]
    },
    {
      "cell_type": "code",
      "metadata": {
        "colab": {
          "base_uri": "https://localhost:8080/"
        },
        "id": "6NAIfyBP7jMn",
        "outputId": "4e018b9a-5e70-407c-c0d7-25bada2465a6"
      },
      "source": [
        "from torch.utils.data import TensorDataset, random_split\n",
        "\n",
        "# Combine the training inputs into a TensorDataset.\n",
        "dataset = TensorDataset(input_ids, attention_masks, labels)\n",
        "test_dataset = TensorDataset(test_input_ids, test_attention_masks, test_labels)\n",
        "\n",
        "# Create a 90-10 train-validation split.\n",
        "\n",
        "# Calculate the number of samples to include in each set.\n",
        "train_size = int(0.9 * len(dataset))\n",
        "val_size = len(dataset) - train_size\n",
        "\n",
        "# Divide the dataset by randomly selecting samples.\n",
        "train_dataset, val_dataset = random_split(dataset, [train_size, val_size])\n",
        "\n",
        "print('{:>5,} training samples'.format(train_size))\n",
        "print('{:>5,} validation samples'.format(val_size))\n",
        "print('{:>5,} test samples'.format(len(test_dataset)))"
      ],
      "execution_count": 13,
      "outputs": [
        {
          "output_type": "stream",
          "text": [
            "10,182 training samples\n",
            "1,132 validation samples\n",
            "7,532 test samples\n"
          ],
          "name": "stdout"
        }
      ]
    },
    {
      "cell_type": "code",
      "metadata": {
        "id": "TM1fTM-pENir"
      },
      "source": [
        "from torch.utils.data import DataLoader, RandomSampler, SequentialSampler\n",
        "\n",
        "# The DataLoader needs to know our batch size for training, so we specify it \n",
        "# here. For fine-tuning BERT on a specific task, the authors recommend a batch \n",
        "# size of 16 or 32.\n",
        "batch_size = 8\n",
        "\n",
        "# Create the DataLoaders for our training and validation sets.\n",
        "# We'll take training samples in random order. \n",
        "train_dataloader = DataLoader(\n",
        "            train_dataset,  # The training samples.\n",
        "            sampler = RandomSampler(train_dataset), # Select batches randomly\n",
        "            batch_size = batch_size # Trains with this batch size.\n",
        "        )\n",
        "\n",
        "# For validation the order doesn't matter, so we'll just read them sequentially.\n",
        "validation_dataloader = DataLoader(\n",
        "            val_dataset, # The validation samples.\n",
        "            sampler = SequentialSampler(val_dataset), # Pull out batches sequentially.\n",
        "            batch_size = batch_size # Evaluate with this batch size.\n",
        "        )\n",
        "\n",
        "test_dataloader = DataLoader(\n",
        "            test_dataset,  # The training samples.\n",
        "            sampler = RandomSampler(test_dataset), # Select batches randomly\n",
        "            batch_size = batch_size # Trains with this batch size.\n",
        "        )"
      ],
      "execution_count": 14,
      "outputs": []
    },
    {
      "cell_type": "markdown",
      "metadata": {
        "id": "03JxkFVWR2wW"
      },
      "source": [
        "\n",
        "#Training just the Fully Connected Classifier layer by freezing the XLNet model weights\n"
      ]
    },
    {
      "cell_type": "code",
      "metadata": {
        "id": "wzW80b9MN4Gc",
        "colab": {
          "base_uri": "https://localhost:8080/",
          "height": 114,
          "referenced_widgets": [
            "8db96788d79a47d7842ee1b0797d7f2d",
            "0323c3f5b7b94d18be44aa3fbcc0e51a",
            "c14f25943c9841d29388f9f699c4fc44",
            "0d47f5c05b2a4712bf8ecc386393a567",
            "984b42d379684a938f21739808e38dbd",
            "85aee4d9da724796974af6aeb6fa363f",
            "9a11b08f813a4c2e849d69bc6c317b0a",
            "36b04fc3bfc4468d905540e70fa1955c",
            "95b79865a16a4f92a1ef4a22e7fafd78",
            "ce49de8c1d92492998456db69085e25e",
            "6c84d9bbf6574e19817ed7516edd6698",
            "cc207e64100c4594b4ee123100e5183d",
            "2fff4cdf0e4a4a00b34ea611f5496aaf",
            "66b8b4ddcdf6459497f6eab54b4f3023",
            "e09995a4e0e44f7f82014af99e9c24f8",
            "852874cc2a194bd1b42b4130bb82246e"
          ]
        },
        "outputId": "4e919658-12f9-4623-806f-635873762b6c"
      },
      "source": [
        "from transformers import  XLNetModel\n",
        "\n",
        "bert_model = XLNetModel.from_pretrained('xlnet-base-cased')"
      ],
      "execution_count": 15,
      "outputs": [
        {
          "output_type": "display_data",
          "data": {
            "application/vnd.jupyter.widget-view+json": {
              "model_id": "8db96788d79a47d7842ee1b0797d7f2d",
              "version_minor": 0,
              "version_major": 2
            },
            "text/plain": [
              "HBox(children=(FloatProgress(value=0.0, description='Downloading', max=760.0, style=ProgressStyle(description_…"
            ]
          },
          "metadata": {
            "tags": []
          }
        },
        {
          "output_type": "stream",
          "text": [
            "\n"
          ],
          "name": "stdout"
        },
        {
          "output_type": "display_data",
          "data": {
            "application/vnd.jupyter.widget-view+json": {
              "model_id": "95b79865a16a4f92a1ef4a22e7fafd78",
              "version_minor": 0,
              "version_major": 2
            },
            "text/plain": [
              "HBox(children=(FloatProgress(value=0.0, description='Downloading', max=467042463.0, style=ProgressStyle(descri…"
            ]
          },
          "metadata": {
            "tags": []
          }
        },
        {
          "output_type": "stream",
          "text": [
            "\n"
          ],
          "name": "stdout"
        }
      ]
    },
    {
      "cell_type": "code",
      "metadata": {
        "colab": {
          "base_uri": "https://localhost:8080/"
        },
        "id": "R4WgTB4BN5rp",
        "outputId": "301cc6f7-dd17-47f2-a210-e56590eb186b"
      },
      "source": [
        "bert_model"
      ],
      "execution_count": 16,
      "outputs": [
        {
          "output_type": "execute_result",
          "data": {
            "text/plain": [
              "XLNetModel(\n",
              "  (word_embedding): Embedding(32000, 768)\n",
              "  (layer): ModuleList(\n",
              "    (0): XLNetLayer(\n",
              "      (rel_attn): XLNetRelativeAttention(\n",
              "        (layer_norm): LayerNorm((768,), eps=1e-12, elementwise_affine=True)\n",
              "        (dropout): Dropout(p=0.1, inplace=False)\n",
              "      )\n",
              "      (ff): XLNetFeedForward(\n",
              "        (layer_norm): LayerNorm((768,), eps=1e-12, elementwise_affine=True)\n",
              "        (layer_1): Linear(in_features=768, out_features=3072, bias=True)\n",
              "        (layer_2): Linear(in_features=3072, out_features=768, bias=True)\n",
              "        (dropout): Dropout(p=0.1, inplace=False)\n",
              "      )\n",
              "      (dropout): Dropout(p=0.1, inplace=False)\n",
              "    )\n",
              "    (1): XLNetLayer(\n",
              "      (rel_attn): XLNetRelativeAttention(\n",
              "        (layer_norm): LayerNorm((768,), eps=1e-12, elementwise_affine=True)\n",
              "        (dropout): Dropout(p=0.1, inplace=False)\n",
              "      )\n",
              "      (ff): XLNetFeedForward(\n",
              "        (layer_norm): LayerNorm((768,), eps=1e-12, elementwise_affine=True)\n",
              "        (layer_1): Linear(in_features=768, out_features=3072, bias=True)\n",
              "        (layer_2): Linear(in_features=3072, out_features=768, bias=True)\n",
              "        (dropout): Dropout(p=0.1, inplace=False)\n",
              "      )\n",
              "      (dropout): Dropout(p=0.1, inplace=False)\n",
              "    )\n",
              "    (2): XLNetLayer(\n",
              "      (rel_attn): XLNetRelativeAttention(\n",
              "        (layer_norm): LayerNorm((768,), eps=1e-12, elementwise_affine=True)\n",
              "        (dropout): Dropout(p=0.1, inplace=False)\n",
              "      )\n",
              "      (ff): XLNetFeedForward(\n",
              "        (layer_norm): LayerNorm((768,), eps=1e-12, elementwise_affine=True)\n",
              "        (layer_1): Linear(in_features=768, out_features=3072, bias=True)\n",
              "        (layer_2): Linear(in_features=3072, out_features=768, bias=True)\n",
              "        (dropout): Dropout(p=0.1, inplace=False)\n",
              "      )\n",
              "      (dropout): Dropout(p=0.1, inplace=False)\n",
              "    )\n",
              "    (3): XLNetLayer(\n",
              "      (rel_attn): XLNetRelativeAttention(\n",
              "        (layer_norm): LayerNorm((768,), eps=1e-12, elementwise_affine=True)\n",
              "        (dropout): Dropout(p=0.1, inplace=False)\n",
              "      )\n",
              "      (ff): XLNetFeedForward(\n",
              "        (layer_norm): LayerNorm((768,), eps=1e-12, elementwise_affine=True)\n",
              "        (layer_1): Linear(in_features=768, out_features=3072, bias=True)\n",
              "        (layer_2): Linear(in_features=3072, out_features=768, bias=True)\n",
              "        (dropout): Dropout(p=0.1, inplace=False)\n",
              "      )\n",
              "      (dropout): Dropout(p=0.1, inplace=False)\n",
              "    )\n",
              "    (4): XLNetLayer(\n",
              "      (rel_attn): XLNetRelativeAttention(\n",
              "        (layer_norm): LayerNorm((768,), eps=1e-12, elementwise_affine=True)\n",
              "        (dropout): Dropout(p=0.1, inplace=False)\n",
              "      )\n",
              "      (ff): XLNetFeedForward(\n",
              "        (layer_norm): LayerNorm((768,), eps=1e-12, elementwise_affine=True)\n",
              "        (layer_1): Linear(in_features=768, out_features=3072, bias=True)\n",
              "        (layer_2): Linear(in_features=3072, out_features=768, bias=True)\n",
              "        (dropout): Dropout(p=0.1, inplace=False)\n",
              "      )\n",
              "      (dropout): Dropout(p=0.1, inplace=False)\n",
              "    )\n",
              "    (5): XLNetLayer(\n",
              "      (rel_attn): XLNetRelativeAttention(\n",
              "        (layer_norm): LayerNorm((768,), eps=1e-12, elementwise_affine=True)\n",
              "        (dropout): Dropout(p=0.1, inplace=False)\n",
              "      )\n",
              "      (ff): XLNetFeedForward(\n",
              "        (layer_norm): LayerNorm((768,), eps=1e-12, elementwise_affine=True)\n",
              "        (layer_1): Linear(in_features=768, out_features=3072, bias=True)\n",
              "        (layer_2): Linear(in_features=3072, out_features=768, bias=True)\n",
              "        (dropout): Dropout(p=0.1, inplace=False)\n",
              "      )\n",
              "      (dropout): Dropout(p=0.1, inplace=False)\n",
              "    )\n",
              "    (6): XLNetLayer(\n",
              "      (rel_attn): XLNetRelativeAttention(\n",
              "        (layer_norm): LayerNorm((768,), eps=1e-12, elementwise_affine=True)\n",
              "        (dropout): Dropout(p=0.1, inplace=False)\n",
              "      )\n",
              "      (ff): XLNetFeedForward(\n",
              "        (layer_norm): LayerNorm((768,), eps=1e-12, elementwise_affine=True)\n",
              "        (layer_1): Linear(in_features=768, out_features=3072, bias=True)\n",
              "        (layer_2): Linear(in_features=3072, out_features=768, bias=True)\n",
              "        (dropout): Dropout(p=0.1, inplace=False)\n",
              "      )\n",
              "      (dropout): Dropout(p=0.1, inplace=False)\n",
              "    )\n",
              "    (7): XLNetLayer(\n",
              "      (rel_attn): XLNetRelativeAttention(\n",
              "        (layer_norm): LayerNorm((768,), eps=1e-12, elementwise_affine=True)\n",
              "        (dropout): Dropout(p=0.1, inplace=False)\n",
              "      )\n",
              "      (ff): XLNetFeedForward(\n",
              "        (layer_norm): LayerNorm((768,), eps=1e-12, elementwise_affine=True)\n",
              "        (layer_1): Linear(in_features=768, out_features=3072, bias=True)\n",
              "        (layer_2): Linear(in_features=3072, out_features=768, bias=True)\n",
              "        (dropout): Dropout(p=0.1, inplace=False)\n",
              "      )\n",
              "      (dropout): Dropout(p=0.1, inplace=False)\n",
              "    )\n",
              "    (8): XLNetLayer(\n",
              "      (rel_attn): XLNetRelativeAttention(\n",
              "        (layer_norm): LayerNorm((768,), eps=1e-12, elementwise_affine=True)\n",
              "        (dropout): Dropout(p=0.1, inplace=False)\n",
              "      )\n",
              "      (ff): XLNetFeedForward(\n",
              "        (layer_norm): LayerNorm((768,), eps=1e-12, elementwise_affine=True)\n",
              "        (layer_1): Linear(in_features=768, out_features=3072, bias=True)\n",
              "        (layer_2): Linear(in_features=3072, out_features=768, bias=True)\n",
              "        (dropout): Dropout(p=0.1, inplace=False)\n",
              "      )\n",
              "      (dropout): Dropout(p=0.1, inplace=False)\n",
              "    )\n",
              "    (9): XLNetLayer(\n",
              "      (rel_attn): XLNetRelativeAttention(\n",
              "        (layer_norm): LayerNorm((768,), eps=1e-12, elementwise_affine=True)\n",
              "        (dropout): Dropout(p=0.1, inplace=False)\n",
              "      )\n",
              "      (ff): XLNetFeedForward(\n",
              "        (layer_norm): LayerNorm((768,), eps=1e-12, elementwise_affine=True)\n",
              "        (layer_1): Linear(in_features=768, out_features=3072, bias=True)\n",
              "        (layer_2): Linear(in_features=3072, out_features=768, bias=True)\n",
              "        (dropout): Dropout(p=0.1, inplace=False)\n",
              "      )\n",
              "      (dropout): Dropout(p=0.1, inplace=False)\n",
              "    )\n",
              "    (10): XLNetLayer(\n",
              "      (rel_attn): XLNetRelativeAttention(\n",
              "        (layer_norm): LayerNorm((768,), eps=1e-12, elementwise_affine=True)\n",
              "        (dropout): Dropout(p=0.1, inplace=False)\n",
              "      )\n",
              "      (ff): XLNetFeedForward(\n",
              "        (layer_norm): LayerNorm((768,), eps=1e-12, elementwise_affine=True)\n",
              "        (layer_1): Linear(in_features=768, out_features=3072, bias=True)\n",
              "        (layer_2): Linear(in_features=3072, out_features=768, bias=True)\n",
              "        (dropout): Dropout(p=0.1, inplace=False)\n",
              "      )\n",
              "      (dropout): Dropout(p=0.1, inplace=False)\n",
              "    )\n",
              "    (11): XLNetLayer(\n",
              "      (rel_attn): XLNetRelativeAttention(\n",
              "        (layer_norm): LayerNorm((768,), eps=1e-12, elementwise_affine=True)\n",
              "        (dropout): Dropout(p=0.1, inplace=False)\n",
              "      )\n",
              "      (ff): XLNetFeedForward(\n",
              "        (layer_norm): LayerNorm((768,), eps=1e-12, elementwise_affine=True)\n",
              "        (layer_1): Linear(in_features=768, out_features=3072, bias=True)\n",
              "        (layer_2): Linear(in_features=3072, out_features=768, bias=True)\n",
              "        (dropout): Dropout(p=0.1, inplace=False)\n",
              "      )\n",
              "      (dropout): Dropout(p=0.1, inplace=False)\n",
              "    )\n",
              "  )\n",
              "  (dropout): Dropout(p=0.1, inplace=False)\n",
              ")"
            ]
          },
          "metadata": {
            "tags": []
          },
          "execution_count": 16
        }
      ]
    },
    {
      "cell_type": "code",
      "metadata": {
        "id": "4gDXa2-dN6HK"
      },
      "source": [
        "# Define the model\n",
        "class linear(nn.Module):\n",
        "\n",
        "  def __init__(self, bert_model, n_outputs, dropout_rate):\n",
        "  \n",
        "    super(linear, self).__init__()\n",
        "\n",
        "    #self.D = bert_model.config.to_dict()['hidden_size']\n",
        "    self.bert_model = bert_model\n",
        "    self.K = n_outputs    \n",
        "    self.dropout_rate=dropout_rate\n",
        "    \n",
        "    # embedding layer\n",
        "    #self.embed = nn.Embedding(self.V, self.D)\n",
        "    \n",
        "   \n",
        "    # dense layer\n",
        "    self.fc = nn.Linear(768 , self.K)\n",
        "\n",
        "    # dropout layer\n",
        "    self.dropout= nn.Dropout(self.dropout_rate)\n",
        "  \n",
        "  def forward(self, X):\n",
        "\n",
        "    with torch.no_grad():\n",
        "      embedding = self.bert_model(X)[0][:,0,:]\n",
        "    \n",
        "    #embedding= self.dropout(embedding) \n",
        "\n",
        "    output = self.fc(embedding)\n",
        "    output= self.dropout(output)\n",
        "\n",
        "    return output"
      ],
      "execution_count": 20,
      "outputs": []
    },
    {
      "cell_type": "code",
      "metadata": {
        "id": "hfmumBc2OBgh"
      },
      "source": [
        "n_outputs = 20\n",
        "dropout_rate = 0.5"
      ],
      "execution_count": 21,
      "outputs": []
    },
    {
      "cell_type": "code",
      "metadata": {
        "colab": {
          "base_uri": "https://localhost:8080/"
        },
        "id": "N0Coc3DvO9YR",
        "outputId": "86729b2c-759d-492b-fb0a-250a3f9d8be1"
      },
      "source": [
        "#model = RNN(n_vocab, embed_dim, n_hidden, n_rnnlayers, n_outputs, bidirectional, dropout_rate)\n",
        "model = linear(bert_model, n_outputs, dropout_rate)\n",
        "model.to(device)"
      ],
      "execution_count": 22,
      "outputs": [
        {
          "output_type": "execute_result",
          "data": {
            "text/plain": [
              "linear(\n",
              "  (bert_model): XLNetModel(\n",
              "    (word_embedding): Embedding(32000, 768)\n",
              "    (layer): ModuleList(\n",
              "      (0): XLNetLayer(\n",
              "        (rel_attn): XLNetRelativeAttention(\n",
              "          (layer_norm): LayerNorm((768,), eps=1e-12, elementwise_affine=True)\n",
              "          (dropout): Dropout(p=0.1, inplace=False)\n",
              "        )\n",
              "        (ff): XLNetFeedForward(\n",
              "          (layer_norm): LayerNorm((768,), eps=1e-12, elementwise_affine=True)\n",
              "          (layer_1): Linear(in_features=768, out_features=3072, bias=True)\n",
              "          (layer_2): Linear(in_features=3072, out_features=768, bias=True)\n",
              "          (dropout): Dropout(p=0.1, inplace=False)\n",
              "        )\n",
              "        (dropout): Dropout(p=0.1, inplace=False)\n",
              "      )\n",
              "      (1): XLNetLayer(\n",
              "        (rel_attn): XLNetRelativeAttention(\n",
              "          (layer_norm): LayerNorm((768,), eps=1e-12, elementwise_affine=True)\n",
              "          (dropout): Dropout(p=0.1, inplace=False)\n",
              "        )\n",
              "        (ff): XLNetFeedForward(\n",
              "          (layer_norm): LayerNorm((768,), eps=1e-12, elementwise_affine=True)\n",
              "          (layer_1): Linear(in_features=768, out_features=3072, bias=True)\n",
              "          (layer_2): Linear(in_features=3072, out_features=768, bias=True)\n",
              "          (dropout): Dropout(p=0.1, inplace=False)\n",
              "        )\n",
              "        (dropout): Dropout(p=0.1, inplace=False)\n",
              "      )\n",
              "      (2): XLNetLayer(\n",
              "        (rel_attn): XLNetRelativeAttention(\n",
              "          (layer_norm): LayerNorm((768,), eps=1e-12, elementwise_affine=True)\n",
              "          (dropout): Dropout(p=0.1, inplace=False)\n",
              "        )\n",
              "        (ff): XLNetFeedForward(\n",
              "          (layer_norm): LayerNorm((768,), eps=1e-12, elementwise_affine=True)\n",
              "          (layer_1): Linear(in_features=768, out_features=3072, bias=True)\n",
              "          (layer_2): Linear(in_features=3072, out_features=768, bias=True)\n",
              "          (dropout): Dropout(p=0.1, inplace=False)\n",
              "        )\n",
              "        (dropout): Dropout(p=0.1, inplace=False)\n",
              "      )\n",
              "      (3): XLNetLayer(\n",
              "        (rel_attn): XLNetRelativeAttention(\n",
              "          (layer_norm): LayerNorm((768,), eps=1e-12, elementwise_affine=True)\n",
              "          (dropout): Dropout(p=0.1, inplace=False)\n",
              "        )\n",
              "        (ff): XLNetFeedForward(\n",
              "          (layer_norm): LayerNorm((768,), eps=1e-12, elementwise_affine=True)\n",
              "          (layer_1): Linear(in_features=768, out_features=3072, bias=True)\n",
              "          (layer_2): Linear(in_features=3072, out_features=768, bias=True)\n",
              "          (dropout): Dropout(p=0.1, inplace=False)\n",
              "        )\n",
              "        (dropout): Dropout(p=0.1, inplace=False)\n",
              "      )\n",
              "      (4): XLNetLayer(\n",
              "        (rel_attn): XLNetRelativeAttention(\n",
              "          (layer_norm): LayerNorm((768,), eps=1e-12, elementwise_affine=True)\n",
              "          (dropout): Dropout(p=0.1, inplace=False)\n",
              "        )\n",
              "        (ff): XLNetFeedForward(\n",
              "          (layer_norm): LayerNorm((768,), eps=1e-12, elementwise_affine=True)\n",
              "          (layer_1): Linear(in_features=768, out_features=3072, bias=True)\n",
              "          (layer_2): Linear(in_features=3072, out_features=768, bias=True)\n",
              "          (dropout): Dropout(p=0.1, inplace=False)\n",
              "        )\n",
              "        (dropout): Dropout(p=0.1, inplace=False)\n",
              "      )\n",
              "      (5): XLNetLayer(\n",
              "        (rel_attn): XLNetRelativeAttention(\n",
              "          (layer_norm): LayerNorm((768,), eps=1e-12, elementwise_affine=True)\n",
              "          (dropout): Dropout(p=0.1, inplace=False)\n",
              "        )\n",
              "        (ff): XLNetFeedForward(\n",
              "          (layer_norm): LayerNorm((768,), eps=1e-12, elementwise_affine=True)\n",
              "          (layer_1): Linear(in_features=768, out_features=3072, bias=True)\n",
              "          (layer_2): Linear(in_features=3072, out_features=768, bias=True)\n",
              "          (dropout): Dropout(p=0.1, inplace=False)\n",
              "        )\n",
              "        (dropout): Dropout(p=0.1, inplace=False)\n",
              "      )\n",
              "      (6): XLNetLayer(\n",
              "        (rel_attn): XLNetRelativeAttention(\n",
              "          (layer_norm): LayerNorm((768,), eps=1e-12, elementwise_affine=True)\n",
              "          (dropout): Dropout(p=0.1, inplace=False)\n",
              "        )\n",
              "        (ff): XLNetFeedForward(\n",
              "          (layer_norm): LayerNorm((768,), eps=1e-12, elementwise_affine=True)\n",
              "          (layer_1): Linear(in_features=768, out_features=3072, bias=True)\n",
              "          (layer_2): Linear(in_features=3072, out_features=768, bias=True)\n",
              "          (dropout): Dropout(p=0.1, inplace=False)\n",
              "        )\n",
              "        (dropout): Dropout(p=0.1, inplace=False)\n",
              "      )\n",
              "      (7): XLNetLayer(\n",
              "        (rel_attn): XLNetRelativeAttention(\n",
              "          (layer_norm): LayerNorm((768,), eps=1e-12, elementwise_affine=True)\n",
              "          (dropout): Dropout(p=0.1, inplace=False)\n",
              "        )\n",
              "        (ff): XLNetFeedForward(\n",
              "          (layer_norm): LayerNorm((768,), eps=1e-12, elementwise_affine=True)\n",
              "          (layer_1): Linear(in_features=768, out_features=3072, bias=True)\n",
              "          (layer_2): Linear(in_features=3072, out_features=768, bias=True)\n",
              "          (dropout): Dropout(p=0.1, inplace=False)\n",
              "        )\n",
              "        (dropout): Dropout(p=0.1, inplace=False)\n",
              "      )\n",
              "      (8): XLNetLayer(\n",
              "        (rel_attn): XLNetRelativeAttention(\n",
              "          (layer_norm): LayerNorm((768,), eps=1e-12, elementwise_affine=True)\n",
              "          (dropout): Dropout(p=0.1, inplace=False)\n",
              "        )\n",
              "        (ff): XLNetFeedForward(\n",
              "          (layer_norm): LayerNorm((768,), eps=1e-12, elementwise_affine=True)\n",
              "          (layer_1): Linear(in_features=768, out_features=3072, bias=True)\n",
              "          (layer_2): Linear(in_features=3072, out_features=768, bias=True)\n",
              "          (dropout): Dropout(p=0.1, inplace=False)\n",
              "        )\n",
              "        (dropout): Dropout(p=0.1, inplace=False)\n",
              "      )\n",
              "      (9): XLNetLayer(\n",
              "        (rel_attn): XLNetRelativeAttention(\n",
              "          (layer_norm): LayerNorm((768,), eps=1e-12, elementwise_affine=True)\n",
              "          (dropout): Dropout(p=0.1, inplace=False)\n",
              "        )\n",
              "        (ff): XLNetFeedForward(\n",
              "          (layer_norm): LayerNorm((768,), eps=1e-12, elementwise_affine=True)\n",
              "          (layer_1): Linear(in_features=768, out_features=3072, bias=True)\n",
              "          (layer_2): Linear(in_features=3072, out_features=768, bias=True)\n",
              "          (dropout): Dropout(p=0.1, inplace=False)\n",
              "        )\n",
              "        (dropout): Dropout(p=0.1, inplace=False)\n",
              "      )\n",
              "      (10): XLNetLayer(\n",
              "        (rel_attn): XLNetRelativeAttention(\n",
              "          (layer_norm): LayerNorm((768,), eps=1e-12, elementwise_affine=True)\n",
              "          (dropout): Dropout(p=0.1, inplace=False)\n",
              "        )\n",
              "        (ff): XLNetFeedForward(\n",
              "          (layer_norm): LayerNorm((768,), eps=1e-12, elementwise_affine=True)\n",
              "          (layer_1): Linear(in_features=768, out_features=3072, bias=True)\n",
              "          (layer_2): Linear(in_features=3072, out_features=768, bias=True)\n",
              "          (dropout): Dropout(p=0.1, inplace=False)\n",
              "        )\n",
              "        (dropout): Dropout(p=0.1, inplace=False)\n",
              "      )\n",
              "      (11): XLNetLayer(\n",
              "        (rel_attn): XLNetRelativeAttention(\n",
              "          (layer_norm): LayerNorm((768,), eps=1e-12, elementwise_affine=True)\n",
              "          (dropout): Dropout(p=0.1, inplace=False)\n",
              "        )\n",
              "        (ff): XLNetFeedForward(\n",
              "          (layer_norm): LayerNorm((768,), eps=1e-12, elementwise_affine=True)\n",
              "          (layer_1): Linear(in_features=768, out_features=3072, bias=True)\n",
              "          (layer_2): Linear(in_features=3072, out_features=768, bias=True)\n",
              "          (dropout): Dropout(p=0.1, inplace=False)\n",
              "        )\n",
              "        (dropout): Dropout(p=0.1, inplace=False)\n",
              "      )\n",
              "    )\n",
              "    (dropout): Dropout(p=0.1, inplace=False)\n",
              "  )\n",
              "  (fc): Linear(in_features=768, out_features=20, bias=True)\n",
              "  (dropout): Dropout(p=0.5, inplace=False)\n",
              ")"
            ]
          },
          "metadata": {
            "tags": []
          },
          "execution_count": 22
        }
      ]
    },
    {
      "cell_type": "code",
      "metadata": {
        "colab": {
          "base_uri": "https://localhost:8080/"
        },
        "id": "IervsCFUPFTo",
        "outputId": "14655993-2ac4-436f-b330-3fab4d8e8a78"
      },
      "source": [
        "print(model)"
      ],
      "execution_count": 23,
      "outputs": [
        {
          "output_type": "stream",
          "text": [
            "linear(\n",
            "  (bert_model): XLNetModel(\n",
            "    (word_embedding): Embedding(32000, 768)\n",
            "    (layer): ModuleList(\n",
            "      (0): XLNetLayer(\n",
            "        (rel_attn): XLNetRelativeAttention(\n",
            "          (layer_norm): LayerNorm((768,), eps=1e-12, elementwise_affine=True)\n",
            "          (dropout): Dropout(p=0.1, inplace=False)\n",
            "        )\n",
            "        (ff): XLNetFeedForward(\n",
            "          (layer_norm): LayerNorm((768,), eps=1e-12, elementwise_affine=True)\n",
            "          (layer_1): Linear(in_features=768, out_features=3072, bias=True)\n",
            "          (layer_2): Linear(in_features=3072, out_features=768, bias=True)\n",
            "          (dropout): Dropout(p=0.1, inplace=False)\n",
            "        )\n",
            "        (dropout): Dropout(p=0.1, inplace=False)\n",
            "      )\n",
            "      (1): XLNetLayer(\n",
            "        (rel_attn): XLNetRelativeAttention(\n",
            "          (layer_norm): LayerNorm((768,), eps=1e-12, elementwise_affine=True)\n",
            "          (dropout): Dropout(p=0.1, inplace=False)\n",
            "        )\n",
            "        (ff): XLNetFeedForward(\n",
            "          (layer_norm): LayerNorm((768,), eps=1e-12, elementwise_affine=True)\n",
            "          (layer_1): Linear(in_features=768, out_features=3072, bias=True)\n",
            "          (layer_2): Linear(in_features=3072, out_features=768, bias=True)\n",
            "          (dropout): Dropout(p=0.1, inplace=False)\n",
            "        )\n",
            "        (dropout): Dropout(p=0.1, inplace=False)\n",
            "      )\n",
            "      (2): XLNetLayer(\n",
            "        (rel_attn): XLNetRelativeAttention(\n",
            "          (layer_norm): LayerNorm((768,), eps=1e-12, elementwise_affine=True)\n",
            "          (dropout): Dropout(p=0.1, inplace=False)\n",
            "        )\n",
            "        (ff): XLNetFeedForward(\n",
            "          (layer_norm): LayerNorm((768,), eps=1e-12, elementwise_affine=True)\n",
            "          (layer_1): Linear(in_features=768, out_features=3072, bias=True)\n",
            "          (layer_2): Linear(in_features=3072, out_features=768, bias=True)\n",
            "          (dropout): Dropout(p=0.1, inplace=False)\n",
            "        )\n",
            "        (dropout): Dropout(p=0.1, inplace=False)\n",
            "      )\n",
            "      (3): XLNetLayer(\n",
            "        (rel_attn): XLNetRelativeAttention(\n",
            "          (layer_norm): LayerNorm((768,), eps=1e-12, elementwise_affine=True)\n",
            "          (dropout): Dropout(p=0.1, inplace=False)\n",
            "        )\n",
            "        (ff): XLNetFeedForward(\n",
            "          (layer_norm): LayerNorm((768,), eps=1e-12, elementwise_affine=True)\n",
            "          (layer_1): Linear(in_features=768, out_features=3072, bias=True)\n",
            "          (layer_2): Linear(in_features=3072, out_features=768, bias=True)\n",
            "          (dropout): Dropout(p=0.1, inplace=False)\n",
            "        )\n",
            "        (dropout): Dropout(p=0.1, inplace=False)\n",
            "      )\n",
            "      (4): XLNetLayer(\n",
            "        (rel_attn): XLNetRelativeAttention(\n",
            "          (layer_norm): LayerNorm((768,), eps=1e-12, elementwise_affine=True)\n",
            "          (dropout): Dropout(p=0.1, inplace=False)\n",
            "        )\n",
            "        (ff): XLNetFeedForward(\n",
            "          (layer_norm): LayerNorm((768,), eps=1e-12, elementwise_affine=True)\n",
            "          (layer_1): Linear(in_features=768, out_features=3072, bias=True)\n",
            "          (layer_2): Linear(in_features=3072, out_features=768, bias=True)\n",
            "          (dropout): Dropout(p=0.1, inplace=False)\n",
            "        )\n",
            "        (dropout): Dropout(p=0.1, inplace=False)\n",
            "      )\n",
            "      (5): XLNetLayer(\n",
            "        (rel_attn): XLNetRelativeAttention(\n",
            "          (layer_norm): LayerNorm((768,), eps=1e-12, elementwise_affine=True)\n",
            "          (dropout): Dropout(p=0.1, inplace=False)\n",
            "        )\n",
            "        (ff): XLNetFeedForward(\n",
            "          (layer_norm): LayerNorm((768,), eps=1e-12, elementwise_affine=True)\n",
            "          (layer_1): Linear(in_features=768, out_features=3072, bias=True)\n",
            "          (layer_2): Linear(in_features=3072, out_features=768, bias=True)\n",
            "          (dropout): Dropout(p=0.1, inplace=False)\n",
            "        )\n",
            "        (dropout): Dropout(p=0.1, inplace=False)\n",
            "      )\n",
            "      (6): XLNetLayer(\n",
            "        (rel_attn): XLNetRelativeAttention(\n",
            "          (layer_norm): LayerNorm((768,), eps=1e-12, elementwise_affine=True)\n",
            "          (dropout): Dropout(p=0.1, inplace=False)\n",
            "        )\n",
            "        (ff): XLNetFeedForward(\n",
            "          (layer_norm): LayerNorm((768,), eps=1e-12, elementwise_affine=True)\n",
            "          (layer_1): Linear(in_features=768, out_features=3072, bias=True)\n",
            "          (layer_2): Linear(in_features=3072, out_features=768, bias=True)\n",
            "          (dropout): Dropout(p=0.1, inplace=False)\n",
            "        )\n",
            "        (dropout): Dropout(p=0.1, inplace=False)\n",
            "      )\n",
            "      (7): XLNetLayer(\n",
            "        (rel_attn): XLNetRelativeAttention(\n",
            "          (layer_norm): LayerNorm((768,), eps=1e-12, elementwise_affine=True)\n",
            "          (dropout): Dropout(p=0.1, inplace=False)\n",
            "        )\n",
            "        (ff): XLNetFeedForward(\n",
            "          (layer_norm): LayerNorm((768,), eps=1e-12, elementwise_affine=True)\n",
            "          (layer_1): Linear(in_features=768, out_features=3072, bias=True)\n",
            "          (layer_2): Linear(in_features=3072, out_features=768, bias=True)\n",
            "          (dropout): Dropout(p=0.1, inplace=False)\n",
            "        )\n",
            "        (dropout): Dropout(p=0.1, inplace=False)\n",
            "      )\n",
            "      (8): XLNetLayer(\n",
            "        (rel_attn): XLNetRelativeAttention(\n",
            "          (layer_norm): LayerNorm((768,), eps=1e-12, elementwise_affine=True)\n",
            "          (dropout): Dropout(p=0.1, inplace=False)\n",
            "        )\n",
            "        (ff): XLNetFeedForward(\n",
            "          (layer_norm): LayerNorm((768,), eps=1e-12, elementwise_affine=True)\n",
            "          (layer_1): Linear(in_features=768, out_features=3072, bias=True)\n",
            "          (layer_2): Linear(in_features=3072, out_features=768, bias=True)\n",
            "          (dropout): Dropout(p=0.1, inplace=False)\n",
            "        )\n",
            "        (dropout): Dropout(p=0.1, inplace=False)\n",
            "      )\n",
            "      (9): XLNetLayer(\n",
            "        (rel_attn): XLNetRelativeAttention(\n",
            "          (layer_norm): LayerNorm((768,), eps=1e-12, elementwise_affine=True)\n",
            "          (dropout): Dropout(p=0.1, inplace=False)\n",
            "        )\n",
            "        (ff): XLNetFeedForward(\n",
            "          (layer_norm): LayerNorm((768,), eps=1e-12, elementwise_affine=True)\n",
            "          (layer_1): Linear(in_features=768, out_features=3072, bias=True)\n",
            "          (layer_2): Linear(in_features=3072, out_features=768, bias=True)\n",
            "          (dropout): Dropout(p=0.1, inplace=False)\n",
            "        )\n",
            "        (dropout): Dropout(p=0.1, inplace=False)\n",
            "      )\n",
            "      (10): XLNetLayer(\n",
            "        (rel_attn): XLNetRelativeAttention(\n",
            "          (layer_norm): LayerNorm((768,), eps=1e-12, elementwise_affine=True)\n",
            "          (dropout): Dropout(p=0.1, inplace=False)\n",
            "        )\n",
            "        (ff): XLNetFeedForward(\n",
            "          (layer_norm): LayerNorm((768,), eps=1e-12, elementwise_affine=True)\n",
            "          (layer_1): Linear(in_features=768, out_features=3072, bias=True)\n",
            "          (layer_2): Linear(in_features=3072, out_features=768, bias=True)\n",
            "          (dropout): Dropout(p=0.1, inplace=False)\n",
            "        )\n",
            "        (dropout): Dropout(p=0.1, inplace=False)\n",
            "      )\n",
            "      (11): XLNetLayer(\n",
            "        (rel_attn): XLNetRelativeAttention(\n",
            "          (layer_norm): LayerNorm((768,), eps=1e-12, elementwise_affine=True)\n",
            "          (dropout): Dropout(p=0.1, inplace=False)\n",
            "        )\n",
            "        (ff): XLNetFeedForward(\n",
            "          (layer_norm): LayerNorm((768,), eps=1e-12, elementwise_affine=True)\n",
            "          (layer_1): Linear(in_features=768, out_features=3072, bias=True)\n",
            "          (layer_2): Linear(in_features=3072, out_features=768, bias=True)\n",
            "          (dropout): Dropout(p=0.1, inplace=False)\n",
            "        )\n",
            "        (dropout): Dropout(p=0.1, inplace=False)\n",
            "      )\n",
            "    )\n",
            "    (dropout): Dropout(p=0.1, inplace=False)\n",
            "  )\n",
            "  (fc): Linear(in_features=768, out_features=20, bias=True)\n",
            "  (dropout): Dropout(p=0.5, inplace=False)\n",
            ")\n"
          ],
          "name": "stdout"
        }
      ]
    },
    {
      "cell_type": "code",
      "metadata": {
        "colab": {
          "base_uri": "https://localhost:8080/"
        },
        "id": "y74u806ePJSj",
        "outputId": "5b220212-58b8-48bd-f520-96094fea9542"
      },
      "source": [
        "for name, param in model.named_parameters():\n",
        "  print(name, param.shape)"
      ],
      "execution_count": 24,
      "outputs": [
        {
          "output_type": "stream",
          "text": [
            "bert_model.mask_emb torch.Size([1, 1, 768])\n",
            "bert_model.word_embedding.weight torch.Size([32000, 768])\n",
            "bert_model.layer.0.rel_attn.q torch.Size([768, 12, 64])\n",
            "bert_model.layer.0.rel_attn.k torch.Size([768, 12, 64])\n",
            "bert_model.layer.0.rel_attn.v torch.Size([768, 12, 64])\n",
            "bert_model.layer.0.rel_attn.o torch.Size([768, 12, 64])\n",
            "bert_model.layer.0.rel_attn.r torch.Size([768, 12, 64])\n",
            "bert_model.layer.0.rel_attn.r_r_bias torch.Size([12, 64])\n",
            "bert_model.layer.0.rel_attn.r_s_bias torch.Size([12, 64])\n",
            "bert_model.layer.0.rel_attn.r_w_bias torch.Size([12, 64])\n",
            "bert_model.layer.0.rel_attn.seg_embed torch.Size([2, 12, 64])\n",
            "bert_model.layer.0.rel_attn.layer_norm.weight torch.Size([768])\n",
            "bert_model.layer.0.rel_attn.layer_norm.bias torch.Size([768])\n",
            "bert_model.layer.0.ff.layer_norm.weight torch.Size([768])\n",
            "bert_model.layer.0.ff.layer_norm.bias torch.Size([768])\n",
            "bert_model.layer.0.ff.layer_1.weight torch.Size([3072, 768])\n",
            "bert_model.layer.0.ff.layer_1.bias torch.Size([3072])\n",
            "bert_model.layer.0.ff.layer_2.weight torch.Size([768, 3072])\n",
            "bert_model.layer.0.ff.layer_2.bias torch.Size([768])\n",
            "bert_model.layer.1.rel_attn.q torch.Size([768, 12, 64])\n",
            "bert_model.layer.1.rel_attn.k torch.Size([768, 12, 64])\n",
            "bert_model.layer.1.rel_attn.v torch.Size([768, 12, 64])\n",
            "bert_model.layer.1.rel_attn.o torch.Size([768, 12, 64])\n",
            "bert_model.layer.1.rel_attn.r torch.Size([768, 12, 64])\n",
            "bert_model.layer.1.rel_attn.r_r_bias torch.Size([12, 64])\n",
            "bert_model.layer.1.rel_attn.r_s_bias torch.Size([12, 64])\n",
            "bert_model.layer.1.rel_attn.r_w_bias torch.Size([12, 64])\n",
            "bert_model.layer.1.rel_attn.seg_embed torch.Size([2, 12, 64])\n",
            "bert_model.layer.1.rel_attn.layer_norm.weight torch.Size([768])\n",
            "bert_model.layer.1.rel_attn.layer_norm.bias torch.Size([768])\n",
            "bert_model.layer.1.ff.layer_norm.weight torch.Size([768])\n",
            "bert_model.layer.1.ff.layer_norm.bias torch.Size([768])\n",
            "bert_model.layer.1.ff.layer_1.weight torch.Size([3072, 768])\n",
            "bert_model.layer.1.ff.layer_1.bias torch.Size([3072])\n",
            "bert_model.layer.1.ff.layer_2.weight torch.Size([768, 3072])\n",
            "bert_model.layer.1.ff.layer_2.bias torch.Size([768])\n",
            "bert_model.layer.2.rel_attn.q torch.Size([768, 12, 64])\n",
            "bert_model.layer.2.rel_attn.k torch.Size([768, 12, 64])\n",
            "bert_model.layer.2.rel_attn.v torch.Size([768, 12, 64])\n",
            "bert_model.layer.2.rel_attn.o torch.Size([768, 12, 64])\n",
            "bert_model.layer.2.rel_attn.r torch.Size([768, 12, 64])\n",
            "bert_model.layer.2.rel_attn.r_r_bias torch.Size([12, 64])\n",
            "bert_model.layer.2.rel_attn.r_s_bias torch.Size([12, 64])\n",
            "bert_model.layer.2.rel_attn.r_w_bias torch.Size([12, 64])\n",
            "bert_model.layer.2.rel_attn.seg_embed torch.Size([2, 12, 64])\n",
            "bert_model.layer.2.rel_attn.layer_norm.weight torch.Size([768])\n",
            "bert_model.layer.2.rel_attn.layer_norm.bias torch.Size([768])\n",
            "bert_model.layer.2.ff.layer_norm.weight torch.Size([768])\n",
            "bert_model.layer.2.ff.layer_norm.bias torch.Size([768])\n",
            "bert_model.layer.2.ff.layer_1.weight torch.Size([3072, 768])\n",
            "bert_model.layer.2.ff.layer_1.bias torch.Size([3072])\n",
            "bert_model.layer.2.ff.layer_2.weight torch.Size([768, 3072])\n",
            "bert_model.layer.2.ff.layer_2.bias torch.Size([768])\n",
            "bert_model.layer.3.rel_attn.q torch.Size([768, 12, 64])\n",
            "bert_model.layer.3.rel_attn.k torch.Size([768, 12, 64])\n",
            "bert_model.layer.3.rel_attn.v torch.Size([768, 12, 64])\n",
            "bert_model.layer.3.rel_attn.o torch.Size([768, 12, 64])\n",
            "bert_model.layer.3.rel_attn.r torch.Size([768, 12, 64])\n",
            "bert_model.layer.3.rel_attn.r_r_bias torch.Size([12, 64])\n",
            "bert_model.layer.3.rel_attn.r_s_bias torch.Size([12, 64])\n",
            "bert_model.layer.3.rel_attn.r_w_bias torch.Size([12, 64])\n",
            "bert_model.layer.3.rel_attn.seg_embed torch.Size([2, 12, 64])\n",
            "bert_model.layer.3.rel_attn.layer_norm.weight torch.Size([768])\n",
            "bert_model.layer.3.rel_attn.layer_norm.bias torch.Size([768])\n",
            "bert_model.layer.3.ff.layer_norm.weight torch.Size([768])\n",
            "bert_model.layer.3.ff.layer_norm.bias torch.Size([768])\n",
            "bert_model.layer.3.ff.layer_1.weight torch.Size([3072, 768])\n",
            "bert_model.layer.3.ff.layer_1.bias torch.Size([3072])\n",
            "bert_model.layer.3.ff.layer_2.weight torch.Size([768, 3072])\n",
            "bert_model.layer.3.ff.layer_2.bias torch.Size([768])\n",
            "bert_model.layer.4.rel_attn.q torch.Size([768, 12, 64])\n",
            "bert_model.layer.4.rel_attn.k torch.Size([768, 12, 64])\n",
            "bert_model.layer.4.rel_attn.v torch.Size([768, 12, 64])\n",
            "bert_model.layer.4.rel_attn.o torch.Size([768, 12, 64])\n",
            "bert_model.layer.4.rel_attn.r torch.Size([768, 12, 64])\n",
            "bert_model.layer.4.rel_attn.r_r_bias torch.Size([12, 64])\n",
            "bert_model.layer.4.rel_attn.r_s_bias torch.Size([12, 64])\n",
            "bert_model.layer.4.rel_attn.r_w_bias torch.Size([12, 64])\n",
            "bert_model.layer.4.rel_attn.seg_embed torch.Size([2, 12, 64])\n",
            "bert_model.layer.4.rel_attn.layer_norm.weight torch.Size([768])\n",
            "bert_model.layer.4.rel_attn.layer_norm.bias torch.Size([768])\n",
            "bert_model.layer.4.ff.layer_norm.weight torch.Size([768])\n",
            "bert_model.layer.4.ff.layer_norm.bias torch.Size([768])\n",
            "bert_model.layer.4.ff.layer_1.weight torch.Size([3072, 768])\n",
            "bert_model.layer.4.ff.layer_1.bias torch.Size([3072])\n",
            "bert_model.layer.4.ff.layer_2.weight torch.Size([768, 3072])\n",
            "bert_model.layer.4.ff.layer_2.bias torch.Size([768])\n",
            "bert_model.layer.5.rel_attn.q torch.Size([768, 12, 64])\n",
            "bert_model.layer.5.rel_attn.k torch.Size([768, 12, 64])\n",
            "bert_model.layer.5.rel_attn.v torch.Size([768, 12, 64])\n",
            "bert_model.layer.5.rel_attn.o torch.Size([768, 12, 64])\n",
            "bert_model.layer.5.rel_attn.r torch.Size([768, 12, 64])\n",
            "bert_model.layer.5.rel_attn.r_r_bias torch.Size([12, 64])\n",
            "bert_model.layer.5.rel_attn.r_s_bias torch.Size([12, 64])\n",
            "bert_model.layer.5.rel_attn.r_w_bias torch.Size([12, 64])\n",
            "bert_model.layer.5.rel_attn.seg_embed torch.Size([2, 12, 64])\n",
            "bert_model.layer.5.rel_attn.layer_norm.weight torch.Size([768])\n",
            "bert_model.layer.5.rel_attn.layer_norm.bias torch.Size([768])\n",
            "bert_model.layer.5.ff.layer_norm.weight torch.Size([768])\n",
            "bert_model.layer.5.ff.layer_norm.bias torch.Size([768])\n",
            "bert_model.layer.5.ff.layer_1.weight torch.Size([3072, 768])\n",
            "bert_model.layer.5.ff.layer_1.bias torch.Size([3072])\n",
            "bert_model.layer.5.ff.layer_2.weight torch.Size([768, 3072])\n",
            "bert_model.layer.5.ff.layer_2.bias torch.Size([768])\n",
            "bert_model.layer.6.rel_attn.q torch.Size([768, 12, 64])\n",
            "bert_model.layer.6.rel_attn.k torch.Size([768, 12, 64])\n",
            "bert_model.layer.6.rel_attn.v torch.Size([768, 12, 64])\n",
            "bert_model.layer.6.rel_attn.o torch.Size([768, 12, 64])\n",
            "bert_model.layer.6.rel_attn.r torch.Size([768, 12, 64])\n",
            "bert_model.layer.6.rel_attn.r_r_bias torch.Size([12, 64])\n",
            "bert_model.layer.6.rel_attn.r_s_bias torch.Size([12, 64])\n",
            "bert_model.layer.6.rel_attn.r_w_bias torch.Size([12, 64])\n",
            "bert_model.layer.6.rel_attn.seg_embed torch.Size([2, 12, 64])\n",
            "bert_model.layer.6.rel_attn.layer_norm.weight torch.Size([768])\n",
            "bert_model.layer.6.rel_attn.layer_norm.bias torch.Size([768])\n",
            "bert_model.layer.6.ff.layer_norm.weight torch.Size([768])\n",
            "bert_model.layer.6.ff.layer_norm.bias torch.Size([768])\n",
            "bert_model.layer.6.ff.layer_1.weight torch.Size([3072, 768])\n",
            "bert_model.layer.6.ff.layer_1.bias torch.Size([3072])\n",
            "bert_model.layer.6.ff.layer_2.weight torch.Size([768, 3072])\n",
            "bert_model.layer.6.ff.layer_2.bias torch.Size([768])\n",
            "bert_model.layer.7.rel_attn.q torch.Size([768, 12, 64])\n",
            "bert_model.layer.7.rel_attn.k torch.Size([768, 12, 64])\n",
            "bert_model.layer.7.rel_attn.v torch.Size([768, 12, 64])\n",
            "bert_model.layer.7.rel_attn.o torch.Size([768, 12, 64])\n",
            "bert_model.layer.7.rel_attn.r torch.Size([768, 12, 64])\n",
            "bert_model.layer.7.rel_attn.r_r_bias torch.Size([12, 64])\n",
            "bert_model.layer.7.rel_attn.r_s_bias torch.Size([12, 64])\n",
            "bert_model.layer.7.rel_attn.r_w_bias torch.Size([12, 64])\n",
            "bert_model.layer.7.rel_attn.seg_embed torch.Size([2, 12, 64])\n",
            "bert_model.layer.7.rel_attn.layer_norm.weight torch.Size([768])\n",
            "bert_model.layer.7.rel_attn.layer_norm.bias torch.Size([768])\n",
            "bert_model.layer.7.ff.layer_norm.weight torch.Size([768])\n",
            "bert_model.layer.7.ff.layer_norm.bias torch.Size([768])\n",
            "bert_model.layer.7.ff.layer_1.weight torch.Size([3072, 768])\n",
            "bert_model.layer.7.ff.layer_1.bias torch.Size([3072])\n",
            "bert_model.layer.7.ff.layer_2.weight torch.Size([768, 3072])\n",
            "bert_model.layer.7.ff.layer_2.bias torch.Size([768])\n",
            "bert_model.layer.8.rel_attn.q torch.Size([768, 12, 64])\n",
            "bert_model.layer.8.rel_attn.k torch.Size([768, 12, 64])\n",
            "bert_model.layer.8.rel_attn.v torch.Size([768, 12, 64])\n",
            "bert_model.layer.8.rel_attn.o torch.Size([768, 12, 64])\n",
            "bert_model.layer.8.rel_attn.r torch.Size([768, 12, 64])\n",
            "bert_model.layer.8.rel_attn.r_r_bias torch.Size([12, 64])\n",
            "bert_model.layer.8.rel_attn.r_s_bias torch.Size([12, 64])\n",
            "bert_model.layer.8.rel_attn.r_w_bias torch.Size([12, 64])\n",
            "bert_model.layer.8.rel_attn.seg_embed torch.Size([2, 12, 64])\n",
            "bert_model.layer.8.rel_attn.layer_norm.weight torch.Size([768])\n",
            "bert_model.layer.8.rel_attn.layer_norm.bias torch.Size([768])\n",
            "bert_model.layer.8.ff.layer_norm.weight torch.Size([768])\n",
            "bert_model.layer.8.ff.layer_norm.bias torch.Size([768])\n",
            "bert_model.layer.8.ff.layer_1.weight torch.Size([3072, 768])\n",
            "bert_model.layer.8.ff.layer_1.bias torch.Size([3072])\n",
            "bert_model.layer.8.ff.layer_2.weight torch.Size([768, 3072])\n",
            "bert_model.layer.8.ff.layer_2.bias torch.Size([768])\n",
            "bert_model.layer.9.rel_attn.q torch.Size([768, 12, 64])\n",
            "bert_model.layer.9.rel_attn.k torch.Size([768, 12, 64])\n",
            "bert_model.layer.9.rel_attn.v torch.Size([768, 12, 64])\n",
            "bert_model.layer.9.rel_attn.o torch.Size([768, 12, 64])\n",
            "bert_model.layer.9.rel_attn.r torch.Size([768, 12, 64])\n",
            "bert_model.layer.9.rel_attn.r_r_bias torch.Size([12, 64])\n",
            "bert_model.layer.9.rel_attn.r_s_bias torch.Size([12, 64])\n",
            "bert_model.layer.9.rel_attn.r_w_bias torch.Size([12, 64])\n",
            "bert_model.layer.9.rel_attn.seg_embed torch.Size([2, 12, 64])\n",
            "bert_model.layer.9.rel_attn.layer_norm.weight torch.Size([768])\n",
            "bert_model.layer.9.rel_attn.layer_norm.bias torch.Size([768])\n",
            "bert_model.layer.9.ff.layer_norm.weight torch.Size([768])\n",
            "bert_model.layer.9.ff.layer_norm.bias torch.Size([768])\n",
            "bert_model.layer.9.ff.layer_1.weight torch.Size([3072, 768])\n",
            "bert_model.layer.9.ff.layer_1.bias torch.Size([3072])\n",
            "bert_model.layer.9.ff.layer_2.weight torch.Size([768, 3072])\n",
            "bert_model.layer.9.ff.layer_2.bias torch.Size([768])\n",
            "bert_model.layer.10.rel_attn.q torch.Size([768, 12, 64])\n",
            "bert_model.layer.10.rel_attn.k torch.Size([768, 12, 64])\n",
            "bert_model.layer.10.rel_attn.v torch.Size([768, 12, 64])\n",
            "bert_model.layer.10.rel_attn.o torch.Size([768, 12, 64])\n",
            "bert_model.layer.10.rel_attn.r torch.Size([768, 12, 64])\n",
            "bert_model.layer.10.rel_attn.r_r_bias torch.Size([12, 64])\n",
            "bert_model.layer.10.rel_attn.r_s_bias torch.Size([12, 64])\n",
            "bert_model.layer.10.rel_attn.r_w_bias torch.Size([12, 64])\n",
            "bert_model.layer.10.rel_attn.seg_embed torch.Size([2, 12, 64])\n",
            "bert_model.layer.10.rel_attn.layer_norm.weight torch.Size([768])\n",
            "bert_model.layer.10.rel_attn.layer_norm.bias torch.Size([768])\n",
            "bert_model.layer.10.ff.layer_norm.weight torch.Size([768])\n",
            "bert_model.layer.10.ff.layer_norm.bias torch.Size([768])\n",
            "bert_model.layer.10.ff.layer_1.weight torch.Size([3072, 768])\n",
            "bert_model.layer.10.ff.layer_1.bias torch.Size([3072])\n",
            "bert_model.layer.10.ff.layer_2.weight torch.Size([768, 3072])\n",
            "bert_model.layer.10.ff.layer_2.bias torch.Size([768])\n",
            "bert_model.layer.11.rel_attn.q torch.Size([768, 12, 64])\n",
            "bert_model.layer.11.rel_attn.k torch.Size([768, 12, 64])\n",
            "bert_model.layer.11.rel_attn.v torch.Size([768, 12, 64])\n",
            "bert_model.layer.11.rel_attn.o torch.Size([768, 12, 64])\n",
            "bert_model.layer.11.rel_attn.r torch.Size([768, 12, 64])\n",
            "bert_model.layer.11.rel_attn.r_r_bias torch.Size([12, 64])\n",
            "bert_model.layer.11.rel_attn.r_s_bias torch.Size([12, 64])\n",
            "bert_model.layer.11.rel_attn.r_w_bias torch.Size([12, 64])\n",
            "bert_model.layer.11.rel_attn.seg_embed torch.Size([2, 12, 64])\n",
            "bert_model.layer.11.rel_attn.layer_norm.weight torch.Size([768])\n",
            "bert_model.layer.11.rel_attn.layer_norm.bias torch.Size([768])\n",
            "bert_model.layer.11.ff.layer_norm.weight torch.Size([768])\n",
            "bert_model.layer.11.ff.layer_norm.bias torch.Size([768])\n",
            "bert_model.layer.11.ff.layer_1.weight torch.Size([3072, 768])\n",
            "bert_model.layer.11.ff.layer_1.bias torch.Size([3072])\n",
            "bert_model.layer.11.ff.layer_2.weight torch.Size([768, 3072])\n",
            "bert_model.layer.11.ff.layer_2.bias torch.Size([768])\n",
            "fc.weight torch.Size([20, 768])\n",
            "fc.bias torch.Size([20])\n"
          ],
          "name": "stdout"
        }
      ]
    },
    {
      "cell_type": "code",
      "metadata": {
        "colab": {
          "base_uri": "https://localhost:8080/"
        },
        "id": "qbNhEhe4PL8t",
        "outputId": "52b4f7ea-910d-4f89-f45a-6ae7fbce6377"
      },
      "source": [
        "import random\n",
        "\n",
        "seed = 123\n",
        "\n",
        "random.seed(seed)\n",
        "np.random.seed(seed)\n",
        "torch.manual_seed(seed)\n",
        "torch.cuda.manual_seed_all(seed)\n",
        "\n",
        "learning_rate = 0.001\n",
        "epochs=10\n",
        "\n",
        "# STEP 5: INSTANTIATE LOSS CLASS\n",
        "criterion = nn.CrossEntropyLoss()\n",
        "\n",
        "# STEP 6: INSTANTIATE OPTIMIZER CLASS\n",
        "\n",
        "optimizer = torch.optim.Adam(model.parameters(), lr=learning_rate)\n",
        "\n",
        "# Freeze embedding Layer\n",
        "\n",
        "#freeze embeddings\n",
        "#model.embed.weight.requires_grad  = False\n",
        "\n",
        "# STEP 7: TRAIN THE MODEL\n",
        "\n",
        "train_losses= np.zeros(epochs)\n",
        "valid_losses= np.zeros(epochs)\n",
        "\n",
        "\n",
        "for epoch in range(epochs):\n",
        "  \n",
        "  t0= datetime.now()\n",
        "  train_loss=[]\n",
        "  \n",
        "  model.train()\n",
        "  for batch in train_dataloader:\n",
        "   \n",
        "    # forward pass\n",
        "    output= model(batch[0].to(device))\n",
        "    loss=criterion(output,batch[2].to(device))\n",
        "\n",
        "    # set gradients to zero \n",
        "    optimizer.zero_grad()\n",
        "\n",
        "    # backward pass\n",
        "    loss.backward()\n",
        "    optimizer.step()\n",
        "    train_loss.append(loss.item())\n",
        "  \n",
        "  train_loss=np.mean(train_loss)\n",
        "      \n",
        "  valid_loss=[]\n",
        "  model.eval()\n",
        "  with torch.no_grad():\n",
        "    for batch in validation_dataloader:\n",
        " \n",
        "      # forward pass\n",
        "      output= model(batch[0].to(device))\n",
        "      loss=criterion(output,batch[2].to(device))\n",
        "      \n",
        "      valid_loss.append(loss.item())\n",
        "\n",
        "    valid_loss=np.mean(valid_loss)\n",
        "  \n",
        "  # save Losses\n",
        "  train_losses[epoch]= train_loss\n",
        "  valid_losses[epoch]= valid_loss\n",
        "  dt= datetime.now()-t0\n",
        "  print(f'Epoch {epoch+1}/{epochs}, Train Loss: {train_loss:.4f}    Valid Loss: {valid_loss:.4f}, Duration: {dt}')"
      ],
      "execution_count": 25,
      "outputs": [
        {
          "output_type": "stream",
          "text": [
            "Epoch 1/10, Train Loss: 3.5173    Valid Loss: 2.8577, Duration: 0:00:42.563540\n",
            "Epoch 2/10, Train Loss: 3.3863    Valid Loss: 2.7111, Duration: 0:00:43.053556\n",
            "Epoch 3/10, Train Loss: 3.3450    Valid Loss: 2.7488, Duration: 0:00:43.140066\n",
            "Epoch 4/10, Train Loss: 3.3610    Valid Loss: 2.7833, Duration: 0:00:43.226663\n",
            "Epoch 5/10, Train Loss: 3.3945    Valid Loss: 2.8700, Duration: 0:00:43.207317\n",
            "Epoch 6/10, Train Loss: 3.3625    Valid Loss: 2.8428, Duration: 0:00:43.233899\n",
            "Epoch 7/10, Train Loss: 3.3979    Valid Loss: 2.7324, Duration: 0:00:43.238347\n",
            "Epoch 8/10, Train Loss: 3.4011    Valid Loss: 2.6344, Duration: 0:00:43.202970\n",
            "Epoch 9/10, Train Loss: 3.4075    Valid Loss: 2.7247, Duration: 0:00:43.184335\n",
            "Epoch 10/10, Train Loss: 3.4261    Valid Loss: 2.6287, Duration: 0:00:43.196169\n"
          ],
          "name": "stdout"
        }
      ]
    },
    {
      "cell_type": "code",
      "metadata": {
        "id": "mEemAE_aPS1s"
      },
      "source": [
        "# Accuracy- write a function to get accuracy\n",
        "# use this function to get accuracy and print accuracy\n",
        "def get_accuracy(data_iter, model):\n",
        "  model.eval()\n",
        "  with torch.no_grad():\n",
        "    correct =0 \n",
        "    total =0\n",
        "    \n",
        "    for batch in data_iter:\n",
        "\n",
        "      output=model(batch[0].to(device))\n",
        "      _,indices = torch.max(output,dim=1)\n",
        "      correct+= (batch[2].to(device)==indices).sum().item()\n",
        "      total += batch[2].shape[0]\n",
        "    \n",
        "    acc= correct/total\n",
        "\n",
        "    return acc"
      ],
      "execution_count": 26,
      "outputs": []
    },
    {
      "cell_type": "code",
      "metadata": {
        "colab": {
          "base_uri": "https://localhost:8080/"
        },
        "id": "mqSxTbpgPWpM",
        "outputId": "83dfdaa8-dac2-4f72-c612-0c4eaead7a1d"
      },
      "source": [
        "train_acc = get_accuracy(train_dataloader, model)\n",
        "valid_acc = get_accuracy(validation_dataloader, model)\n",
        "test_acc = get_accuracy(test_dataloader ,model)\n",
        "print(f'Train acc: {train_acc:.4f},\\t Valid acc: {valid_acc:.4f},\\t Test acc: {test_acc:.4f}')"
      ],
      "execution_count": 27,
      "outputs": [
        {
          "output_type": "stream",
          "text": [
            "Train acc: 0.3389,\t Valid acc: 0.2686,\t Test acc: 0.2593\n"
          ],
          "name": "stdout"
        }
      ]
    },
    {
      "cell_type": "code",
      "metadata": {
        "id": "z9P8ecAVPY-4"
      },
      "source": [
        "# Write a function to get predictions\n",
        "\n",
        "def get_predictions(test_iter, model):\n",
        "  model.eval()\n",
        "  with torch.no_grad():\n",
        "    predictions= np.array([])\n",
        "    y_test= np.array([])\n",
        "\n",
        "    for batch in test_iter:\n",
        "      \n",
        "      output=model(batch[0].to(device))\n",
        "      _,indices = torch.max(output,dim=1)\n",
        "      predictions=np.concatenate((predictions,indices.cpu().numpy())) \n",
        "      y_test = np.concatenate((y_test,batch[2].numpy())) \n",
        "      \n",
        "  return y_test, predictions"
      ],
      "execution_count": 28,
      "outputs": []
    },
    {
      "cell_type": "code",
      "metadata": {
        "id": "QMtCseNNPcSx"
      },
      "source": [
        "y_test, predictions=get_predictions(test_dataloader, model)"
      ],
      "execution_count": 29,
      "outputs": []
    },
    {
      "cell_type": "code",
      "metadata": {
        "colab": {
          "base_uri": "https://localhost:8080/"
        },
        "id": "QiRamnIOPeY7",
        "outputId": "926d2b8a-0cfd-448b-d486-e2cf21260b28"
      },
      "source": [
        "# Confusion Matrix\n",
        "cm=confusion_matrix(y_test,predictions)\n",
        "cm"
      ],
      "execution_count": 30,
      "outputs": [
        {
          "output_type": "execute_result",
          "data": {
            "text/plain": [
              "array([[ 19,   3,  10,   3,  42,  13,  10,  20,  10,   0,   9,  22,   2,\n",
              "         29,   2,  54,  34,  15,  13,   9],\n",
              "       [  0,  26,  64,  29,  58,  60,  42,  13,   4,   0,   0,  21,  30,\n",
              "         11,   5,   6,   9,   6,   3,   2],\n",
              "       [  1,  14,  84,  50,  63,  66,  21,  21,   8,   2,   0,  19,  15,\n",
              "          5,   2,   6,   9,   2,   5,   1],\n",
              "       [  0,   5,  52,  97,  73,  22,  45,  14,   7,   1,   2,  15,  32,\n",
              "          2,   1,   2,  11,   0,   4,   7],\n",
              "       [  0,   5,  51,  73,  98,  17,  48,  20,   0,   1,   1,  13,  24,\n",
              "         12,   3,   0,  13,   0,   5,   1],\n",
              "       [  1,  18,  62,  26,  48, 133,  33,   6,   5,   0,   4,  22,  14,\n",
              "          2,   1,   3,   7,   3,   6,   1],\n",
              "       [  0,   4,  19,  25,  30,   9, 253,  15,   3,   1,   5,   3,  11,\n",
              "          3,   0,   1,   5,   0,   2,   1],\n",
              "       [  2,   4,  27,  16,  42,   9,  43, 121,  39,   3,   8,   5,  23,\n",
              "         13,   0,   2,  31,   3,   4,   1],\n",
              "       [  1,   5,  27,  20,  63,  12,  42,  48,  81,   5,   3,  13,  10,\n",
              "         16,   2,   4,  33,   0,  12,   1],\n",
              "       [  1,   1,  27,   5,  36,  13,  34,  31,  29,  66,  38,  18,   6,\n",
              "         19,   3,  12,  44,   3,   7,   4],\n",
              "       [  1,   2,  22,   2,  41,  10,  27,  31,  25,  20, 129,   7,   7,\n",
              "         17,   2,   4,  35,   9,   6,   2],\n",
              "       [  1,   6,  23,  13,  55,  29,  15,  20,   8,   5,   3, 123,  10,\n",
              "         16,   1,  13,  31,  12,  11,   1],\n",
              "       [  1,   6,  46,  24,  68,  19,  35,  31,   8,   2,   4,  30,  75,\n",
              "         21,   3,   1,  14,   0,   5,   0],\n",
              "       [  3,  11,  13,   6,  32,   8,  18,  28,  32,   1,   3,  10,   9,\n",
              "        152,   2,  22,  31,   5,   6,   4],\n",
              "       [  1,   8,  22,   9,  58,  10,  25,  28,  15,   4,   4,  35,  33,\n",
              "         34,  58,  11,  27,   5,   5,   2],\n",
              "       [  6,   0,  10,   6,  42,   9,   5,  18,  10,   1,   5,  15,   4,\n",
              "         30,   1, 176,  35,   7,   5,  13],\n",
              "       [  1,   3,  19,   5,  47,   9,  15,  25,  23,   3,   5,  25,   6,\n",
              "         34,   1,   9, 105,  15,   8,   6],\n",
              "       [  2,   4,  11,   6,  32,   5,  10,  15,  14,   5,   3,  14,   4,\n",
              "         31,   3,  26,  53, 120,   5,  13],\n",
              "       [  5,   0,  14,   3,  22,  10,   9,  18,  11,   3,   4,  22,   2,\n",
              "         28,   1,   7,  99,  22,  23,   7],\n",
              "       [  5,   4,  17,   5,  23,  11,   9,  14,  12,   3,   1,  11,   2,\n",
              "         18,   2,  51,  33,   7,   9,  14]])"
            ]
          },
          "metadata": {
            "tags": []
          },
          "execution_count": 30
        }
      ]
    },
    {
      "cell_type": "code",
      "metadata": {
        "id": "5Y8qVpTVPgjc"
      },
      "source": [
        "# Write a function to print confusion matrix\n",
        "# plot confusion matrix\n",
        "# need to import confusion_matrix from sklearn for this function to work\n",
        "# need to import seaborn as sns\n",
        "# import seaborn as sns\n",
        "# import matplotlib.pyplot as plt\n",
        "# from sklearn.metrics import confusion_matrix\n",
        "\n",
        "def plot_confusion_matrix(y_true,y_pred,normalize=None):\n",
        "  cm=confusion_matrix(y_true,y_pred,normalize=normalize)\n",
        "  fig, ax = plt.subplots(figsize=(6,5))\n",
        "  if normalize == None:\n",
        "    fmt='d'\n",
        "    fig.suptitle('Confusion matrix without Normalization', fontsize=12)\n",
        "        \n",
        "  else :\n",
        "    fmt='0.2f'\n",
        "    fig.suptitle('Normalized confusion matrix', fontsize=12)\n",
        "    \n",
        "  ax=sns.heatmap(cm,cmap=plt.cm.Blues,annot=True,fmt=fmt)\n",
        "  ax.axhline(y=0, color='k',linewidth=1)\n",
        "  ax.axhline(y=cm.shape[1], color='k',linewidth=2)\n",
        "  ax.axvline(x=0, color='k',linewidth=1)\n",
        "  ax.axvline(x=cm.shape[0], color='k',linewidth=2)\n",
        " \n",
        "  ax.set_xlabel('Predicted label', fontsize=12)\n",
        "  ax.set_ylabel('True label', fontsize=12)"
      ],
      "execution_count": 31,
      "outputs": []
    },
    {
      "cell_type": "code",
      "metadata": {
        "colab": {
          "base_uri": "https://localhost:8080/",
          "height": 373
        },
        "id": "vGCxda-6Pkmp",
        "outputId": "3f1b33c5-a6c5-4493-da37-0faef1572d52"
      },
      "source": [
        "plot_confusion_matrix(y_test,predictions)"
      ],
      "execution_count": 32,
      "outputs": [
        {
          "output_type": "display_data",
          "data": {
            "image/png": "[encoded data removed]",
            "text/plain": [
              "<Figure size 432x360 with 2 Axes>"
            ]
          },
          "metadata": {
            "tags": [],
            "needs_background": "light"
          }
        }
      ]
    },
    {
      "cell_type": "markdown",
      "metadata": {
        "id": "yblW-SNLRwMp"
      },
      "source": [
        "#Finetuning the pre-trained XLNet Model\n",
        "\n",
        "\n"
      ]
    },
    {
      "cell_type": "code",
      "metadata": {
        "id": "gFsCTp_mporB",
        "colab": {
          "base_uri": "https://localhost:8080/"
        },
        "outputId": "d1fad4c9-0e16-4500-882d-b95e09c1bbc5"
      },
      "source": [
        "from transformers import XLNetForSequenceClassification, AdamW, XLNetConfig\n",
        "\n",
        "# Load BertForSequenceClassification, the pretrained BERT model with a single \n",
        "# linear classification layer on top. \n",
        "model = XLNetForSequenceClassification.from_pretrained(\n",
        "    \"xlnet-base-cased\", # Use the 12-layer Robera model, with an uncased vocab.\n",
        "    num_labels = 20, # The number of output labels   \n",
        "    output_attentions = False, # Whether the model returns attentions weights.\n",
        "    output_hidden_states = False, # Whether the model returns all hidden-states.\n",
        ")\n"
      ],
      "execution_count": 33,
      "outputs": [
        {
          "output_type": "stream",
          "text": [
            "Some weights of the model checkpoint at xlnet-base-cased were not used when initializing XLNetForSequenceClassification: ['lm_loss.weight', 'lm_loss.bias']\n",
            "- This IS expected if you are initializing XLNetForSequenceClassification from the checkpoint of a model trained on another task or with another architecture (e.g. initializing a BertForSequenceClassification model from a BertForPreTraining model).\n",
            "- This IS NOT expected if you are initializing XLNetForSequenceClassification from the checkpoint of a model that you expect to be exactly identical (initializing a BertForSequenceClassification model from a BertForSequenceClassification model).\n",
            "Some weights of XLNetForSequenceClassification were not initialized from the model checkpoint at xlnet-base-cased and are newly initialized: ['sequence_summary.summary.weight', 'sequence_summary.summary.bias', 'logits_proj.weight', 'logits_proj.bias']\n",
            "You should probably TRAIN this model on a down-stream task to be able to use it for predictions and inference.\n"
          ],
          "name": "stderr"
        }
      ]
    },
    {
      "cell_type": "code",
      "metadata": {
        "id": "QPi4OXjQv-6h",
        "colab": {
          "base_uri": "https://localhost:8080/"
        },
        "outputId": "45c4ff69-c8a7-4277-93c5-2591e20b3dc9"
      },
      "source": [
        "device = torch.device('cuda:0' if torch.cuda.is_available() else 'cpu') \n",
        "device\n"
      ],
      "execution_count": 34,
      "outputs": [
        {
          "output_type": "execute_result",
          "data": {
            "text/plain": [
              "device(type='cuda', index=0)"
            ]
          },
          "metadata": {
            "tags": []
          },
          "execution_count": 34
        }
      ]
    },
    {
      "cell_type": "code",
      "metadata": {
        "id": "Au9vSy4Uvugh",
        "colab": {
          "base_uri": "https://localhost:8080/"
        },
        "outputId": "8d4aacc6-5c61-423a-92cd-865faab8bb2b"
      },
      "source": [
        "# Tell pytorch to run this model on the GPU.\n",
        "model.to(device)"
      ],
      "execution_count": 35,
      "outputs": [
        {
          "output_type": "execute_result",
          "data": {
            "text/plain": [
              "XLNetForSequenceClassification(\n",
              "  (transformer): XLNetModel(\n",
              "    (word_embedding): Embedding(32000, 768)\n",
              "    (layer): ModuleList(\n",
              "      (0): XLNetLayer(\n",
              "        (rel_attn): XLNetRelativeAttention(\n",
              "          (layer_norm): LayerNorm((768,), eps=1e-12, elementwise_affine=True)\n",
              "          (dropout): Dropout(p=0.1, inplace=False)\n",
              "        )\n",
              "        (ff): XLNetFeedForward(\n",
              "          (layer_norm): LayerNorm((768,), eps=1e-12, elementwise_affine=True)\n",
              "          (layer_1): Linear(in_features=768, out_features=3072, bias=True)\n",
              "          (layer_2): Linear(in_features=3072, out_features=768, bias=True)\n",
              "          (dropout): Dropout(p=0.1, inplace=False)\n",
              "        )\n",
              "        (dropout): Dropout(p=0.1, inplace=False)\n",
              "      )\n",
              "      (1): XLNetLayer(\n",
              "        (rel_attn): XLNetRelativeAttention(\n",
              "          (layer_norm): LayerNorm((768,), eps=1e-12, elementwise_affine=True)\n",
              "          (dropout): Dropout(p=0.1, inplace=False)\n",
              "        )\n",
              "        (ff): XLNetFeedForward(\n",
              "          (layer_norm): LayerNorm((768,), eps=1e-12, elementwise_affine=True)\n",
              "          (layer_1): Linear(in_features=768, out_features=3072, bias=True)\n",
              "          (layer_2): Linear(in_features=3072, out_features=768, bias=True)\n",
              "          (dropout): Dropout(p=0.1, inplace=False)\n",
              "        )\n",
              "        (dropout): Dropout(p=0.1, inplace=False)\n",
              "      )\n",
              "      (2): XLNetLayer(\n",
              "        (rel_attn): XLNetRelativeAttention(\n",
              "          (layer_norm): LayerNorm((768,), eps=1e-12, elementwise_affine=True)\n",
              "          (dropout): Dropout(p=0.1, inplace=False)\n",
              "        )\n",
              "        (ff): XLNetFeedForward(\n",
              "          (layer_norm): LayerNorm((768,), eps=1e-12, elementwise_affine=True)\n",
              "          (layer_1): Linear(in_features=768, out_features=3072, bias=True)\n",
              "          (layer_2): Linear(in_features=3072, out_features=768, bias=True)\n",
              "          (dropout): Dropout(p=0.1, inplace=False)\n",
              "        )\n",
              "        (dropout): Dropout(p=0.1, inplace=False)\n",
              "      )\n",
              "      (3): XLNetLayer(\n",
              "        (rel_attn): XLNetRelativeAttention(\n",
              "          (layer_norm): LayerNorm((768,), eps=1e-12, elementwise_affine=True)\n",
              "          (dropout): Dropout(p=0.1, inplace=False)\n",
              "        )\n",
              "        (ff): XLNetFeedForward(\n",
              "          (layer_norm): LayerNorm((768,), eps=1e-12, elementwise_affine=True)\n",
              "          (layer_1): Linear(in_features=768, out_features=3072, bias=True)\n",
              "          (layer_2): Linear(in_features=3072, out_features=768, bias=True)\n",
              "          (dropout): Dropout(p=0.1, inplace=False)\n",
              "        )\n",
              "        (dropout): Dropout(p=0.1, inplace=False)\n",
              "      )\n",
              "      (4): XLNetLayer(\n",
              "        (rel_attn): XLNetRelativeAttention(\n",
              "          (layer_norm): LayerNorm((768,), eps=1e-12, elementwise_affine=True)\n",
              "          (dropout): Dropout(p=0.1, inplace=False)\n",
              "        )\n",
              "        (ff): XLNetFeedForward(\n",
              "          (layer_norm): LayerNorm((768,), eps=1e-12, elementwise_affine=True)\n",
              "          (layer_1): Linear(in_features=768, out_features=3072, bias=True)\n",
              "          (layer_2): Linear(in_features=3072, out_features=768, bias=True)\n",
              "          (dropout): Dropout(p=0.1, inplace=False)\n",
              "        )\n",
              "        (dropout): Dropout(p=0.1, inplace=False)\n",
              "      )\n",
              "      (5): XLNetLayer(\n",
              "        (rel_attn): XLNetRelativeAttention(\n",
              "          (layer_norm): LayerNorm((768,), eps=1e-12, elementwise_affine=True)\n",
              "          (dropout): Dropout(p=0.1, inplace=False)\n",
              "        )\n",
              "        (ff): XLNetFeedForward(\n",
              "          (layer_norm): LayerNorm((768,), eps=1e-12, elementwise_affine=True)\n",
              "          (layer_1): Linear(in_features=768, out_features=3072, bias=True)\n",
              "          (layer_2): Linear(in_features=3072, out_features=768, bias=True)\n",
              "          (dropout): Dropout(p=0.1, inplace=False)\n",
              "        )\n",
              "        (dropout): Dropout(p=0.1, inplace=False)\n",
              "      )\n",
              "      (6): XLNetLayer(\n",
              "        (rel_attn): XLNetRelativeAttention(\n",
              "          (layer_norm): LayerNorm((768,), eps=1e-12, elementwise_affine=True)\n",
              "          (dropout): Dropout(p=0.1, inplace=False)\n",
              "        )\n",
              "        (ff): XLNetFeedForward(\n",
              "          (layer_norm): LayerNorm((768,), eps=1e-12, elementwise_affine=True)\n",
              "          (layer_1): Linear(in_features=768, out_features=3072, bias=True)\n",
              "          (layer_2): Linear(in_features=3072, out_features=768, bias=True)\n",
              "          (dropout): Dropout(p=0.1, inplace=False)\n",
              "        )\n",
              "        (dropout): Dropout(p=0.1, inplace=False)\n",
              "      )\n",
              "      (7): XLNetLayer(\n",
              "        (rel_attn): XLNetRelativeAttention(\n",
              "          (layer_norm): LayerNorm((768,), eps=1e-12, elementwise_affine=True)\n",
              "          (dropout): Dropout(p=0.1, inplace=False)\n",
              "        )\n",
              "        (ff): XLNetFeedForward(\n",
              "          (layer_norm): LayerNorm((768,), eps=1e-12, elementwise_affine=True)\n",
              "          (layer_1): Linear(in_features=768, out_features=3072, bias=True)\n",
              "          (layer_2): Linear(in_features=3072, out_features=768, bias=True)\n",
              "          (dropout): Dropout(p=0.1, inplace=False)\n",
              "        )\n",
              "        (dropout): Dropout(p=0.1, inplace=False)\n",
              "      )\n",
              "      (8): XLNetLayer(\n",
              "        (rel_attn): XLNetRelativeAttention(\n",
              "          (layer_norm): LayerNorm((768,), eps=1e-12, elementwise_affine=True)\n",
              "          (dropout): Dropout(p=0.1, inplace=False)\n",
              "        )\n",
              "        (ff): XLNetFeedForward(\n",
              "          (layer_norm): LayerNorm((768,), eps=1e-12, elementwise_affine=True)\n",
              "          (layer_1): Linear(in_features=768, out_features=3072, bias=True)\n",
              "          (layer_2): Linear(in_features=3072, out_features=768, bias=True)\n",
              "          (dropout): Dropout(p=0.1, inplace=False)\n",
              "        )\n",
              "        (dropout): Dropout(p=0.1, inplace=False)\n",
              "      )\n",
              "      (9): XLNetLayer(\n",
              "        (rel_attn): XLNetRelativeAttention(\n",
              "          (layer_norm): LayerNorm((768,), eps=1e-12, elementwise_affine=True)\n",
              "          (dropout): Dropout(p=0.1, inplace=False)\n",
              "        )\n",
              "        (ff): XLNetFeedForward(\n",
              "          (layer_norm): LayerNorm((768,), eps=1e-12, elementwise_affine=True)\n",
              "          (layer_1): Linear(in_features=768, out_features=3072, bias=True)\n",
              "          (layer_2): Linear(in_features=3072, out_features=768, bias=True)\n",
              "          (dropout): Dropout(p=0.1, inplace=False)\n",
              "        )\n",
              "        (dropout): Dropout(p=0.1, inplace=False)\n",
              "      )\n",
              "      (10): XLNetLayer(\n",
              "        (rel_attn): XLNetRelativeAttention(\n",
              "          (layer_norm): LayerNorm((768,), eps=1e-12, elementwise_affine=True)\n",
              "          (dropout): Dropout(p=0.1, inplace=False)\n",
              "        )\n",
              "        (ff): XLNetFeedForward(\n",
              "          (layer_norm): LayerNorm((768,), eps=1e-12, elementwise_affine=True)\n",
              "          (layer_1): Linear(in_features=768, out_features=3072, bias=True)\n",
              "          (layer_2): Linear(in_features=3072, out_features=768, bias=True)\n",
              "          (dropout): Dropout(p=0.1, inplace=False)\n",
              "        )\n",
              "        (dropout): Dropout(p=0.1, inplace=False)\n",
              "      )\n",
              "      (11): XLNetLayer(\n",
              "        (rel_attn): XLNetRelativeAttention(\n",
              "          (layer_norm): LayerNorm((768,), eps=1e-12, elementwise_affine=True)\n",
              "          (dropout): Dropout(p=0.1, inplace=False)\n",
              "        )\n",
              "        (ff): XLNetFeedForward(\n",
              "          (layer_norm): LayerNorm((768,), eps=1e-12, elementwise_affine=True)\n",
              "          (layer_1): Linear(in_features=768, out_features=3072, bias=True)\n",
              "          (layer_2): Linear(in_features=3072, out_features=768, bias=True)\n",
              "          (dropout): Dropout(p=0.1, inplace=False)\n",
              "        )\n",
              "        (dropout): Dropout(p=0.1, inplace=False)\n",
              "      )\n",
              "    )\n",
              "    (dropout): Dropout(p=0.1, inplace=False)\n",
              "  )\n",
              "  (sequence_summary): SequenceSummary(\n",
              "    (summary): Linear(in_features=768, out_features=768, bias=True)\n",
              "    (first_dropout): Identity()\n",
              "    (last_dropout): Dropout(p=0.1, inplace=False)\n",
              "  )\n",
              "  (logits_proj): Linear(in_features=768, out_features=20, bias=True)\n",
              ")"
            ]
          },
          "metadata": {
            "tags": []
          },
          "execution_count": 35
        }
      ]
    },
    {
      "cell_type": "markdown",
      "metadata": {
        "id": "e0Jv6c7-HHDW"
      },
      "source": [
        "Just for curiosity's sake, we can browse all of the model's parameters by name here.\n",
        "\n",
        "In the below cell, I've printed out the names and dimensions of the weights for:\n",
        "\n",
        "1. The embedding layer.\n",
        "2. The first of the twelve transformers.\n",
        "3. The output layer.\n",
        "\n",
        "\n"
      ]
    },
    {
      "cell_type": "code",
      "metadata": {
        "id": "8PIiVlDYCtSq",
        "colab": {
          "base_uri": "https://localhost:8080/"
        },
        "outputId": "2bed553c-ddfa-40a9-c390-5afc166a5ea5"
      },
      "source": [
        "# Get all of the model's parameters as a list of tuples.\n",
        "params = list(model.named_parameters())\n",
        "\n",
        "print('The BERT model has {:} different named parameters.\\n'.format(len(params)))\n",
        "\n",
        "print('==== Embedding Layer ====\\n')\n",
        "\n",
        "for p in params[0:5]:\n",
        "    print(\"{:<55} {:>12}\".format(p[0], str(tuple(p[1].size()))))\n",
        "\n",
        "print('\\n==== First Transformer ====\\n')\n",
        "\n",
        "for p in params[5:21]:\n",
        "    print(\"{:<55} {:>12}\".format(p[0], str(tuple(p[1].size()))))\n",
        "\n",
        "print('\\n==== Output Layer ====\\n')\n",
        "\n",
        "for p in params[-4:]:\n",
        "    print(\"{:<55} {:>12}\".format(p[0], str(tuple(p[1].size()))))"
      ],
      "execution_count": 36,
      "outputs": [
        {
          "output_type": "stream",
          "text": [
            "The BERT model has 210 different named parameters.\n",
            "\n",
            "==== Embedding Layer ====\n",
            "\n",
            "transformer.mask_emb                                     (1, 1, 768)\n",
            "transformer.word_embedding.weight                       (32000, 768)\n",
            "transformer.layer.0.rel_attn.q                          (768, 12, 64)\n",
            "transformer.layer.0.rel_attn.k                          (768, 12, 64)\n",
            "transformer.layer.0.rel_attn.v                          (768, 12, 64)\n",
            "\n",
            "==== First Transformer ====\n",
            "\n",
            "transformer.layer.0.rel_attn.o                          (768, 12, 64)\n",
            "transformer.layer.0.rel_attn.r                          (768, 12, 64)\n",
            "transformer.layer.0.rel_attn.r_r_bias                       (12, 64)\n",
            "transformer.layer.0.rel_attn.r_s_bias                       (12, 64)\n",
            "transformer.layer.0.rel_attn.r_w_bias                       (12, 64)\n",
            "transformer.layer.0.rel_attn.seg_embed                   (2, 12, 64)\n",
            "transformer.layer.0.rel_attn.layer_norm.weight                (768,)\n",
            "transformer.layer.0.rel_attn.layer_norm.bias                  (768,)\n",
            "transformer.layer.0.ff.layer_norm.weight                      (768,)\n",
            "transformer.layer.0.ff.layer_norm.bias                        (768,)\n",
            "transformer.layer.0.ff.layer_1.weight                    (3072, 768)\n",
            "transformer.layer.0.ff.layer_1.bias                          (3072,)\n",
            "transformer.layer.0.ff.layer_2.weight                    (768, 3072)\n",
            "transformer.layer.0.ff.layer_2.bias                           (768,)\n",
            "transformer.layer.1.rel_attn.q                          (768, 12, 64)\n",
            "transformer.layer.1.rel_attn.k                          (768, 12, 64)\n",
            "\n",
            "==== Output Layer ====\n",
            "\n",
            "sequence_summary.summary.weight                           (768, 768)\n",
            "sequence_summary.summary.bias                                 (768,)\n",
            "logits_proj.weight                                         (20, 768)\n",
            "logits_proj.bias                                               (20,)\n"
          ],
          "name": "stdout"
        }
      ]
    },
    {
      "cell_type": "markdown",
      "metadata": {
        "id": "qRWT-D4U_Pvx"
      },
      "source": [
        "## 4.2. Optimizer & Learning Rate Scheduler"
      ]
    },
    {
      "cell_type": "markdown",
      "metadata": {
        "id": "8o-VEBobKwHk"
      },
      "source": [
        "Now that we have our model loaded we need to grab the training hyperparameters from within the stored model.\n",
        "\n",
        "For the purposes of fine-tuning, the authors recommend choosing from the following values (from Appendix A.3 of the [BERT paper](https://arxiv.org/pdf/1810.04805.pdf)):\n",
        "\n",
        ">- **Batch size:** 16, 32  \n",
        "- **Learning rate (Adam):** 5e-5, 3e-5, 2e-5  \n",
        "- **Number of epochs:** 2, 3, 4 \n",
        "\n",
        "We chose:\n",
        "* Batch size: 32 (set when creating our DataLoaders)\n",
        "* Learning rate: 2e-5\n",
        "* Epochs: 4 (we'll see that this is probably too many...)\n",
        "\n",
        "The epsilon parameter `eps = 1e-8` is \"a very small number to prevent any division by zero in the implementation\" (from [here](https://machinelearningmastery.com/adam-optimization-algorithm-for-deep-learning/)).\n",
        "\n",
        "You can find the creation of the AdamW optimizer in `run_glue.py` [here](https://github.com/huggingface/transformers/blob/5bfcd0485ece086ebcbed2d008813037968a9e58/examples/run_glue.py#L109)."
      ]
    },
    {
      "cell_type": "markdown",
      "metadata": {
        "id": "RqfmWwUR_Sox"
      },
      "source": [
        "## 4.3. Training Loop"
      ]
    },
    {
      "cell_type": "markdown",
      "metadata": {
        "id": "pE5B99H5H2-W"
      },
      "source": [
        "Define a helper function for calculating accuracy."
      ]
    },
    {
      "cell_type": "markdown",
      "metadata": {
        "id": "KNhRtWPXH9C3"
      },
      "source": [
        "Helper function for formatting elapsed times as `hh:mm:ss`\n"
      ]
    },
    {
      "cell_type": "markdown",
      "metadata": {
        "id": "cfNIhN19te3N"
      },
      "source": [
        "We're ready to kick off the training!"
      ]
    },
    {
      "cell_type": "code",
      "metadata": {
        "id": "S31Yr1JN7DGV"
      },
      "source": [
        "# STEP 6: INSTANTIATE OPTIMIZER CLASS\n",
        "epochs = 2\n",
        "no_decay = ['bias', 'LayerNorm.weight']\n",
        "optimizer_grouped_parameters = [\n",
        "        {'params': [p for n, p in model.named_parameters() \n",
        "          if not any(nd in n for nd in no_decay)], \n",
        "         'weight_decay': 0.5},\n",
        "\n",
        "        {'params': [p for n, p in model.named_parameters() \n",
        "        if any(nd in n for nd in no_decay)], \n",
        "         'weight_decay': 0.0}\n",
        "        ]\n",
        "\n",
        "optimizer = AdamW(optimizer_grouped_parameters,\n",
        "                  lr = 5e-5, \n",
        "                  eps = 1e-8 \n",
        "                )\n",
        "\n",
        "no_decay = ['bias', 'LayerNorm.weight']\n",
        "\n",
        "\n",
        "\n",
        "from transformers import get_linear_schedule_with_warmup\n",
        "\n",
        "# Total number of training steps is [number of batches] x [number of epochs]. \n",
        "total_steps = len(train_dataloader) * epochs\n",
        "\n",
        "# Create the learning rate scheduler.\n",
        "scheduler = get_linear_schedule_with_warmup(optimizer, \n",
        "                                            num_warmup_steps = 0, # Default value in run_glue.py\n",
        "                                            num_training_steps = total_steps)"
      ],
      "execution_count": 37,
      "outputs": []
    },
    {
      "cell_type": "code",
      "metadata": {
        "id": "6J-FYdx6nFE_",
        "colab": {
          "base_uri": "https://localhost:8080/"
        },
        "outputId": "0e71212f-ca4c-4d05-f3cd-fec0c7ea94e1"
      },
      "source": [
        "import random\n",
        "from datetime import datetime\n",
        "\n",
        "seed = 123\n",
        "\n",
        "random.seed(seed)\n",
        "np.random.seed(seed)\n",
        "torch.manual_seed(seed)\n",
        "torch.cuda.manual_seed_all(seed)\n",
        "\n",
        "epochs = 2\n",
        "\n",
        "# STEP 7: TRAIN THE MODEL\n",
        "\n",
        "train_losses= np.zeros(epochs)\n",
        "valid_losses= np.zeros(epochs)\n",
        "\n",
        "\n",
        "for epoch in range(epochs):\n",
        "  \n",
        "  t0= datetime.now()\n",
        "  train_loss=[]\n",
        "  \n",
        "  model.train()\n",
        "  for batch in train_dataloader:  \n",
        "    b_input_ids = batch[0]\n",
        "    b_input_mask = batch[1]\n",
        "    b_labels = batch[2]\n",
        "    # forward pass\n",
        "\n",
        "    outputs = model(b_input_ids.to(device), \n",
        "                        token_type_ids=None, \n",
        "                        attention_mask=b_input_mask.to(device), \n",
        "                        labels=b_labels.to(device))\n",
        "\n",
        "\n",
        "    # set gradients to zero \n",
        "    optimizer.zero_grad()\n",
        "    # backward pass\n",
        "    outputs.loss.backward()\n",
        "    torch.nn.utils.clip_grad_norm_(model.parameters(), 1.0)\n",
        "    optimizer.step()\n",
        "    scheduler.step()\n",
        "    train_loss.append(outputs.loss.item())\n",
        "  \n",
        "  train_loss=np.mean(train_loss)\n",
        "      \n",
        "  valid_loss=[]\n",
        "  model.eval()\n",
        "  with torch.no_grad():\n",
        "    for batch in validation_dataloader:\n",
        " \n",
        "      # forward pass\n",
        "      b_input_ids = batch[0].to(device)\n",
        "      b_input_mask = batch[1].to(device)\n",
        "      b_labels = batch[2].to(device)\n",
        "    # forward pass\n",
        "\n",
        "      outputs = model(b_input_ids, \n",
        "                          token_type_ids=None, \n",
        "                          attention_mask=b_input_mask, \n",
        "                          labels=b_labels)\n",
        "      \n",
        "      valid_loss.append(outputs.loss.item())\n",
        "\n",
        "    valid_loss=np.mean(valid_loss)\n",
        "  \n",
        "  # save Losses\n",
        "  train_losses[epoch]= train_loss\n",
        "  valid_losses[epoch]= valid_loss\n",
        "  dt= datetime.now()-t0\n",
        "  print(f'Epoch {epoch+1}/{epochs}, Train Loss: {train_loss:.4f}    Valid Loss: {valid_loss:.4f}, Duration: {dt}')"
      ],
      "execution_count": 38,
      "outputs": [
        {
          "output_type": "stream",
          "text": [
            "Epoch 1/2, Train Loss: 1.4028    Valid Loss: 1.1523, Duration: 0:02:25.167743\n",
            "Epoch 2/2, Train Loss: 0.7679    Valid Loss: 1.0338, Duration: 0:02:25.047346\n"
          ],
          "name": "stdout"
        }
      ]
    },
    {
      "cell_type": "code",
      "metadata": {
        "id": "GXGS2lguch__"
      },
      "source": [
        "# Accuracy- write a function to get accuracy\n",
        "# use this function to get accuracy and print accuracy\n",
        "def get_accuracy(data_iter, model):\n",
        "  model.eval()\n",
        "  with torch.no_grad():\n",
        "    correct =0 \n",
        "    total =0\n",
        "    \n",
        "    for batch in data_iter:\n",
        "\n",
        "      b_input_ids = batch[0].to(device)\n",
        "      b_input_mask = batch[1].to(device)\n",
        "      b_labels = batch[2].to(device)\n",
        "    # forward pass\n",
        "\n",
        "      outputs = model(b_input_ids, \n",
        "                          token_type_ids=None, \n",
        "                          attention_mask=b_input_mask, \n",
        "                          labels=b_labels)\n",
        "\n",
        "      _,indices = torch.max(outputs.logits,dim=1)\n",
        "      correct+= (b_labels==indices).sum().item()\n",
        "      total += b_labels.shape[0]\n",
        "    \n",
        "    acc= correct/total\n",
        "\n",
        "    return acc"
      ],
      "execution_count": 39,
      "outputs": []
    },
    {
      "cell_type": "code",
      "metadata": {
        "id": "jORGlh3sc6sF"
      },
      "source": [
        "train_acc = get_accuracy(train_dataloader, model)\n",
        "valid_acc = get_accuracy(validation_dataloader, model)\n",
        "test_acc = get_accuracy(test_dataloader, model)"
      ],
      "execution_count": 40,
      "outputs": []
    },
    {
      "cell_type": "code",
      "metadata": {
        "id": "2MYTpwnkdX_g",
        "colab": {
          "base_uri": "https://localhost:8080/"
        },
        "outputId": "6526252a-cdcc-410c-d2ce-c72f74d9e697"
      },
      "source": [
        "print(f'Train acc: {train_acc:.4f},\\t Valid acc: {valid_acc:.4f},\\t Test acc: {test_acc:.4f}')"
      ],
      "execution_count": 41,
      "outputs": [
        {
          "output_type": "stream",
          "text": [
            "Train acc: 0.8517,\t Valid acc: 0.6935,\t Test acc: 0.6771\n"
          ],
          "name": "stdout"
        }
      ]
    },
    {
      "cell_type": "code",
      "metadata": {
        "id": "kNhcjLa-dxx1"
      },
      "source": [
        "# Write a function to get predictions\n",
        "def get_predictions(data_iter, model):\n",
        "  model.eval()\n",
        "  with torch.no_grad():\n",
        "    predictions= np.array([])\n",
        "    y_test= np.array([])\n",
        "\n",
        "    for batch in data_iter:\n",
        "      \n",
        "      b_input_ids = batch[0].to(device)\n",
        "      b_input_mask = batch[1].to(device)\n",
        "      b_labels = batch[2].to(device)\n",
        "    # forward pass\n",
        "\n",
        "      outputs = model(b_input_ids, \n",
        "                          token_type_ids=None, \n",
        "                          attention_mask=b_input_mask, \n",
        "                          labels=b_labels)\n",
        "      \n",
        "      _,indices = torch.max(outputs.logits,dim=1)\n",
        "      predictions=np.concatenate((predictions,indices.cpu().numpy())) \n",
        "      y_test = np.concatenate((y_test,b_labels.cpu().numpy())) \n",
        "      \n",
        "  return y_test, predictions"
      ],
      "execution_count": 42,
      "outputs": []
    },
    {
      "cell_type": "code",
      "metadata": {
        "id": "woupMtYpeVBn"
      },
      "source": [
        "y_valid, predictions=get_predictions(validation_dataloader, model)"
      ],
      "execution_count": 43,
      "outputs": []
    },
    {
      "cell_type": "code",
      "metadata": {
        "id": "J80SoMYRelAw",
        "colab": {
          "base_uri": "https://localhost:8080/"
        },
        "outputId": "38d80855-982d-4e55-d8cc-40c9cdc15096"
      },
      "source": [
        "predictions.max()"
      ],
      "execution_count": 44,
      "outputs": [
        {
          "output_type": "execute_result",
          "data": {
            "text/plain": [
              "19.0"
            ]
          },
          "metadata": {
            "tags": []
          },
          "execution_count": 44
        }
      ]
    },
    {
      "cell_type": "code",
      "metadata": {
        "id": "DLNI1soZeoZR",
        "colab": {
          "base_uri": "https://localhost:8080/"
        },
        "outputId": "78c0d256-e27e-48ed-bde7-71f459266452"
      },
      "source": [
        "# Confusion Matrix\n",
        "from sklearn.metrics import confusion_matrix\n",
        "cm=confusion_matrix(y_valid,predictions)\n",
        "cm"
      ],
      "execution_count": 45,
      "outputs": [
        {
          "output_type": "execute_result",
          "data": {
            "text/plain": [
              "array([[32,  0,  0,  0,  0,  0,  0,  4,  0,  0,  1,  1,  0,  0,  1,  7,\n",
              "         0,  0,  1,  1],\n",
              "       [ 0, 36,  7,  1,  0,  4,  0,  0,  0,  1,  0,  0,  2,  0,  3,  0,\n",
              "         0,  1,  0,  0],\n",
              "       [ 0,  1, 33,  6,  0,  4,  1,  2,  1,  1,  0,  2,  2,  1,  0,  1,\n",
              "         0,  0,  0,  0],\n",
              "       [ 0,  1,  7, 52,  3,  0,  2,  4,  0,  0,  0,  0,  4,  0,  0,  1,\n",
              "         0,  0,  0,  0],\n",
              "       [ 1,  3,  2,  7, 31,  0,  3,  4,  0,  0,  0,  0,  6,  0,  0,  1,\n",
              "         0,  0,  0,  0],\n",
              "       [ 0,  3,  6,  0,  0, 52,  0,  0,  0,  0,  0,  1,  0,  0,  0,  0,\n",
              "         0,  2,  0,  1],\n",
              "       [ 0,  1,  1,  1,  0,  0, 49,  5,  1,  0,  1,  0,  0,  0,  0,  0,\n",
              "         0,  0,  0,  0],\n",
              "       [ 0,  0,  0,  1,  0,  0,  0, 42,  9,  0,  0,  0,  1,  0,  0,  0,\n",
              "         4,  0,  3,  0],\n",
              "       [ 0,  0,  0,  0,  0,  0,  1,  7, 43,  1,  0,  1,  2,  1,  2,  0,\n",
              "         3,  1,  0,  0],\n",
              "       [ 0,  0,  0,  0,  0,  1,  0,  4,  1, 44,  6,  0,  1,  0,  1,  0,\n",
              "         0,  1,  0,  0],\n",
              "       [ 0,  0,  0,  0,  0,  1,  0,  0,  3,  3, 50,  1,  0,  0,  0,  0,\n",
              "         0,  0,  0,  1],\n",
              "       [ 0,  1,  1,  0,  0,  1,  0,  0,  0,  1,  0, 44,  0,  1,  1,  1,\n",
              "         1,  2,  6,  0],\n",
              "       [ 1,  1,  0,  3,  0,  2,  3,  0,  2,  0,  0,  1, 28,  1,  0,  0,\n",
              "         1,  0,  0,  0],\n",
              "       [ 0,  1,  1,  1,  0,  0,  0,  1,  1,  0,  0,  0,  0, 48,  2,  0,\n",
              "         0,  0,  1,  0],\n",
              "       [ 0,  1,  0,  1,  0,  0,  0,  1,  3,  2,  0,  2,  1,  1, 32,  0,\n",
              "         0,  0,  0,  0],\n",
              "       [ 8,  0,  0,  0,  0,  0,  0,  0,  0,  0,  1,  0,  0,  2,  0, 56,\n",
              "         0,  0,  2,  2],\n",
              "       [ 1,  1,  0,  0,  0,  0,  1,  1,  0,  1,  0,  1,  0,  0,  1,  0,\n",
              "        39,  1,  9,  1],\n",
              "       [ 2,  1,  0,  0,  0,  0,  0,  1,  1,  0,  1,  0,  0,  0,  0,  1,\n",
              "         0, 41,  2,  1],\n",
              "       [ 4,  0,  0,  0,  0,  0,  0,  1,  2,  0,  2,  2,  0,  2,  1,  2,\n",
              "         2,  6, 30,  0],\n",
              "       [11,  0,  1,  0,  0,  0,  0,  2,  1,  0,  1,  1,  0,  1,  2, 10,\n",
              "         6,  1,  2,  3]])"
            ]
          },
          "metadata": {
            "tags": []
          },
          "execution_count": 45
        }
      ]
    },
    {
      "cell_type": "code",
      "metadata": {
        "id": "CiM8lvk2e2mh"
      },
      "source": [
        "import seaborn as sns\n",
        "import matplotlib.pyplot as plt\n",
        "from sklearn.metrics import confusion_matrix\n",
        "\n",
        "def plot_confusion_matrix(y_true,y_pred,normalize=None):\n",
        "  cm=confusion_matrix(y_true,y_pred,normalize=normalize)\n",
        "  fig, ax = plt.subplots(figsize=(6,5))\n",
        "  if normalize == None:\n",
        "    fmt='d'\n",
        "    fig.suptitle('Confusion matrix without Normalization', fontsize=12)\n",
        "        \n",
        "  else :\n",
        "    fmt='0.2f'\n",
        "    fig.suptitle('Normalized confusion matrix', fontsize=12)\n",
        "    \n",
        "  ax=sns.heatmap(cm,cmap=plt.cm.Blues,annot=True,fmt=fmt)\n",
        "  ax.axhline(y=0, color='k',linewidth=1)\n",
        "  ax.axhline(y=cm.shape[1], color='k',linewidth=2)\n",
        "  ax.axvline(x=0, color='k',linewidth=1)\n",
        "  ax.axvline(x=cm.shape[0], color='k',linewidth=2)\n",
        " \n",
        "  ax.set_xlabel('Predicted label', fontsize=12)\n",
        "  ax.set_ylabel('True label', fontsize=12)"
      ],
      "execution_count": 46,
      "outputs": []
    },
    {
      "cell_type": "code",
      "metadata": {
        "id": "eHqvmICSfnPZ",
        "colab": {
          "base_uri": "https://localhost:8080/",
          "height": 373
        },
        "outputId": "f1241b35-3480-488c-b1ec-0249f9a832d2"
      },
      "source": [
        "plot_confusion_matrix(y_valid,predictions)"
      ],
      "execution_count": 47,
      "outputs": [
        {
          "output_type": "display_data",
          "data": {
            "image/png": "[encoded data removed]",
            "text/plain": [
              "<Figure size 432x360 with 2 Axes>"
            ]
          },
          "metadata": {
            "tags": [],
            "needs_background": "light"
          }
        }
      ]
    }
  ]
}